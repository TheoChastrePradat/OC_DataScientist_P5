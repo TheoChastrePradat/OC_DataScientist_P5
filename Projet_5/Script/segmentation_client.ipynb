{
 "cells": [
  {
   "cell_type": "code",
   "execution_count": 1,
   "id": "802cac6c",
   "metadata": {},
   "outputs": [],
   "source": [
    "import sqlite3\n",
    "import numpy as np\n",
    "import pandas as pd\n",
    "import seaborn as sns\n",
    "import matplotlib as mpl\n",
    "from datetime import datetime\n",
    "import matplotlib.pyplot as plt\n",
    "from sklearn.cluster import DBSCAN\n",
    "from sklearn.decomposition import PCA\n",
    "from sklearn.metrics import adjusted_rand_score\n",
    "from sklearn.preprocessing import StandardScaler\n",
    "\n",
    "\n",
    "from sklearn.cluster import KMeans\n",
    "from sklearn.datasets import make_blobs\n",
    "from sklearn.cluster import AgglomerativeClustering\n",
    "from yellowbrick.cluster import KElbowVisualizer, SilhouetteVisualizer"
   ]
  },
  {
   "cell_type": "markdown",
   "id": "e8d8bbb4",
   "metadata": {},
   "source": [
    "## Connexion à la base SQLite"
   ]
  },
  {
   "cell_type": "code",
   "execution_count": 2,
   "id": "ddf4c15d",
   "metadata": {},
   "outputs": [],
   "source": [
    "conn = sqlite3.connect(\"../Source/olist.db\")"
   ]
  },
  {
   "cell_type": "markdown",
   "id": "e04dd7e4",
   "metadata": {},
   "source": [
    "## Nous allons charger les tables pertinentes (customers, orders, order_items, order_reviews, order_pymts..)\n",
    "## Fusionner les données pour avoir un client = une ligne"
   ]
  },
  {
   "cell_type": "markdown",
   "id": "002f9919",
   "metadata": {},
   "source": [
    "### Execution d'une requete dans une string et l'utiliser au travers d'une fonction pandas query sql"
   ]
  },
  {
   "cell_type": "code",
   "execution_count": 3,
   "id": "446e5e24",
   "metadata": {},
   "outputs": [],
   "source": [
    "query = \"\"\"\n",
    "SELECT\n",
    "    c.customer_unique_id,\n",
    "    COUNT(DISTINCT o.order_id) AS nb_orders,\n",
    "    MIN(o.order_purchase_timestamp) AS first_order_date,\n",
    "    MAX(o.order_purchase_timestamp) AS last_order_date,\n",
    "    ROUND(SUM(oi.price + oi.freight_value), 2) AS total_spent,\n",
    "    AVG(r.review_score) AS avg_review_score,\n",
    "    COUNT(DISTINCT op.payment_type) AS nb_payment_types\n",
    "FROM customers c\n",
    "JOIN orders o ON c.customer_id = o.customer_id\n",
    "LEFT JOIN order_items oi ON o.order_id = oi.order_id\n",
    "LEFT JOIN order_reviews r ON o.order_id = r.order_id\n",
    "LEFT JOIN order_pymts op ON o.order_id = op.order_id\n",
    "WHERE o.order_purchase_timestamp BETWEEN \"{min_dt}\" AND \"{max_dt}\"\n",
    "GROUP BY c.customer_unique_id;\n",
    "\"\"\""
   ]
  },
  {
   "cell_type": "code",
   "execution_count": 4,
   "id": "63042588",
   "metadata": {},
   "outputs": [
    {
     "name": "stdout",
     "output_type": "stream",
     "text": [
      "\n",
      "SELECT\n",
      "    c.customer_unique_id,\n",
      "    COUNT(DISTINCT o.order_id) AS nb_orders,\n",
      "    MIN(o.order_purchase_timestamp) AS first_order_date,\n",
      "    MAX(o.order_purchase_timestamp) AS last_order_date,\n",
      "    ROUND(SUM(oi.price + oi.freight_value), 2) AS total_spent,\n",
      "    AVG(r.review_score) AS avg_review_score,\n",
      "    COUNT(DISTINCT op.payment_type) AS nb_payment_types\n",
      "FROM customers c\n",
      "JOIN orders o ON c.customer_id = o.customer_id\n",
      "LEFT JOIN order_items oi ON o.order_id = oi.order_id\n",
      "LEFT JOIN order_reviews r ON o.order_id = r.order_id\n",
      "LEFT JOIN order_pymts op ON o.order_id = op.order_id\n",
      "WHERE o.order_purchase_timestamp BETWEEN \"2016-09-04\" AND \"2018-10-17\"\n",
      "GROUP BY c.customer_unique_id;\n",
      "\n"
     ]
    }
   ],
   "source": [
    "print(query.format(min_dt='2016-09-04', max_dt='2018-10-17'))"
   ]
  },
  {
   "cell_type": "code",
   "execution_count": 5,
   "id": "dbbe262a",
   "metadata": {},
   "outputs": [],
   "source": [
    "df_clients = pd.read_sql_query(query.format(min_dt='2016-09-04', max_dt='2018-10-17'), conn)"
   ]
  },
  {
   "cell_type": "code",
   "execution_count": 6,
   "id": "b6ba3590",
   "metadata": {},
   "outputs": [
    {
     "data": {
      "text/html": [
       "<div>\n",
       "<style scoped>\n",
       "    .dataframe tbody tr th:only-of-type {\n",
       "        vertical-align: middle;\n",
       "    }\n",
       "\n",
       "    .dataframe tbody tr th {\n",
       "        vertical-align: top;\n",
       "    }\n",
       "\n",
       "    .dataframe thead th {\n",
       "        text-align: right;\n",
       "    }\n",
       "</style>\n",
       "<table border=\"1\" class=\"dataframe\">\n",
       "  <thead>\n",
       "    <tr style=\"text-align: right;\">\n",
       "      <th></th>\n",
       "      <th>customer_unique_id</th>\n",
       "      <th>nb_orders</th>\n",
       "      <th>first_order_date</th>\n",
       "      <th>last_order_date</th>\n",
       "      <th>total_spent</th>\n",
       "      <th>avg_review_score</th>\n",
       "      <th>nb_payment_types</th>\n",
       "    </tr>\n",
       "  </thead>\n",
       "  <tbody>\n",
       "    <tr>\n",
       "      <th>0</th>\n",
       "      <td>0000366f3b9a7992bf8c76cfdf3221e2</td>\n",
       "      <td>1</td>\n",
       "      <td>2018-05-10 10:56:27</td>\n",
       "      <td>2018-05-10 10:56:27</td>\n",
       "      <td>141.90</td>\n",
       "      <td>5.0</td>\n",
       "      <td>1</td>\n",
       "    </tr>\n",
       "    <tr>\n",
       "      <th>1</th>\n",
       "      <td>0000b849f77a49e4a4ce2b2a4ca5be3f</td>\n",
       "      <td>1</td>\n",
       "      <td>2018-05-07 11:11:27</td>\n",
       "      <td>2018-05-07 11:11:27</td>\n",
       "      <td>27.19</td>\n",
       "      <td>4.0</td>\n",
       "      <td>1</td>\n",
       "    </tr>\n",
       "    <tr>\n",
       "      <th>2</th>\n",
       "      <td>0000f46a3911fa3c0805444483337064</td>\n",
       "      <td>1</td>\n",
       "      <td>2017-03-10 21:05:03</td>\n",
       "      <td>2017-03-10 21:05:03</td>\n",
       "      <td>86.22</td>\n",
       "      <td>3.0</td>\n",
       "      <td>1</td>\n",
       "    </tr>\n",
       "    <tr>\n",
       "      <th>3</th>\n",
       "      <td>0000f6ccb0745a6a4b88665a16c9f078</td>\n",
       "      <td>1</td>\n",
       "      <td>2017-10-12 20:29:41</td>\n",
       "      <td>2017-10-12 20:29:41</td>\n",
       "      <td>43.62</td>\n",
       "      <td>4.0</td>\n",
       "      <td>1</td>\n",
       "    </tr>\n",
       "    <tr>\n",
       "      <th>4</th>\n",
       "      <td>0004aac84e0df4da2b147fca70cf8255</td>\n",
       "      <td>1</td>\n",
       "      <td>2017-11-14 19:45:42</td>\n",
       "      <td>2017-11-14 19:45:42</td>\n",
       "      <td>196.89</td>\n",
       "      <td>5.0</td>\n",
       "      <td>1</td>\n",
       "    </tr>\n",
       "    <tr>\n",
       "      <th>...</th>\n",
       "      <td>...</td>\n",
       "      <td>...</td>\n",
       "      <td>...</td>\n",
       "      <td>...</td>\n",
       "      <td>...</td>\n",
       "      <td>...</td>\n",
       "      <td>...</td>\n",
       "    </tr>\n",
       "    <tr>\n",
       "      <th>96090</th>\n",
       "      <td>fffcf5a5ff07b0908bd4e2dbc735a684</td>\n",
       "      <td>1</td>\n",
       "      <td>2017-06-08 21:00:36</td>\n",
       "      <td>2017-06-08 21:00:36</td>\n",
       "      <td>2067.42</td>\n",
       "      <td>5.0</td>\n",
       "      <td>1</td>\n",
       "    </tr>\n",
       "    <tr>\n",
       "      <th>96091</th>\n",
       "      <td>fffea47cd6d3cc0a88bd621562a9d061</td>\n",
       "      <td>1</td>\n",
       "      <td>2017-12-10 20:07:56</td>\n",
       "      <td>2017-12-10 20:07:56</td>\n",
       "      <td>84.58</td>\n",
       "      <td>4.0</td>\n",
       "      <td>1</td>\n",
       "    </tr>\n",
       "    <tr>\n",
       "      <th>96092</th>\n",
       "      <td>ffff371b4d645b6ecea244b27531430a</td>\n",
       "      <td>1</td>\n",
       "      <td>2017-02-07 15:49:16</td>\n",
       "      <td>2017-02-07 15:49:16</td>\n",
       "      <td>112.46</td>\n",
       "      <td>5.0</td>\n",
       "      <td>1</td>\n",
       "    </tr>\n",
       "    <tr>\n",
       "      <th>96093</th>\n",
       "      <td>ffff5962728ec6157033ef9805bacc48</td>\n",
       "      <td>1</td>\n",
       "      <td>2018-05-02 15:17:41</td>\n",
       "      <td>2018-05-02 15:17:41</td>\n",
       "      <td>133.69</td>\n",
       "      <td>5.0</td>\n",
       "      <td>1</td>\n",
       "    </tr>\n",
       "    <tr>\n",
       "      <th>96094</th>\n",
       "      <td>ffffd2657e2aad2907e67c3e9daecbeb</td>\n",
       "      <td>1</td>\n",
       "      <td>2017-05-02 20:18:45</td>\n",
       "      <td>2017-05-02 20:18:45</td>\n",
       "      <td>71.56</td>\n",
       "      <td>5.0</td>\n",
       "      <td>1</td>\n",
       "    </tr>\n",
       "  </tbody>\n",
       "</table>\n",
       "<p>96095 rows × 7 columns</p>\n",
       "</div>"
      ],
      "text/plain": [
       "                     customer_unique_id  nb_orders     first_order_date  \\\n",
       "0      0000366f3b9a7992bf8c76cfdf3221e2          1  2018-05-10 10:56:27   \n",
       "1      0000b849f77a49e4a4ce2b2a4ca5be3f          1  2018-05-07 11:11:27   \n",
       "2      0000f46a3911fa3c0805444483337064          1  2017-03-10 21:05:03   \n",
       "3      0000f6ccb0745a6a4b88665a16c9f078          1  2017-10-12 20:29:41   \n",
       "4      0004aac84e0df4da2b147fca70cf8255          1  2017-11-14 19:45:42   \n",
       "...                                 ...        ...                  ...   \n",
       "96090  fffcf5a5ff07b0908bd4e2dbc735a684          1  2017-06-08 21:00:36   \n",
       "96091  fffea47cd6d3cc0a88bd621562a9d061          1  2017-12-10 20:07:56   \n",
       "96092  ffff371b4d645b6ecea244b27531430a          1  2017-02-07 15:49:16   \n",
       "96093  ffff5962728ec6157033ef9805bacc48          1  2018-05-02 15:17:41   \n",
       "96094  ffffd2657e2aad2907e67c3e9daecbeb          1  2017-05-02 20:18:45   \n",
       "\n",
       "           last_order_date  total_spent  avg_review_score  nb_payment_types  \n",
       "0      2018-05-10 10:56:27       141.90               5.0                 1  \n",
       "1      2018-05-07 11:11:27        27.19               4.0                 1  \n",
       "2      2017-03-10 21:05:03        86.22               3.0                 1  \n",
       "3      2017-10-12 20:29:41        43.62               4.0                 1  \n",
       "4      2017-11-14 19:45:42       196.89               5.0                 1  \n",
       "...                    ...          ...               ...               ...  \n",
       "96090  2017-06-08 21:00:36      2067.42               5.0                 1  \n",
       "96091  2017-12-10 20:07:56        84.58               4.0                 1  \n",
       "96092  2017-02-07 15:49:16       112.46               5.0                 1  \n",
       "96093  2018-05-02 15:17:41       133.69               5.0                 1  \n",
       "96094  2017-05-02 20:18:45        71.56               5.0                 1  \n",
       "\n",
       "[96095 rows x 7 columns]"
      ]
     },
     "execution_count": 6,
     "metadata": {},
     "output_type": "execute_result"
    }
   ],
   "source": [
    "df_clients"
   ]
  },
  {
   "cell_type": "markdown",
   "id": "1ba59d8e",
   "metadata": {},
   "source": [
    "### Nous avons donc bien un client par ligne avec plusieurs indicateurs (variables/features) importants"
   ]
  },
  {
   "cell_type": "markdown",
   "id": "c91fbe4f",
   "metadata": {},
   "source": [
    "## Nous allons maintenant enrichinir notre jeu de donnees avec d'avantage de feature"
   ]
  },
  {
   "cell_type": "markdown",
   "id": "48b86649",
   "metadata": {},
   "source": [
    "#### Ici on va stocker une date de reference, a savoir la date la plus recente"
   ]
  },
  {
   "cell_type": "code",
   "execution_count": 7,
   "id": "9f44700a",
   "metadata": {},
   "outputs": [],
   "source": [
    "reference_date = df_clients['last_order_date'].max()"
   ]
  },
  {
   "cell_type": "code",
   "execution_count": 8,
   "id": "9d76dec8",
   "metadata": {},
   "outputs": [
    {
     "data": {
      "text/plain": [
       "str"
      ]
     },
     "execution_count": 8,
     "metadata": {},
     "output_type": "execute_result"
    }
   ],
   "source": [
    "type(reference_date)"
   ]
  },
  {
   "cell_type": "markdown",
   "id": "17540e79",
   "metadata": {},
   "source": [
    "#### Nous convertissons notre date de reference au format datetime pour mieux la manipuler avec les autres colonnes"
   ]
  },
  {
   "cell_type": "code",
   "execution_count": 9,
   "id": "3a39db58",
   "metadata": {},
   "outputs": [],
   "source": [
    "reference_date = datetime.strptime(reference_date, \"%Y-%m-%d %H:%M:%S\")\n",
    "reference_date = pd.to_datetime(reference_date)"
   ]
  },
  {
   "cell_type": "code",
   "execution_count": 10,
   "id": "d74fea51",
   "metadata": {},
   "outputs": [
    {
     "data": {
      "text/plain": [
       "Timestamp('2018-10-16 20:16:02')"
      ]
     },
     "execution_count": 10,
     "metadata": {},
     "output_type": "execute_result"
    }
   ],
   "source": [
    "type(reference_date)\n",
    "reference_date"
   ]
  },
  {
   "cell_type": "code",
   "execution_count": 11,
   "id": "0a8cff9d",
   "metadata": {},
   "outputs": [],
   "source": [
    "df_clients['last_order_date'] = pd.to_datetime(df_clients['last_order_date'])\n",
    "df_clients['first_order_date'] = pd.to_datetime(df_clients['first_order_date'])"
   ]
  },
  {
   "cell_type": "code",
   "execution_count": 12,
   "id": "69407886",
   "metadata": {},
   "outputs": [
    {
     "name": "stdout",
     "output_type": "stream",
     "text": [
      "<class 'pandas.core.frame.DataFrame'>\n",
      "RangeIndex: 96095 entries, 0 to 96094\n",
      "Data columns (total 7 columns):\n",
      " #   Column              Non-Null Count  Dtype         \n",
      "---  ------              --------------  -----         \n",
      " 0   customer_unique_id  96095 non-null  object        \n",
      " 1   nb_orders           96095 non-null  int64         \n",
      " 2   first_order_date    96095 non-null  datetime64[ns]\n",
      " 3   last_order_date     96095 non-null  datetime64[ns]\n",
      " 4   total_spent         95420 non-null  float64       \n",
      " 5   avg_review_score    95379 non-null  float64       \n",
      " 6   nb_payment_types    96095 non-null  int64         \n",
      "dtypes: datetime64[ns](2), float64(2), int64(2), object(1)\n",
      "memory usage: 5.1+ MB\n"
     ]
    }
   ],
   "source": [
    "df_clients.info()"
   ]
  },
  {
   "cell_type": "code",
   "execution_count": 13,
   "id": "098b75e9",
   "metadata": {},
   "outputs": [],
   "source": [
    "df_clients['recency'] = (reference_date - df_clients['last_order_date']).dt.days"
   ]
  },
  {
   "cell_type": "markdown",
   "id": "432f7dfe",
   "metadata": {},
   "source": [
    "### Nous venons donc de creer une nouvelle variable \"recency\" qui nous donne la recence des commandes pour nos clients. Un des parametre du RFM"
   ]
  },
  {
   "cell_type": "code",
   "execution_count": 14,
   "id": "119f50b7",
   "metadata": {},
   "outputs": [
    {
     "data": {
      "text/html": [
       "<div>\n",
       "<style scoped>\n",
       "    .dataframe tbody tr th:only-of-type {\n",
       "        vertical-align: middle;\n",
       "    }\n",
       "\n",
       "    .dataframe tbody tr th {\n",
       "        vertical-align: top;\n",
       "    }\n",
       "\n",
       "    .dataframe thead th {\n",
       "        text-align: right;\n",
       "    }\n",
       "</style>\n",
       "<table border=\"1\" class=\"dataframe\">\n",
       "  <thead>\n",
       "    <tr style=\"text-align: right;\">\n",
       "      <th></th>\n",
       "      <th>customer_unique_id</th>\n",
       "      <th>nb_orders</th>\n",
       "      <th>first_order_date</th>\n",
       "      <th>last_order_date</th>\n",
       "      <th>total_spent</th>\n",
       "      <th>avg_review_score</th>\n",
       "      <th>nb_payment_types</th>\n",
       "      <th>recency</th>\n",
       "    </tr>\n",
       "  </thead>\n",
       "  <tbody>\n",
       "    <tr>\n",
       "      <th>0</th>\n",
       "      <td>0000366f3b9a7992bf8c76cfdf3221e2</td>\n",
       "      <td>1</td>\n",
       "      <td>2018-05-10 10:56:27</td>\n",
       "      <td>2018-05-10 10:56:27</td>\n",
       "      <td>141.90</td>\n",
       "      <td>5.0</td>\n",
       "      <td>1</td>\n",
       "      <td>159</td>\n",
       "    </tr>\n",
       "    <tr>\n",
       "      <th>1</th>\n",
       "      <td>0000b849f77a49e4a4ce2b2a4ca5be3f</td>\n",
       "      <td>1</td>\n",
       "      <td>2018-05-07 11:11:27</td>\n",
       "      <td>2018-05-07 11:11:27</td>\n",
       "      <td>27.19</td>\n",
       "      <td>4.0</td>\n",
       "      <td>1</td>\n",
       "      <td>162</td>\n",
       "    </tr>\n",
       "    <tr>\n",
       "      <th>2</th>\n",
       "      <td>0000f46a3911fa3c0805444483337064</td>\n",
       "      <td>1</td>\n",
       "      <td>2017-03-10 21:05:03</td>\n",
       "      <td>2017-03-10 21:05:03</td>\n",
       "      <td>86.22</td>\n",
       "      <td>3.0</td>\n",
       "      <td>1</td>\n",
       "      <td>584</td>\n",
       "    </tr>\n",
       "    <tr>\n",
       "      <th>3</th>\n",
       "      <td>0000f6ccb0745a6a4b88665a16c9f078</td>\n",
       "      <td>1</td>\n",
       "      <td>2017-10-12 20:29:41</td>\n",
       "      <td>2017-10-12 20:29:41</td>\n",
       "      <td>43.62</td>\n",
       "      <td>4.0</td>\n",
       "      <td>1</td>\n",
       "      <td>368</td>\n",
       "    </tr>\n",
       "    <tr>\n",
       "      <th>4</th>\n",
       "      <td>0004aac84e0df4da2b147fca70cf8255</td>\n",
       "      <td>1</td>\n",
       "      <td>2017-11-14 19:45:42</td>\n",
       "      <td>2017-11-14 19:45:42</td>\n",
       "      <td>196.89</td>\n",
       "      <td>5.0</td>\n",
       "      <td>1</td>\n",
       "      <td>336</td>\n",
       "    </tr>\n",
       "    <tr>\n",
       "      <th>...</th>\n",
       "      <td>...</td>\n",
       "      <td>...</td>\n",
       "      <td>...</td>\n",
       "      <td>...</td>\n",
       "      <td>...</td>\n",
       "      <td>...</td>\n",
       "      <td>...</td>\n",
       "      <td>...</td>\n",
       "    </tr>\n",
       "    <tr>\n",
       "      <th>96090</th>\n",
       "      <td>fffcf5a5ff07b0908bd4e2dbc735a684</td>\n",
       "      <td>1</td>\n",
       "      <td>2017-06-08 21:00:36</td>\n",
       "      <td>2017-06-08 21:00:36</td>\n",
       "      <td>2067.42</td>\n",
       "      <td>5.0</td>\n",
       "      <td>1</td>\n",
       "      <td>494</td>\n",
       "    </tr>\n",
       "    <tr>\n",
       "      <th>96091</th>\n",
       "      <td>fffea47cd6d3cc0a88bd621562a9d061</td>\n",
       "      <td>1</td>\n",
       "      <td>2017-12-10 20:07:56</td>\n",
       "      <td>2017-12-10 20:07:56</td>\n",
       "      <td>84.58</td>\n",
       "      <td>4.0</td>\n",
       "      <td>1</td>\n",
       "      <td>310</td>\n",
       "    </tr>\n",
       "    <tr>\n",
       "      <th>96092</th>\n",
       "      <td>ffff371b4d645b6ecea244b27531430a</td>\n",
       "      <td>1</td>\n",
       "      <td>2017-02-07 15:49:16</td>\n",
       "      <td>2017-02-07 15:49:16</td>\n",
       "      <td>112.46</td>\n",
       "      <td>5.0</td>\n",
       "      <td>1</td>\n",
       "      <td>616</td>\n",
       "    </tr>\n",
       "    <tr>\n",
       "      <th>96093</th>\n",
       "      <td>ffff5962728ec6157033ef9805bacc48</td>\n",
       "      <td>1</td>\n",
       "      <td>2018-05-02 15:17:41</td>\n",
       "      <td>2018-05-02 15:17:41</td>\n",
       "      <td>133.69</td>\n",
       "      <td>5.0</td>\n",
       "      <td>1</td>\n",
       "      <td>167</td>\n",
       "    </tr>\n",
       "    <tr>\n",
       "      <th>96094</th>\n",
       "      <td>ffffd2657e2aad2907e67c3e9daecbeb</td>\n",
       "      <td>1</td>\n",
       "      <td>2017-05-02 20:18:45</td>\n",
       "      <td>2017-05-02 20:18:45</td>\n",
       "      <td>71.56</td>\n",
       "      <td>5.0</td>\n",
       "      <td>1</td>\n",
       "      <td>531</td>\n",
       "    </tr>\n",
       "  </tbody>\n",
       "</table>\n",
       "<p>96095 rows × 8 columns</p>\n",
       "</div>"
      ],
      "text/plain": [
       "                     customer_unique_id  nb_orders    first_order_date  \\\n",
       "0      0000366f3b9a7992bf8c76cfdf3221e2          1 2018-05-10 10:56:27   \n",
       "1      0000b849f77a49e4a4ce2b2a4ca5be3f          1 2018-05-07 11:11:27   \n",
       "2      0000f46a3911fa3c0805444483337064          1 2017-03-10 21:05:03   \n",
       "3      0000f6ccb0745a6a4b88665a16c9f078          1 2017-10-12 20:29:41   \n",
       "4      0004aac84e0df4da2b147fca70cf8255          1 2017-11-14 19:45:42   \n",
       "...                                 ...        ...                 ...   \n",
       "96090  fffcf5a5ff07b0908bd4e2dbc735a684          1 2017-06-08 21:00:36   \n",
       "96091  fffea47cd6d3cc0a88bd621562a9d061          1 2017-12-10 20:07:56   \n",
       "96092  ffff371b4d645b6ecea244b27531430a          1 2017-02-07 15:49:16   \n",
       "96093  ffff5962728ec6157033ef9805bacc48          1 2018-05-02 15:17:41   \n",
       "96094  ffffd2657e2aad2907e67c3e9daecbeb          1 2017-05-02 20:18:45   \n",
       "\n",
       "          last_order_date  total_spent  avg_review_score  nb_payment_types  \\\n",
       "0     2018-05-10 10:56:27       141.90               5.0                 1   \n",
       "1     2018-05-07 11:11:27        27.19               4.0                 1   \n",
       "2     2017-03-10 21:05:03        86.22               3.0                 1   \n",
       "3     2017-10-12 20:29:41        43.62               4.0                 1   \n",
       "4     2017-11-14 19:45:42       196.89               5.0                 1   \n",
       "...                   ...          ...               ...               ...   \n",
       "96090 2017-06-08 21:00:36      2067.42               5.0                 1   \n",
       "96091 2017-12-10 20:07:56        84.58               4.0                 1   \n",
       "96092 2017-02-07 15:49:16       112.46               5.0                 1   \n",
       "96093 2018-05-02 15:17:41       133.69               5.0                 1   \n",
       "96094 2017-05-02 20:18:45        71.56               5.0                 1   \n",
       "\n",
       "       recency  \n",
       "0          159  \n",
       "1          162  \n",
       "2          584  \n",
       "3          368  \n",
       "4          336  \n",
       "...        ...  \n",
       "96090      494  \n",
       "96091      310  \n",
       "96092      616  \n",
       "96093      167  \n",
       "96094      531  \n",
       "\n",
       "[96095 rows x 8 columns]"
      ]
     },
     "execution_count": 14,
     "metadata": {},
     "output_type": "execute_result"
    }
   ],
   "source": [
    "df_clients"
   ]
  },
  {
   "cell_type": "markdown",
   "id": "40c877b5",
   "metadata": {},
   "source": [
    "### Nos deux autres parametre F (Frequence) et M (montant), nous les avons deja au travers des variables suivantes :  nb_orders et total_spent"
   ]
  },
  {
   "cell_type": "markdown",
   "id": "516997ae",
   "metadata": {},
   "source": [
    "### Par contre il serait interessant de savoir quel est le delais moyen entre chaque commande pour nos clients"
   ]
  },
  {
   "cell_type": "code",
   "execution_count": 15,
   "id": "159c1845",
   "metadata": {},
   "outputs": [],
   "source": [
    "df_clients['avg_days_between_orders'] = ((df_clients['last_order_date'] - df_clients['first_order_date']).dt.days / df_clients['nb_orders'].replace(1, np.nan))"
   ]
  },
  {
   "cell_type": "code",
   "execution_count": 16,
   "id": "19058e1c",
   "metadata": {},
   "outputs": [],
   "source": [
    "df_clients['avg_days_between_orders'] = df_clients['avg_days_between_orders'].round(2)"
   ]
  },
  {
   "cell_type": "code",
   "execution_count": 17,
   "id": "449408da",
   "metadata": {},
   "outputs": [
    {
     "data": {
      "text/html": [
       "<div>\n",
       "<style scoped>\n",
       "    .dataframe tbody tr th:only-of-type {\n",
       "        vertical-align: middle;\n",
       "    }\n",
       "\n",
       "    .dataframe tbody tr th {\n",
       "        vertical-align: top;\n",
       "    }\n",
       "\n",
       "    .dataframe thead th {\n",
       "        text-align: right;\n",
       "    }\n",
       "</style>\n",
       "<table border=\"1\" class=\"dataframe\">\n",
       "  <thead>\n",
       "    <tr style=\"text-align: right;\">\n",
       "      <th></th>\n",
       "      <th>customer_unique_id</th>\n",
       "      <th>nb_orders</th>\n",
       "      <th>first_order_date</th>\n",
       "      <th>last_order_date</th>\n",
       "      <th>total_spent</th>\n",
       "      <th>avg_review_score</th>\n",
       "      <th>nb_payment_types</th>\n",
       "      <th>recency</th>\n",
       "      <th>avg_days_between_orders</th>\n",
       "    </tr>\n",
       "  </thead>\n",
       "  <tbody>\n",
       "    <tr>\n",
       "      <th>0</th>\n",
       "      <td>0000366f3b9a7992bf8c76cfdf3221e2</td>\n",
       "      <td>1</td>\n",
       "      <td>2018-05-10 10:56:27</td>\n",
       "      <td>2018-05-10 10:56:27</td>\n",
       "      <td>141.90</td>\n",
       "      <td>5.0</td>\n",
       "      <td>1</td>\n",
       "      <td>159</td>\n",
       "      <td>NaN</td>\n",
       "    </tr>\n",
       "    <tr>\n",
       "      <th>1</th>\n",
       "      <td>0000b849f77a49e4a4ce2b2a4ca5be3f</td>\n",
       "      <td>1</td>\n",
       "      <td>2018-05-07 11:11:27</td>\n",
       "      <td>2018-05-07 11:11:27</td>\n",
       "      <td>27.19</td>\n",
       "      <td>4.0</td>\n",
       "      <td>1</td>\n",
       "      <td>162</td>\n",
       "      <td>NaN</td>\n",
       "    </tr>\n",
       "    <tr>\n",
       "      <th>2</th>\n",
       "      <td>0000f46a3911fa3c0805444483337064</td>\n",
       "      <td>1</td>\n",
       "      <td>2017-03-10 21:05:03</td>\n",
       "      <td>2017-03-10 21:05:03</td>\n",
       "      <td>86.22</td>\n",
       "      <td>3.0</td>\n",
       "      <td>1</td>\n",
       "      <td>584</td>\n",
       "      <td>NaN</td>\n",
       "    </tr>\n",
       "    <tr>\n",
       "      <th>3</th>\n",
       "      <td>0000f6ccb0745a6a4b88665a16c9f078</td>\n",
       "      <td>1</td>\n",
       "      <td>2017-10-12 20:29:41</td>\n",
       "      <td>2017-10-12 20:29:41</td>\n",
       "      <td>43.62</td>\n",
       "      <td>4.0</td>\n",
       "      <td>1</td>\n",
       "      <td>368</td>\n",
       "      <td>NaN</td>\n",
       "    </tr>\n",
       "    <tr>\n",
       "      <th>4</th>\n",
       "      <td>0004aac84e0df4da2b147fca70cf8255</td>\n",
       "      <td>1</td>\n",
       "      <td>2017-11-14 19:45:42</td>\n",
       "      <td>2017-11-14 19:45:42</td>\n",
       "      <td>196.89</td>\n",
       "      <td>5.0</td>\n",
       "      <td>1</td>\n",
       "      <td>336</td>\n",
       "      <td>NaN</td>\n",
       "    </tr>\n",
       "    <tr>\n",
       "      <th>...</th>\n",
       "      <td>...</td>\n",
       "      <td>...</td>\n",
       "      <td>...</td>\n",
       "      <td>...</td>\n",
       "      <td>...</td>\n",
       "      <td>...</td>\n",
       "      <td>...</td>\n",
       "      <td>...</td>\n",
       "      <td>...</td>\n",
       "    </tr>\n",
       "    <tr>\n",
       "      <th>96090</th>\n",
       "      <td>fffcf5a5ff07b0908bd4e2dbc735a684</td>\n",
       "      <td>1</td>\n",
       "      <td>2017-06-08 21:00:36</td>\n",
       "      <td>2017-06-08 21:00:36</td>\n",
       "      <td>2067.42</td>\n",
       "      <td>5.0</td>\n",
       "      <td>1</td>\n",
       "      <td>494</td>\n",
       "      <td>NaN</td>\n",
       "    </tr>\n",
       "    <tr>\n",
       "      <th>96091</th>\n",
       "      <td>fffea47cd6d3cc0a88bd621562a9d061</td>\n",
       "      <td>1</td>\n",
       "      <td>2017-12-10 20:07:56</td>\n",
       "      <td>2017-12-10 20:07:56</td>\n",
       "      <td>84.58</td>\n",
       "      <td>4.0</td>\n",
       "      <td>1</td>\n",
       "      <td>310</td>\n",
       "      <td>NaN</td>\n",
       "    </tr>\n",
       "    <tr>\n",
       "      <th>96092</th>\n",
       "      <td>ffff371b4d645b6ecea244b27531430a</td>\n",
       "      <td>1</td>\n",
       "      <td>2017-02-07 15:49:16</td>\n",
       "      <td>2017-02-07 15:49:16</td>\n",
       "      <td>112.46</td>\n",
       "      <td>5.0</td>\n",
       "      <td>1</td>\n",
       "      <td>616</td>\n",
       "      <td>NaN</td>\n",
       "    </tr>\n",
       "    <tr>\n",
       "      <th>96093</th>\n",
       "      <td>ffff5962728ec6157033ef9805bacc48</td>\n",
       "      <td>1</td>\n",
       "      <td>2018-05-02 15:17:41</td>\n",
       "      <td>2018-05-02 15:17:41</td>\n",
       "      <td>133.69</td>\n",
       "      <td>5.0</td>\n",
       "      <td>1</td>\n",
       "      <td>167</td>\n",
       "      <td>NaN</td>\n",
       "    </tr>\n",
       "    <tr>\n",
       "      <th>96094</th>\n",
       "      <td>ffffd2657e2aad2907e67c3e9daecbeb</td>\n",
       "      <td>1</td>\n",
       "      <td>2017-05-02 20:18:45</td>\n",
       "      <td>2017-05-02 20:18:45</td>\n",
       "      <td>71.56</td>\n",
       "      <td>5.0</td>\n",
       "      <td>1</td>\n",
       "      <td>531</td>\n",
       "      <td>NaN</td>\n",
       "    </tr>\n",
       "  </tbody>\n",
       "</table>\n",
       "<p>96095 rows × 9 columns</p>\n",
       "</div>"
      ],
      "text/plain": [
       "                     customer_unique_id  nb_orders    first_order_date  \\\n",
       "0      0000366f3b9a7992bf8c76cfdf3221e2          1 2018-05-10 10:56:27   \n",
       "1      0000b849f77a49e4a4ce2b2a4ca5be3f          1 2018-05-07 11:11:27   \n",
       "2      0000f46a3911fa3c0805444483337064          1 2017-03-10 21:05:03   \n",
       "3      0000f6ccb0745a6a4b88665a16c9f078          1 2017-10-12 20:29:41   \n",
       "4      0004aac84e0df4da2b147fca70cf8255          1 2017-11-14 19:45:42   \n",
       "...                                 ...        ...                 ...   \n",
       "96090  fffcf5a5ff07b0908bd4e2dbc735a684          1 2017-06-08 21:00:36   \n",
       "96091  fffea47cd6d3cc0a88bd621562a9d061          1 2017-12-10 20:07:56   \n",
       "96092  ffff371b4d645b6ecea244b27531430a          1 2017-02-07 15:49:16   \n",
       "96093  ffff5962728ec6157033ef9805bacc48          1 2018-05-02 15:17:41   \n",
       "96094  ffffd2657e2aad2907e67c3e9daecbeb          1 2017-05-02 20:18:45   \n",
       "\n",
       "          last_order_date  total_spent  avg_review_score  nb_payment_types  \\\n",
       "0     2018-05-10 10:56:27       141.90               5.0                 1   \n",
       "1     2018-05-07 11:11:27        27.19               4.0                 1   \n",
       "2     2017-03-10 21:05:03        86.22               3.0                 1   \n",
       "3     2017-10-12 20:29:41        43.62               4.0                 1   \n",
       "4     2017-11-14 19:45:42       196.89               5.0                 1   \n",
       "...                   ...          ...               ...               ...   \n",
       "96090 2017-06-08 21:00:36      2067.42               5.0                 1   \n",
       "96091 2017-12-10 20:07:56        84.58               4.0                 1   \n",
       "96092 2017-02-07 15:49:16       112.46               5.0                 1   \n",
       "96093 2018-05-02 15:17:41       133.69               5.0                 1   \n",
       "96094 2017-05-02 20:18:45        71.56               5.0                 1   \n",
       "\n",
       "       recency  avg_days_between_orders  \n",
       "0          159                      NaN  \n",
       "1          162                      NaN  \n",
       "2          584                      NaN  \n",
       "3          368                      NaN  \n",
       "4          336                      NaN  \n",
       "...        ...                      ...  \n",
       "96090      494                      NaN  \n",
       "96091      310                      NaN  \n",
       "96092      616                      NaN  \n",
       "96093      167                      NaN  \n",
       "96094      531                      NaN  \n",
       "\n",
       "[96095 rows x 9 columns]"
      ]
     },
     "execution_count": 17,
     "metadata": {},
     "output_type": "execute_result"
    }
   ],
   "source": [
    "df_clients"
   ]
  },
  {
   "cell_type": "code",
   "execution_count": 18,
   "id": "c6a90b86",
   "metadata": {},
   "outputs": [
    {
     "data": {
      "text/plain": [
       "0 days 00:00:00      93355\n",
       "0 days 00:00:01        302\n",
       "0 days 00:00:02         81\n",
       "0 days 00:00:03         25\n",
       "0 days 00:00:04         11\n",
       "                     ...  \n",
       "67 days 08:40:29         1\n",
       "218 days 23:15:26        1\n",
       "73 days 23:43:00         1\n",
       "148 days 13:25:38        1\n",
       "204 days 01:57:22        1\n",
       "Name: count, Length: 2300, dtype: int64"
      ]
     },
     "execution_count": 18,
     "metadata": {},
     "output_type": "execute_result"
    }
   ],
   "source": [
    "(df_clients['last_order_date'] - df_clients['first_order_date']).value_counts()"
   ]
  },
  {
   "cell_type": "markdown",
   "id": "7495b7b7",
   "metadata": {},
   "source": [
    "### Il serait interessant de transformer la variable nb_payment_type, qui en l'etait n'a pas reellement de sens, surtout pour le Kmeans futur puisque un client avec 3 types de paiement est \"plus éloigné\" de celui avec 1 que de celui avec 2. \n",
    "### la distance entre 1 et 3 est deux fois plus grande qu'entre 1 et 2.\n",
    "### Nous allons appliquer une colonne par type de paiment plutot"
   ]
  },
  {
   "cell_type": "code",
   "execution_count": 19,
   "id": "76f15514",
   "metadata": {},
   "outputs": [],
   "source": [
    "query_payment_type = \"\"\"\n",
    "SELECT \n",
    "    c.customer_unique_id,\n",
    "    op.payment_type\n",
    "FROM customers c\n",
    "JOIN orders o ON c.customer_id = o.customer_id\n",
    "JOIN order_pymts op ON o.order_id = op.order_id\n",
    "\"\"\""
   ]
  },
  {
   "cell_type": "code",
   "execution_count": 20,
   "id": "976ae6b5",
   "metadata": {},
   "outputs": [],
   "source": [
    "df_payments = pd.read_sql_query(query_payment_type, conn)\n",
    "df_payments_dummies = pd.get_dummies(df_payments, columns=['payment_type'], prefix='payment')\n",
    "\n",
    "# Regrouper par client\n",
    "df_payment_types = df_payments_dummies.groupby('customer_unique_id').sum().reset_index()"
   ]
  },
  {
   "cell_type": "code",
   "execution_count": 21,
   "id": "7e6e3518",
   "metadata": {},
   "outputs": [],
   "source": [
    "# On merge les types de paiement avec le df_clients\n",
    "# On remplace les NaN par 0\n",
    "df_clients = df_clients.merge(df_payment_types, on='customer_unique_id', how='left')\n",
    "df_clients.fillna(0, inplace=True)  # en cas de clients sans info paiement"
   ]
  },
  {
   "cell_type": "markdown",
   "id": "e1f6c1ad",
   "metadata": {},
   "source": [
    "### POur le moment nous avons des informations plutot interessantes. Nous pourrons en rajouter par la suite.\n",
    "### Nous pouvons nous commencer a regarder de plus pres les differentes manieres de clustering"
   ]
  },
  {
   "cell_type": "markdown",
   "id": "cb2347ea",
   "metadata": {},
   "source": [
    "#### Commencons par quelques verifications"
   ]
  },
  {
   "cell_type": "code",
   "execution_count": 22,
   "id": "b056c9c3",
   "metadata": {},
   "outputs": [
    {
     "data": {
      "text/plain": [
       "customer_unique_id         0\n",
       "nb_orders                  0\n",
       "first_order_date           0\n",
       "last_order_date            0\n",
       "total_spent                0\n",
       "avg_review_score           0\n",
       "nb_payment_types           0\n",
       "recency                    0\n",
       "avg_days_between_orders    0\n",
       "payment_boleto             0\n",
       "payment_credit_card        0\n",
       "payment_debit_card         0\n",
       "payment_not_defined        0\n",
       "payment_voucher            0\n",
       "dtype: int64"
      ]
     },
     "execution_count": 22,
     "metadata": {},
     "output_type": "execute_result"
    }
   ],
   "source": [
    "df_clients.isnull().sum()"
   ]
  },
  {
   "cell_type": "markdown",
   "id": "876fd617",
   "metadata": {},
   "source": [
    "#### Ok nous remarquons que sur plusieurs features nous avons des valeurs null, total_spent / avg_review_score / avg_days_between_orders . Pour avg_days nous allopns comblers les valeurs null, qui correspondent au mono-acheteur par une valeur generique -1 par exemple."
   ]
  },
  {
   "cell_type": "code",
   "execution_count": 23,
   "id": "4fd5de99",
   "metadata": {},
   "outputs": [],
   "source": [
    "df_clients['avg_days_between_orders'].fillna(-1, inplace=True)"
   ]
  },
  {
   "cell_type": "code",
   "execution_count": 24,
   "id": "f3b605a0",
   "metadata": {},
   "outputs": [
    {
     "name": "stdout",
     "output_type": "stream",
     "text": [
      "(96095, 14)\n",
      "float64           8\n",
      "int64             3\n",
      "datetime64[ns]    2\n",
      "object            1\n",
      "Name: count, dtype: int64\n",
      "customer_unique_id         0\n",
      "nb_orders                  0\n",
      "first_order_date           0\n",
      "last_order_date            0\n",
      "total_spent                0\n",
      "avg_review_score           0\n",
      "nb_payment_types           0\n",
      "recency                    0\n",
      "avg_days_between_orders    0\n",
      "payment_boleto             0\n",
      "payment_credit_card        0\n",
      "payment_debit_card         0\n",
      "payment_not_defined        0\n",
      "payment_voucher            0\n",
      "dtype: int64\n"
     ]
    }
   ],
   "source": [
    "print(df_clients.shape)\n",
    "print(df_clients.dtypes.value_counts())\n",
    "print(df_clients.isnull().sum().sort_values(ascending=False))"
   ]
  },
  {
   "cell_type": "code",
   "execution_count": 25,
   "id": "3c4387d1",
   "metadata": {},
   "outputs": [],
   "source": [
    "def filling_rate(dataframe):\n",
    "    \n",
    "    nb_rows, nb_columns = dataframe.shape\n",
    "\n",
    "    nb_data = dataframe.count().sum()\n",
    "\n",
    "    filling_rate = nb_data / (nb_rows * nb_columns)\n",
    "    print(\"The global filling rate of the DataFrame is : {:.2%}\".format(filling_rate))\n",
    "      \n",
    "    frequencies = [filling_rate, 1 - filling_rate]\n",
    "    labels = [\"Filled data\", \"Missing data\"]\n",
    "    \n",
    "    fig, ax = plt.subplots(figsize=(5, 5))\n",
    "    plt.title(\"Filling of the DataFrame\", fontsize=25)\n",
    "    ax.axis(\"equal\")\n",
    "    explode = (0.1, 0)\n",
    "\n",
    "    ax.pie(frequencies,\n",
    "           explode=explode,\n",
    "           # labels=labels,\n",
    "           autopct='%1.2f%%',\n",
    "           shadow=True,\n",
    "          )\n",
    "    plt.legend(labels)"
   ]
  },
  {
   "cell_type": "code",
   "execution_count": 26,
   "id": "70ff48fc",
   "metadata": {},
   "outputs": [
    {
     "name": "stdout",
     "output_type": "stream",
     "text": [
      "The global filling rate of the DataFrame is : 100.00%\n"
     ]
    },
    {
     "data": {
      "image/png": "[encoded data removed]",
      "text/plain": [
       "<Figure size 500x500 with 1 Axes>"
      ]
     },
     "metadata": {},
     "output_type": "display_data"
    }
   ],
   "source": [
    "filling_rate(df_clients)"
   ]
  },
  {
   "cell_type": "code",
   "execution_count": 27,
   "id": "ea15095e",
   "metadata": {},
   "outputs": [
    {
     "data": {
      "text/html": [
       "<div>\n",
       "<style scoped>\n",
       "    .dataframe tbody tr th:only-of-type {\n",
       "        vertical-align: middle;\n",
       "    }\n",
       "\n",
       "    .dataframe tbody tr th {\n",
       "        vertical-align: top;\n",
       "    }\n",
       "\n",
       "    .dataframe thead th {\n",
       "        text-align: right;\n",
       "    }\n",
       "</style>\n",
       "<table border=\"1\" class=\"dataframe\">\n",
       "  <thead>\n",
       "    <tr style=\"text-align: right;\">\n",
       "      <th></th>\n",
       "      <th>customer_unique_id</th>\n",
       "      <th>nb_orders</th>\n",
       "      <th>first_order_date</th>\n",
       "      <th>last_order_date</th>\n",
       "      <th>total_spent</th>\n",
       "      <th>avg_review_score</th>\n",
       "      <th>nb_payment_types</th>\n",
       "      <th>recency</th>\n",
       "      <th>avg_days_between_orders</th>\n",
       "      <th>payment_boleto</th>\n",
       "      <th>payment_credit_card</th>\n",
       "      <th>payment_debit_card</th>\n",
       "      <th>payment_not_defined</th>\n",
       "      <th>payment_voucher</th>\n",
       "    </tr>\n",
       "  </thead>\n",
       "  <tbody>\n",
       "    <tr>\n",
       "      <th>count</th>\n",
       "      <td>96095</td>\n",
       "      <td>96095.000000</td>\n",
       "      <td>96095</td>\n",
       "      <td>96095</td>\n",
       "      <td>96095.000000</td>\n",
       "      <td>96095.000000</td>\n",
       "      <td>96095.000000</td>\n",
       "      <td>96095.000000</td>\n",
       "      <td>96095.000000</td>\n",
       "      <td>96095.000000</td>\n",
       "      <td>96095.000000</td>\n",
       "      <td>96095.000000</td>\n",
       "      <td>96095.000000</td>\n",
       "      <td>96095.000000</td>\n",
       "    </tr>\n",
       "    <tr>\n",
       "      <th>unique</th>\n",
       "      <td>96095</td>\n",
       "      <td>NaN</td>\n",
       "      <td>NaN</td>\n",
       "      <td>NaN</td>\n",
       "      <td>NaN</td>\n",
       "      <td>NaN</td>\n",
       "      <td>NaN</td>\n",
       "      <td>NaN</td>\n",
       "      <td>NaN</td>\n",
       "      <td>NaN</td>\n",
       "      <td>NaN</td>\n",
       "      <td>NaN</td>\n",
       "      <td>NaN</td>\n",
       "      <td>NaN</td>\n",
       "    </tr>\n",
       "    <tr>\n",
       "      <th>top</th>\n",
       "      <td>0000366f3b9a7992bf8c76cfdf3221e2</td>\n",
       "      <td>NaN</td>\n",
       "      <td>NaN</td>\n",
       "      <td>NaN</td>\n",
       "      <td>NaN</td>\n",
       "      <td>NaN</td>\n",
       "      <td>NaN</td>\n",
       "      <td>NaN</td>\n",
       "      <td>NaN</td>\n",
       "      <td>NaN</td>\n",
       "      <td>NaN</td>\n",
       "      <td>NaN</td>\n",
       "      <td>NaN</td>\n",
       "      <td>NaN</td>\n",
       "    </tr>\n",
       "    <tr>\n",
       "      <th>freq</th>\n",
       "      <td>1</td>\n",
       "      <td>NaN</td>\n",
       "      <td>NaN</td>\n",
       "      <td>NaN</td>\n",
       "      <td>NaN</td>\n",
       "      <td>NaN</td>\n",
       "      <td>NaN</td>\n",
       "      <td>NaN</td>\n",
       "      <td>NaN</td>\n",
       "      <td>NaN</td>\n",
       "      <td>NaN</td>\n",
       "      <td>NaN</td>\n",
       "      <td>NaN</td>\n",
       "      <td>NaN</td>\n",
       "    </tr>\n",
       "    <tr>\n",
       "      <th>mean</th>\n",
       "      <td>NaN</td>\n",
       "      <td>1.034809</td>\n",
       "      <td>2017-12-30 19:14:48.856100608</td>\n",
       "      <td>2018-01-02 12:36:00.531057664</td>\n",
       "      <td>173.200804</td>\n",
       "      <td>4.054293</td>\n",
       "      <td>1.026661</td>\n",
       "      <td>286.902617</td>\n",
       "      <td>1.275949</td>\n",
       "      <td>0.205880</td>\n",
       "      <td>0.799157</td>\n",
       "      <td>0.015911</td>\n",
       "      <td>0.000031</td>\n",
       "      <td>0.060086</td>\n",
       "    </tr>\n",
       "    <tr>\n",
       "      <th>min</th>\n",
       "      <td>NaN</td>\n",
       "      <td>1.000000</td>\n",
       "      <td>2016-09-04 21:15:19</td>\n",
       "      <td>2016-09-04 21:15:19</td>\n",
       "      <td>0.000000</td>\n",
       "      <td>0.000000</td>\n",
       "      <td>0.000000</td>\n",
       "      <td>0.000000</td>\n",
       "      <td>0.000000</td>\n",
       "      <td>0.000000</td>\n",
       "      <td>0.000000</td>\n",
       "      <td>0.000000</td>\n",
       "      <td>0.000000</td>\n",
       "      <td>0.000000</td>\n",
       "    </tr>\n",
       "    <tr>\n",
       "      <th>25%</th>\n",
       "      <td>NaN</td>\n",
       "      <td>1.000000</td>\n",
       "      <td>2017-09-11 19:51:26</td>\n",
       "      <td>2017-09-15 09:02:53.500000</td>\n",
       "      <td>63.270000</td>\n",
       "      <td>4.000000</td>\n",
       "      <td>1.000000</td>\n",
       "      <td>163.000000</td>\n",
       "      <td>0.000000</td>\n",
       "      <td>0.000000</td>\n",
       "      <td>1.000000</td>\n",
       "      <td>0.000000</td>\n",
       "      <td>0.000000</td>\n",
       "      <td>0.000000</td>\n",
       "    </tr>\n",
       "    <tr>\n",
       "      <th>50%</th>\n",
       "      <td>NaN</td>\n",
       "      <td>1.000000</td>\n",
       "      <td>2018-01-18 13:29:55</td>\n",
       "      <td>2018-01-21 19:33:46</td>\n",
       "      <td>109.820000</td>\n",
       "      <td>5.000000</td>\n",
       "      <td>1.000000</td>\n",
       "      <td>268.000000</td>\n",
       "      <td>0.000000</td>\n",
       "      <td>0.000000</td>\n",
       "      <td>1.000000</td>\n",
       "      <td>0.000000</td>\n",
       "      <td>0.000000</td>\n",
       "      <td>0.000000</td>\n",
       "    </tr>\n",
       "    <tr>\n",
       "      <th>75%</th>\n",
       "      <td>NaN</td>\n",
       "      <td>1.000000</td>\n",
       "      <td>2018-05-04 10:36:15</td>\n",
       "      <td>2018-05-06 20:13:51</td>\n",
       "      <td>188.200000</td>\n",
       "      <td>5.000000</td>\n",
       "      <td>1.000000</td>\n",
       "      <td>396.000000</td>\n",
       "      <td>0.000000</td>\n",
       "      <td>0.000000</td>\n",
       "      <td>1.000000</td>\n",
       "      <td>0.000000</td>\n",
       "      <td>0.000000</td>\n",
       "      <td>0.000000</td>\n",
       "    </tr>\n",
       "    <tr>\n",
       "      <th>max</th>\n",
       "      <td>NaN</td>\n",
       "      <td>17.000000</td>\n",
       "      <td>2018-09-29 09:13:03</td>\n",
       "      <td>2018-10-16 20:16:02</td>\n",
       "      <td>13664.080000</td>\n",
       "      <td>5.000000</td>\n",
       "      <td>3.000000</td>\n",
       "      <td>771.000000</td>\n",
       "      <td>304.000000</td>\n",
       "      <td>6.000000</td>\n",
       "      <td>17.000000</td>\n",
       "      <td>2.000000</td>\n",
       "      <td>1.000000</td>\n",
       "      <td>33.000000</td>\n",
       "    </tr>\n",
       "    <tr>\n",
       "      <th>std</th>\n",
       "      <td>NaN</td>\n",
       "      <td>0.214385</td>\n",
       "      <td>NaN</td>\n",
       "      <td>NaN</td>\n",
       "      <td>264.151188</td>\n",
       "      <td>1.382361</td>\n",
       "      <td>0.162315</td>\n",
       "      <td>153.411580</td>\n",
       "      <td>11.986447</td>\n",
       "      <td>0.418534</td>\n",
       "      <td>0.475641</td>\n",
       "      <td>0.126457</td>\n",
       "      <td>0.005587</td>\n",
       "      <td>0.446075</td>\n",
       "    </tr>\n",
       "  </tbody>\n",
       "</table>\n",
       "</div>"
      ],
      "text/plain": [
       "                      customer_unique_id     nb_orders  \\\n",
       "count                              96095  96095.000000   \n",
       "unique                             96095           NaN   \n",
       "top     0000366f3b9a7992bf8c76cfdf3221e2           NaN   \n",
       "freq                                   1           NaN   \n",
       "mean                                 NaN      1.034809   \n",
       "min                                  NaN      1.000000   \n",
       "25%                                  NaN      1.000000   \n",
       "50%                                  NaN      1.000000   \n",
       "75%                                  NaN      1.000000   \n",
       "max                                  NaN     17.000000   \n",
       "std                                  NaN      0.214385   \n",
       "\n",
       "                     first_order_date                last_order_date  \\\n",
       "count                           96095                          96095   \n",
       "unique                            NaN                            NaN   \n",
       "top                               NaN                            NaN   \n",
       "freq                              NaN                            NaN   \n",
       "mean    2017-12-30 19:14:48.856100608  2018-01-02 12:36:00.531057664   \n",
       "min               2016-09-04 21:15:19            2016-09-04 21:15:19   \n",
       "25%               2017-09-11 19:51:26     2017-09-15 09:02:53.500000   \n",
       "50%               2018-01-18 13:29:55            2018-01-21 19:33:46   \n",
       "75%               2018-05-04 10:36:15            2018-05-06 20:13:51   \n",
       "max               2018-09-29 09:13:03            2018-10-16 20:16:02   \n",
       "std                               NaN                            NaN   \n",
       "\n",
       "         total_spent  avg_review_score  nb_payment_types       recency  \\\n",
       "count   96095.000000      96095.000000      96095.000000  96095.000000   \n",
       "unique           NaN               NaN               NaN           NaN   \n",
       "top              NaN               NaN               NaN           NaN   \n",
       "freq             NaN               NaN               NaN           NaN   \n",
       "mean      173.200804          4.054293          1.026661    286.902617   \n",
       "min         0.000000          0.000000          0.000000      0.000000   \n",
       "25%        63.270000          4.000000          1.000000    163.000000   \n",
       "50%       109.820000          5.000000          1.000000    268.000000   \n",
       "75%       188.200000          5.000000          1.000000    396.000000   \n",
       "max     13664.080000          5.000000          3.000000    771.000000   \n",
       "std       264.151188          1.382361          0.162315    153.411580   \n",
       "\n",
       "        avg_days_between_orders  payment_boleto  payment_credit_card  \\\n",
       "count              96095.000000    96095.000000         96095.000000   \n",
       "unique                      NaN             NaN                  NaN   \n",
       "top                         NaN             NaN                  NaN   \n",
       "freq                        NaN             NaN                  NaN   \n",
       "mean                   1.275949        0.205880             0.799157   \n",
       "min                    0.000000        0.000000             0.000000   \n",
       "25%                    0.000000        0.000000             1.000000   \n",
       "50%                    0.000000        0.000000             1.000000   \n",
       "75%                    0.000000        0.000000             1.000000   \n",
       "max                  304.000000        6.000000            17.000000   \n",
       "std                   11.986447        0.418534             0.475641   \n",
       "\n",
       "        payment_debit_card  payment_not_defined  payment_voucher  \n",
       "count         96095.000000         96095.000000     96095.000000  \n",
       "unique                 NaN                  NaN              NaN  \n",
       "top                    NaN                  NaN              NaN  \n",
       "freq                   NaN                  NaN              NaN  \n",
       "mean              0.015911             0.000031         0.060086  \n",
       "min               0.000000             0.000000         0.000000  \n",
       "25%               0.000000             0.000000         0.000000  \n",
       "50%               0.000000             0.000000         0.000000  \n",
       "75%               0.000000             0.000000         0.000000  \n",
       "max               2.000000             1.000000        33.000000  \n",
       "std               0.126457             0.005587         0.446075  "
      ]
     },
     "execution_count": 27,
     "metadata": {},
     "output_type": "execute_result"
    }
   ],
   "source": [
    "df_clients.describe(include='all')"
   ]
  },
  {
   "cell_type": "code",
   "execution_count": 28,
   "id": "bce7f72c",
   "metadata": {},
   "outputs": [],
   "source": [
    "df_clients.dropna(subset=['total_spent', 'avg_review_score'], inplace=True)"
   ]
  },
  {
   "cell_type": "markdown",
   "id": "a56bec85",
   "metadata": {},
   "source": [
    "#### Nous allons selectionner nous features numeriques les plus pertinentes"
   ]
  },
  {
   "cell_type": "markdown",
   "id": "0b58365b",
   "metadata": {},
   "source": [
    "#### 'nb_payment_types' atransformer en 3 colonnes pour chaque type"
   ]
  },
  {
   "cell_type": "code",
   "execution_count": 29,
   "id": "564a7d97",
   "metadata": {},
   "outputs": [],
   "source": [
    "features = [\n",
    "    'recency',\n",
    "    'nb_orders',\n",
    "    'total_spent',\n",
    "    'avg_review_score',\n",
    "    'avg_days_between_orders',\n",
    "    'payment_boleto',\n",
    "    'payment_credit_card',\n",
    "    'payment_debit_card',\n",
    "    'payment_voucher',\n",
    "    'payment_not_defined'\n",
    "]\n",
    "\n",
    "X = df_clients[features]"
   ]
  },
  {
   "cell_type": "markdown",
   "id": "ab9b68bb",
   "metadata": {},
   "source": [
    "#### Nous travaillons avec des valeurs de differentes echelles, nous allons donc devoir passer par une etape de normalisation"
   ]
  },
  {
   "cell_type": "code",
   "execution_count": 30,
   "id": "93b335f4",
   "metadata": {},
   "outputs": [],
   "source": [
    "scaler = StandardScaler()\n",
    "X_scaled = scaler.fit_transform(X)"
   ]
  },
  {
   "cell_type": "code",
   "execution_count": 31,
   "id": "f6a148f7",
   "metadata": {},
   "outputs": [
    {
     "data": {
      "text/plain": [
       "nb_orders\n",
       "1     93098\n",
       "2      2745\n",
       "3       203\n",
       "4        30\n",
       "5         8\n",
       "6         6\n",
       "7         3\n",
       "9         1\n",
       "17        1\n",
       "Name: count, dtype: int64"
      ]
     },
     "execution_count": 31,
     "metadata": {},
     "output_type": "execute_result"
    }
   ],
   "source": [
    "X[\"nb_orders\"].value_counts()"
   ]
  },
  {
   "cell_type": "code",
   "execution_count": 32,
   "id": "b5434506",
   "metadata": {},
   "outputs": [
    {
     "data": {
      "text/plain": [
       "nb_orders\n",
       "-0.162369     93098\n",
       " 4.502164      2745\n",
       " 9.166697       203\n",
       " 13.831230       30\n",
       " 18.495764        8\n",
       " 23.160297        6\n",
       " 27.824830        3\n",
       " 37.153896        1\n",
       " 74.470162        1\n",
       "Name: count, dtype: int64"
      ]
     },
     "execution_count": 32,
     "metadata": {},
     "output_type": "execute_result"
    }
   ],
   "source": [
    "pd.DataFrame(X_scaled, columns=features)[\"nb_orders\"].value_counts()"
   ]
  },
  {
   "cell_type": "markdown",
   "id": "02df4608",
   "metadata": {},
   "source": [
    "#### Notre scaler a bien conserve l'importance des valeurs importantes. Ce qui est primordiale pour ne pas perdre l'importance/impact de nos plus gros clients"
   ]
  },
  {
   "cell_type": "markdown",
   "id": "8bb01754",
   "metadata": {},
   "source": [
    "## Maintenant nous allons devoir trouver le bon nombre de K cluster. Pour ca nous allons passer par la methode du coude"
   ]
  },
  {
   "cell_type": "code",
   "execution_count": 33,
   "id": "3265e275",
   "metadata": {},
   "outputs": [
    {
     "name": "stderr",
     "output_type": "stream",
     "text": [
      "c:\\Users\\cosic\\AppData\\Local\\Programs\\Python\\Python311\\Lib\\site-packages\\sklearn\\cluster\\_kmeans.py:1412: FutureWarning: The default value of `n_init` will change from 10 to 'auto' in 1.4. Set the value of `n_init` explicitly to suppress the warning\n",
      "  super()._check_params_vs_input(X, default_n_init=10)\n",
      "c:\\Users\\cosic\\AppData\\Local\\Programs\\Python\\Python311\\Lib\\site-packages\\sklearn\\cluster\\_kmeans.py:1412: FutureWarning: The default value of `n_init` will change from 10 to 'auto' in 1.4. Set the value of `n_init` explicitly to suppress the warning\n",
      "  super()._check_params_vs_input(X, default_n_init=10)\n",
      "c:\\Users\\cosic\\AppData\\Local\\Programs\\Python\\Python311\\Lib\\site-packages\\sklearn\\cluster\\_kmeans.py:1412: FutureWarning: The default value of `n_init` will change from 10 to 'auto' in 1.4. Set the value of `n_init` explicitly to suppress the warning\n",
      "  super()._check_params_vs_input(X, default_n_init=10)\n",
      "c:\\Users\\cosic\\AppData\\Local\\Programs\\Python\\Python311\\Lib\\site-packages\\sklearn\\cluster\\_kmeans.py:1412: FutureWarning: The default value of `n_init` will change from 10 to 'auto' in 1.4. Set the value of `n_init` explicitly to suppress the warning\n",
      "  super()._check_params_vs_input(X, default_n_init=10)\n",
      "c:\\Users\\cosic\\AppData\\Local\\Programs\\Python\\Python311\\Lib\\site-packages\\sklearn\\cluster\\_kmeans.py:1412: FutureWarning: The default value of `n_init` will change from 10 to 'auto' in 1.4. Set the value of `n_init` explicitly to suppress the warning\n",
      "  super()._check_params_vs_input(X, default_n_init=10)\n",
      "c:\\Users\\cosic\\AppData\\Local\\Programs\\Python\\Python311\\Lib\\site-packages\\sklearn\\cluster\\_kmeans.py:1412: FutureWarning: The default value of `n_init` will change from 10 to 'auto' in 1.4. Set the value of `n_init` explicitly to suppress the warning\n",
      "  super()._check_params_vs_input(X, default_n_init=10)\n",
      "c:\\Users\\cosic\\AppData\\Local\\Programs\\Python\\Python311\\Lib\\site-packages\\sklearn\\cluster\\_kmeans.py:1412: FutureWarning: The default value of `n_init` will change from 10 to 'auto' in 1.4. Set the value of `n_init` explicitly to suppress the warning\n",
      "  super()._check_params_vs_input(X, default_n_init=10)\n",
      "c:\\Users\\cosic\\AppData\\Local\\Programs\\Python\\Python311\\Lib\\site-packages\\sklearn\\cluster\\_kmeans.py:1412: FutureWarning: The default value of `n_init` will change from 10 to 'auto' in 1.4. Set the value of `n_init` explicitly to suppress the warning\n",
      "  super()._check_params_vs_input(X, default_n_init=10)\n"
     ]
    },
    {
     "data": {
      "image/png": "[encoded data removed]",
      "text/plain": [
       "<Figure size 800x550 with 2 Axes>"
      ]
     },
     "metadata": {},
     "output_type": "display_data"
    },
    {
     "data": {
      "text/plain": [
       "<Axes: title={'center': 'Distortion Score Elbow for KMeans Clustering'}, xlabel='k', ylabel='distortion score'>"
      ]
     },
     "execution_count": 33,
     "metadata": {},
     "output_type": "execute_result"
    }
   ],
   "source": [
    "model = KMeans()\n",
    "ke_visualizer = KElbowVisualizer(model, k=(4,12))\n",
    "\n",
    "ke_visualizer.fit(X_scaled)\n",
    "ke_visualizer.poof()"
   ]
  },
  {
   "cell_type": "code",
   "execution_count": 34,
   "id": "bed6dcc6",
   "metadata": {},
   "outputs": [
    {
     "name": "stderr",
     "output_type": "stream",
     "text": [
      "c:\\Users\\cosic\\AppData\\Local\\Programs\\Python\\Python311\\Lib\\site-packages\\sklearn\\cluster\\_kmeans.py:1412: FutureWarning: The default value of `n_init` will change from 10 to 'auto' in 1.4. Set the value of `n_init` explicitly to suppress the warning\n",
      "  super()._check_params_vs_input(X, default_n_init=10)\n"
     ]
    },
    {
     "data": {
      "image/png": "[encoded data removed]",
      "text/plain": [
       "<Figure size 800x550 with 1 Axes>"
      ]
     },
     "metadata": {},
     "output_type": "display_data"
    },
    {
     "data": {
      "text/plain": [
       "<Axes: title={'center': 'Silhouette Plot of KMeans Clustering for 96095 Samples in 6 Centers'}, xlabel='silhouette coefficient values', ylabel='cluster label'>"
      ]
     },
     "execution_count": 34,
     "metadata": {},
     "output_type": "execute_result"
    }
   ],
   "source": [
    "model_2 = KMeans(6)\n",
    "s_visualizer = SilhouetteVisualizer(model_2)\n",
    "\n",
    "s_visualizer.fit(X_scaled)\n",
    "s_visualizer.poof()"
   ]
  },
  {
   "cell_type": "markdown",
   "id": "5b030560",
   "metadata": {},
   "source": [
    "#### Ce score de silouhette est calcule en faisant la moyenne du coefficient de silhouette pour chaque échantillon, qui correspond à la différence entre la distance moyenne intra-grappe et la distance moyenne entre les grappes les plus proches pour chaque échantillon, normalisée par la valeur maximale.\n",
    "#### On retrouve donc un score entre -1 et 1 où les scores proches de 1 indiquent une forte séparation et les scores proches de -1 indiquent que les échantillons peuvent avoir été assignés au mauvais groupe."
   ]
  },
  {
   "cell_type": "markdown",
   "id": "b649ef63",
   "metadata": {},
   "source": [
    "#### Nous obtenons donc un K = 6"
   ]
  },
  {
   "cell_type": "code",
   "execution_count": 35,
   "id": "a1255b97",
   "metadata": {},
   "outputs": [
    {
     "name": "stdout",
     "output_type": "stream",
     "text": [
      "Le nombre optimal de clusters est :  6\n"
     ]
    }
   ],
   "source": [
    "# Nous pouvons recuperer le nombre de clusters optimal de cette facon egalemnent\n",
    "opt_k = 6\n",
    "print(\"Le nombre optimal de clusters est : \", opt_k)"
   ]
  },
  {
   "cell_type": "code",
   "execution_count": 36,
   "id": "af44227d",
   "metadata": {},
   "outputs": [
    {
     "name": "stderr",
     "output_type": "stream",
     "text": [
      "c:\\Users\\cosic\\AppData\\Local\\Programs\\Python\\Python311\\Lib\\site-packages\\sklearn\\cluster\\_kmeans.py:1412: FutureWarning: The default value of `n_init` will change from 10 to 'auto' in 1.4. Set the value of `n_init` explicitly to suppress the warning\n",
      "  super()._check_params_vs_input(X, default_n_init=10)\n"
     ]
    }
   ],
   "source": [
    "optimal_k = opt_k\n",
    "final_model = KMeans(n_clusters=optimal_k, random_state=42)\n",
    "df_clients['cluster'] = final_model.fit_predict(X_scaled)"
   ]
  },
  {
   "cell_type": "code",
   "execution_count": 37,
   "id": "347129f1",
   "metadata": {},
   "outputs": [
    {
     "data": {
      "text/plain": [
       "cluster\n",
       "1    56644\n",
       "0    18979\n",
       "3    17584\n",
       "4     1501\n",
       "2     1384\n",
       "5        3\n",
       "Name: count, dtype: int64"
      ]
     },
     "execution_count": 37,
     "metadata": {},
     "output_type": "execute_result"
    }
   ],
   "source": [
    "df_clients['cluster'].value_counts()"
   ]
  },
  {
   "cell_type": "markdown",
   "id": "3afa68c1",
   "metadata": {},
   "source": [
    "#### Nous allons mener quelques analyses sur ces clusters"
   ]
  },
  {
   "cell_type": "code",
   "execution_count": 38,
   "id": "3168843a",
   "metadata": {},
   "outputs": [
    {
     "data": {
      "text/html": [
       "<div>\n",
       "<style scoped>\n",
       "    .dataframe tbody tr th:only-of-type {\n",
       "        vertical-align: middle;\n",
       "    }\n",
       "\n",
       "    .dataframe tbody tr th {\n",
       "        vertical-align: top;\n",
       "    }\n",
       "\n",
       "    .dataframe thead th {\n",
       "        text-align: right;\n",
       "    }\n",
       "</style>\n",
       "<table border=\"1\" class=\"dataframe\">\n",
       "  <thead>\n",
       "    <tr style=\"text-align: right;\">\n",
       "      <th></th>\n",
       "      <th>recency</th>\n",
       "      <th>nb_orders</th>\n",
       "      <th>total_spent</th>\n",
       "      <th>avg_review_score</th>\n",
       "      <th>avg_days_between_orders</th>\n",
       "      <th>payment_boleto</th>\n",
       "      <th>payment_credit_card</th>\n",
       "      <th>payment_debit_card</th>\n",
       "      <th>payment_voucher</th>\n",
       "      <th>payment_not_defined</th>\n",
       "    </tr>\n",
       "    <tr>\n",
       "      <th>cluster</th>\n",
       "      <th></th>\n",
       "      <th></th>\n",
       "      <th></th>\n",
       "      <th></th>\n",
       "      <th></th>\n",
       "      <th></th>\n",
       "      <th></th>\n",
       "      <th></th>\n",
       "      <th></th>\n",
       "      <th></th>\n",
       "    </tr>\n",
       "  </thead>\n",
       "  <tbody>\n",
       "    <tr>\n",
       "      <th>0</th>\n",
       "      <td>297.474261</td>\n",
       "      <td>1.020654</td>\n",
       "      <td>146.170108</td>\n",
       "      <td>4.055040</td>\n",
       "      <td>0.159395</td>\n",
       "      <td>1.016755</td>\n",
       "      <td>0.003214</td>\n",
       "      <td>0.000000</td>\n",
       "      <td>0.000685</td>\n",
       "      <td>0.0</td>\n",
       "    </tr>\n",
       "    <tr>\n",
       "      <th>1</th>\n",
       "      <td>284.622378</td>\n",
       "      <td>1.015024</td>\n",
       "      <td>170.070045</td>\n",
       "      <td>4.747572</td>\n",
       "      <td>0.057093</td>\n",
       "      <td>0.000035</td>\n",
       "      <td>0.999859</td>\n",
       "      <td>0.000000</td>\n",
       "      <td>0.065673</td>\n",
       "      <td>0.0</td>\n",
       "    </tr>\n",
       "    <tr>\n",
       "      <th>2</th>\n",
       "      <td>220.772399</td>\n",
       "      <td>2.241329</td>\n",
       "      <td>396.825694</td>\n",
       "      <td>4.217162</td>\n",
       "      <td>82.401640</td>\n",
       "      <td>0.330925</td>\n",
       "      <td>1.836705</td>\n",
       "      <td>0.008671</td>\n",
       "      <td>0.299855</td>\n",
       "      <td>0.0</td>\n",
       "    </tr>\n",
       "    <tr>\n",
       "      <th>3</th>\n",
       "      <td>294.154288</td>\n",
       "      <td>1.018767</td>\n",
       "      <td>197.239649</td>\n",
       "      <td>1.800042</td>\n",
       "      <td>0.068045</td>\n",
       "      <td>0.000626</td>\n",
       "      <td>0.997100</td>\n",
       "      <td>0.000000</td>\n",
       "      <td>0.092357</td>\n",
       "      <td>0.0</td>\n",
       "    </tr>\n",
       "    <tr>\n",
       "      <th>4</th>\n",
       "      <td>215.785476</td>\n",
       "      <td>1.035310</td>\n",
       "      <td>145.631872</td>\n",
       "      <td>4.145086</td>\n",
       "      <td>0.737062</td>\n",
       "      <td>0.009993</td>\n",
       "      <td>0.015323</td>\n",
       "      <td>1.010660</td>\n",
       "      <td>0.001332</td>\n",
       "      <td>0.0</td>\n",
       "    </tr>\n",
       "    <tr>\n",
       "      <th>5</th>\n",
       "      <td>47.000000</td>\n",
       "      <td>1.333333</td>\n",
       "      <td>19.663333</td>\n",
       "      <td>1.666667</td>\n",
       "      <td>2.166667</td>\n",
       "      <td>0.333333</td>\n",
       "      <td>0.000000</td>\n",
       "      <td>0.000000</td>\n",
       "      <td>0.000000</td>\n",
       "      <td>1.0</td>\n",
       "    </tr>\n",
       "  </tbody>\n",
       "</table>\n",
       "</div>"
      ],
      "text/plain": [
       "            recency  nb_orders  total_spent  avg_review_score  \\\n",
       "cluster                                                         \n",
       "0        297.474261   1.020654   146.170108          4.055040   \n",
       "1        284.622378   1.015024   170.070045          4.747572   \n",
       "2        220.772399   2.241329   396.825694          4.217162   \n",
       "3        294.154288   1.018767   197.239649          1.800042   \n",
       "4        215.785476   1.035310   145.631872          4.145086   \n",
       "5         47.000000   1.333333    19.663333          1.666667   \n",
       "\n",
       "         avg_days_between_orders  payment_boleto  payment_credit_card  \\\n",
       "cluster                                                                 \n",
       "0                       0.159395        1.016755             0.003214   \n",
       "1                       0.057093        0.000035             0.999859   \n",
       "2                      82.401640        0.330925             1.836705   \n",
       "3                       0.068045        0.000626             0.997100   \n",
       "4                       0.737062        0.009993             0.015323   \n",
       "5                       2.166667        0.333333             0.000000   \n",
       "\n",
       "         payment_debit_card  payment_voucher  payment_not_defined  \n",
       "cluster                                                            \n",
       "0                  0.000000         0.000685                  0.0  \n",
       "1                  0.000000         0.065673                  0.0  \n",
       "2                  0.008671         0.299855                  0.0  \n",
       "3                  0.000000         0.092357                  0.0  \n",
       "4                  1.010660         0.001332                  0.0  \n",
       "5                  0.000000         0.000000                  1.0  "
      ]
     },
     "execution_count": 38,
     "metadata": {},
     "output_type": "execute_result"
    }
   ],
   "source": [
    "df_clusters = df_clients.groupby('cluster')[features].mean()\n",
    "df_clusters"
   ]
  },
  {
   "cell_type": "code",
   "execution_count": 39,
   "id": "3141240a",
   "metadata": {},
   "outputs": [
    {
     "data": {
      "image/png": "[encoded data removed]",
      "text/plain": [
       "<Figure size 800x500 with 1 Axes>"
      ]
     },
     "metadata": {},
     "output_type": "display_data"
    }
   ],
   "source": [
    "plt.figure(figsize=(8, 5))\n",
    "sns.countplot(data=df_clients, x='cluster')\n",
    "plt.xlabel(\"Cluster\")\n",
    "plt.ylabel(\"Nombre de clients\")\n",
    "plt.title(\"Répartition des clients par cluster (k = 6)\")\n",
    "plt.show()"
   ]
  },
  {
   "cell_type": "markdown",
   "id": "b27d86d7",
   "metadata": {},
   "source": [
    "### Ici on remarque que nos 3 clusters principaux sont le 0, 3 et 5. Les autres clusters sont beaucoup plus ecrases quand on regarde la silouhette et la repartition. Les clusters plus petits meritent d'etre plus detailles ou d'etre fusionnes."
   ]
  },
  {
   "cell_type": "markdown",
   "id": "d1142709",
   "metadata": {},
   "source": [
    "### Nous pouvons reduire le nombre de cluster, prenons k=6"
   ]
  },
  {
   "cell_type": "code",
   "execution_count": 40,
   "id": "efbeb7cd",
   "metadata": {},
   "outputs": [
    {
     "data": {
      "text/html": [
       "<div>\n",
       "<style scoped>\n",
       "    .dataframe tbody tr th:only-of-type {\n",
       "        vertical-align: middle;\n",
       "    }\n",
       "\n",
       "    .dataframe tbody tr th {\n",
       "        vertical-align: top;\n",
       "    }\n",
       "\n",
       "    .dataframe thead th {\n",
       "        text-align: right;\n",
       "    }\n",
       "</style>\n",
       "<table border=\"1\" class=\"dataframe\">\n",
       "  <thead>\n",
       "    <tr style=\"text-align: right;\">\n",
       "      <th></th>\n",
       "      <th>customer_unique_id</th>\n",
       "      <th>nb_orders</th>\n",
       "      <th>first_order_date</th>\n",
       "      <th>last_order_date</th>\n",
       "      <th>total_spent</th>\n",
       "      <th>avg_review_score</th>\n",
       "      <th>nb_payment_types</th>\n",
       "      <th>recency</th>\n",
       "      <th>avg_days_between_orders</th>\n",
       "      <th>payment_boleto</th>\n",
       "      <th>payment_credit_card</th>\n",
       "      <th>payment_debit_card</th>\n",
       "      <th>payment_not_defined</th>\n",
       "      <th>payment_voucher</th>\n",
       "      <th>cluster</th>\n",
       "    </tr>\n",
       "  </thead>\n",
       "  <tbody>\n",
       "    <tr>\n",
       "      <th>0</th>\n",
       "      <td>0000366f3b9a7992bf8c76cfdf3221e2</td>\n",
       "      <td>1</td>\n",
       "      <td>2018-05-10 10:56:27</td>\n",
       "      <td>2018-05-10 10:56:27</td>\n",
       "      <td>141.90</td>\n",
       "      <td>5.0</td>\n",
       "      <td>1</td>\n",
       "      <td>159</td>\n",
       "      <td>0.0</td>\n",
       "      <td>0.0</td>\n",
       "      <td>1.0</td>\n",
       "      <td>0.0</td>\n",
       "      <td>0.0</td>\n",
       "      <td>0.0</td>\n",
       "      <td>1</td>\n",
       "    </tr>\n",
       "    <tr>\n",
       "      <th>1</th>\n",
       "      <td>0000b849f77a49e4a4ce2b2a4ca5be3f</td>\n",
       "      <td>1</td>\n",
       "      <td>2018-05-07 11:11:27</td>\n",
       "      <td>2018-05-07 11:11:27</td>\n",
       "      <td>27.19</td>\n",
       "      <td>4.0</td>\n",
       "      <td>1</td>\n",
       "      <td>162</td>\n",
       "      <td>0.0</td>\n",
       "      <td>0.0</td>\n",
       "      <td>1.0</td>\n",
       "      <td>0.0</td>\n",
       "      <td>0.0</td>\n",
       "      <td>0.0</td>\n",
       "      <td>1</td>\n",
       "    </tr>\n",
       "    <tr>\n",
       "      <th>2</th>\n",
       "      <td>0000f46a3911fa3c0805444483337064</td>\n",
       "      <td>1</td>\n",
       "      <td>2017-03-10 21:05:03</td>\n",
       "      <td>2017-03-10 21:05:03</td>\n",
       "      <td>86.22</td>\n",
       "      <td>3.0</td>\n",
       "      <td>1</td>\n",
       "      <td>584</td>\n",
       "      <td>0.0</td>\n",
       "      <td>0.0</td>\n",
       "      <td>1.0</td>\n",
       "      <td>0.0</td>\n",
       "      <td>0.0</td>\n",
       "      <td>0.0</td>\n",
       "      <td>3</td>\n",
       "    </tr>\n",
       "    <tr>\n",
       "      <th>3</th>\n",
       "      <td>0000f6ccb0745a6a4b88665a16c9f078</td>\n",
       "      <td>1</td>\n",
       "      <td>2017-10-12 20:29:41</td>\n",
       "      <td>2017-10-12 20:29:41</td>\n",
       "      <td>43.62</td>\n",
       "      <td>4.0</td>\n",
       "      <td>1</td>\n",
       "      <td>368</td>\n",
       "      <td>0.0</td>\n",
       "      <td>0.0</td>\n",
       "      <td>1.0</td>\n",
       "      <td>0.0</td>\n",
       "      <td>0.0</td>\n",
       "      <td>0.0</td>\n",
       "      <td>1</td>\n",
       "    </tr>\n",
       "    <tr>\n",
       "      <th>4</th>\n",
       "      <td>0004aac84e0df4da2b147fca70cf8255</td>\n",
       "      <td>1</td>\n",
       "      <td>2017-11-14 19:45:42</td>\n",
       "      <td>2017-11-14 19:45:42</td>\n",
       "      <td>196.89</td>\n",
       "      <td>5.0</td>\n",
       "      <td>1</td>\n",
       "      <td>336</td>\n",
       "      <td>0.0</td>\n",
       "      <td>0.0</td>\n",
       "      <td>1.0</td>\n",
       "      <td>0.0</td>\n",
       "      <td>0.0</td>\n",
       "      <td>0.0</td>\n",
       "      <td>1</td>\n",
       "    </tr>\n",
       "    <tr>\n",
       "      <th>...</th>\n",
       "      <td>...</td>\n",
       "      <td>...</td>\n",
       "      <td>...</td>\n",
       "      <td>...</td>\n",
       "      <td>...</td>\n",
       "      <td>...</td>\n",
       "      <td>...</td>\n",
       "      <td>...</td>\n",
       "      <td>...</td>\n",
       "      <td>...</td>\n",
       "      <td>...</td>\n",
       "      <td>...</td>\n",
       "      <td>...</td>\n",
       "      <td>...</td>\n",
       "      <td>...</td>\n",
       "    </tr>\n",
       "    <tr>\n",
       "      <th>96090</th>\n",
       "      <td>fffcf5a5ff07b0908bd4e2dbc735a684</td>\n",
       "      <td>1</td>\n",
       "      <td>2017-06-08 21:00:36</td>\n",
       "      <td>2017-06-08 21:00:36</td>\n",
       "      <td>2067.42</td>\n",
       "      <td>5.0</td>\n",
       "      <td>1</td>\n",
       "      <td>494</td>\n",
       "      <td>0.0</td>\n",
       "      <td>0.0</td>\n",
       "      <td>1.0</td>\n",
       "      <td>0.0</td>\n",
       "      <td>0.0</td>\n",
       "      <td>0.0</td>\n",
       "      <td>1</td>\n",
       "    </tr>\n",
       "    <tr>\n",
       "      <th>96091</th>\n",
       "      <td>fffea47cd6d3cc0a88bd621562a9d061</td>\n",
       "      <td>1</td>\n",
       "      <td>2017-12-10 20:07:56</td>\n",
       "      <td>2017-12-10 20:07:56</td>\n",
       "      <td>84.58</td>\n",
       "      <td>4.0</td>\n",
       "      <td>1</td>\n",
       "      <td>310</td>\n",
       "      <td>0.0</td>\n",
       "      <td>0.0</td>\n",
       "      <td>1.0</td>\n",
       "      <td>0.0</td>\n",
       "      <td>0.0</td>\n",
       "      <td>0.0</td>\n",
       "      <td>1</td>\n",
       "    </tr>\n",
       "    <tr>\n",
       "      <th>96092</th>\n",
       "      <td>ffff371b4d645b6ecea244b27531430a</td>\n",
       "      <td>1</td>\n",
       "      <td>2017-02-07 15:49:16</td>\n",
       "      <td>2017-02-07 15:49:16</td>\n",
       "      <td>112.46</td>\n",
       "      <td>5.0</td>\n",
       "      <td>1</td>\n",
       "      <td>616</td>\n",
       "      <td>0.0</td>\n",
       "      <td>0.0</td>\n",
       "      <td>1.0</td>\n",
       "      <td>0.0</td>\n",
       "      <td>0.0</td>\n",
       "      <td>0.0</td>\n",
       "      <td>1</td>\n",
       "    </tr>\n",
       "    <tr>\n",
       "      <th>96093</th>\n",
       "      <td>ffff5962728ec6157033ef9805bacc48</td>\n",
       "      <td>1</td>\n",
       "      <td>2018-05-02 15:17:41</td>\n",
       "      <td>2018-05-02 15:17:41</td>\n",
       "      <td>133.69</td>\n",
       "      <td>5.0</td>\n",
       "      <td>1</td>\n",
       "      <td>167</td>\n",
       "      <td>0.0</td>\n",
       "      <td>0.0</td>\n",
       "      <td>1.0</td>\n",
       "      <td>0.0</td>\n",
       "      <td>0.0</td>\n",
       "      <td>0.0</td>\n",
       "      <td>1</td>\n",
       "    </tr>\n",
       "    <tr>\n",
       "      <th>96094</th>\n",
       "      <td>ffffd2657e2aad2907e67c3e9daecbeb</td>\n",
       "      <td>1</td>\n",
       "      <td>2017-05-02 20:18:45</td>\n",
       "      <td>2017-05-02 20:18:45</td>\n",
       "      <td>71.56</td>\n",
       "      <td>5.0</td>\n",
       "      <td>1</td>\n",
       "      <td>531</td>\n",
       "      <td>0.0</td>\n",
       "      <td>0.0</td>\n",
       "      <td>1.0</td>\n",
       "      <td>0.0</td>\n",
       "      <td>0.0</td>\n",
       "      <td>0.0</td>\n",
       "      <td>1</td>\n",
       "    </tr>\n",
       "  </tbody>\n",
       "</table>\n",
       "<p>96095 rows × 15 columns</p>\n",
       "</div>"
      ],
      "text/plain": [
       "                     customer_unique_id  nb_orders    first_order_date  \\\n",
       "0      0000366f3b9a7992bf8c76cfdf3221e2          1 2018-05-10 10:56:27   \n",
       "1      0000b849f77a49e4a4ce2b2a4ca5be3f          1 2018-05-07 11:11:27   \n",
       "2      0000f46a3911fa3c0805444483337064          1 2017-03-10 21:05:03   \n",
       "3      0000f6ccb0745a6a4b88665a16c9f078          1 2017-10-12 20:29:41   \n",
       "4      0004aac84e0df4da2b147fca70cf8255          1 2017-11-14 19:45:42   \n",
       "...                                 ...        ...                 ...   \n",
       "96090  fffcf5a5ff07b0908bd4e2dbc735a684          1 2017-06-08 21:00:36   \n",
       "96091  fffea47cd6d3cc0a88bd621562a9d061          1 2017-12-10 20:07:56   \n",
       "96092  ffff371b4d645b6ecea244b27531430a          1 2017-02-07 15:49:16   \n",
       "96093  ffff5962728ec6157033ef9805bacc48          1 2018-05-02 15:17:41   \n",
       "96094  ffffd2657e2aad2907e67c3e9daecbeb          1 2017-05-02 20:18:45   \n",
       "\n",
       "          last_order_date  total_spent  avg_review_score  nb_payment_types  \\\n",
       "0     2018-05-10 10:56:27       141.90               5.0                 1   \n",
       "1     2018-05-07 11:11:27        27.19               4.0                 1   \n",
       "2     2017-03-10 21:05:03        86.22               3.0                 1   \n",
       "3     2017-10-12 20:29:41        43.62               4.0                 1   \n",
       "4     2017-11-14 19:45:42       196.89               5.0                 1   \n",
       "...                   ...          ...               ...               ...   \n",
       "96090 2017-06-08 21:00:36      2067.42               5.0                 1   \n",
       "96091 2017-12-10 20:07:56        84.58               4.0                 1   \n",
       "96092 2017-02-07 15:49:16       112.46               5.0                 1   \n",
       "96093 2018-05-02 15:17:41       133.69               5.0                 1   \n",
       "96094 2017-05-02 20:18:45        71.56               5.0                 1   \n",
       "\n",
       "       recency  avg_days_between_orders  payment_boleto  payment_credit_card  \\\n",
       "0          159                      0.0             0.0                  1.0   \n",
       "1          162                      0.0             0.0                  1.0   \n",
       "2          584                      0.0             0.0                  1.0   \n",
       "3          368                      0.0             0.0                  1.0   \n",
       "4          336                      0.0             0.0                  1.0   \n",
       "...        ...                      ...             ...                  ...   \n",
       "96090      494                      0.0             0.0                  1.0   \n",
       "96091      310                      0.0             0.0                  1.0   \n",
       "96092      616                      0.0             0.0                  1.0   \n",
       "96093      167                      0.0             0.0                  1.0   \n",
       "96094      531                      0.0             0.0                  1.0   \n",
       "\n",
       "       payment_debit_card  payment_not_defined  payment_voucher  cluster  \n",
       "0                     0.0                  0.0              0.0        1  \n",
       "1                     0.0                  0.0              0.0        1  \n",
       "2                     0.0                  0.0              0.0        3  \n",
       "3                     0.0                  0.0              0.0        1  \n",
       "4                     0.0                  0.0              0.0        1  \n",
       "...                   ...                  ...              ...      ...  \n",
       "96090                 0.0                  0.0              0.0        1  \n",
       "96091                 0.0                  0.0              0.0        1  \n",
       "96092                 0.0                  0.0              0.0        1  \n",
       "96093                 0.0                  0.0              0.0        1  \n",
       "96094                 0.0                  0.0              0.0        1  \n",
       "\n",
       "[96095 rows x 15 columns]"
      ]
     },
     "execution_count": 40,
     "metadata": {},
     "output_type": "execute_result"
    }
   ],
   "source": [
    "df_clients"
   ]
  },
  {
   "cell_type": "markdown",
   "id": "0d910879",
   "metadata": {},
   "source": [
    "## Nous allons tester un autre modele de clustering, DBSCAN"
   ]
  },
  {
   "cell_type": "code",
   "execution_count": 41,
   "id": "442491ee",
   "metadata": {},
   "outputs": [],
   "source": [
    "dbscan = DBSCAN(eps=0.5, min_samples=10)"
   ]
  },
  {
   "cell_type": "code",
   "execution_count": 42,
   "id": "f7baf5b6",
   "metadata": {},
   "outputs": [],
   "source": [
    "df_clients['cluster_dbscan'] = dbscan.fit_predict(X_scaled)"
   ]
  },
  {
   "cell_type": "code",
   "execution_count": 43,
   "id": "b80cc734",
   "metadata": {},
   "outputs": [
    {
     "data": {
      "text/plain": [
       "cluster_dbscan\n",
       " 0     68245\n",
       " 2     10461\n",
       " 1      5140\n",
       "-1      3503\n",
       " 4      2039\n",
       " 7       938\n",
       " 9       850\n",
       " 16      774\n",
       " 10      556\n",
       " 6       555\n",
       " 15      491\n",
       " 11      290\n",
       " 13      261\n",
       " 22      171\n",
       " 3       155\n",
       " 21      155\n",
       " 29      138\n",
       " 5       127\n",
       " 24      127\n",
       " 18      109\n",
       " 19      105\n",
       " 28      103\n",
       " 20       90\n",
       " 23       80\n",
       " 25       71\n",
       " 12       63\n",
       " 27       48\n",
       " 37       38\n",
       " 35       32\n",
       " 8        32\n",
       " 31       30\n",
       " 26       28\n",
       " 32       27\n",
       " 42       27\n",
       " 36       22\n",
       " 30       21\n",
       " 14       18\n",
       " 17       17\n",
       " 39       16\n",
       " 38       16\n",
       " 44       15\n",
       " 43       14\n",
       " 34       13\n",
       " 45       12\n",
       " 33       12\n",
       " 41       11\n",
       " 49       11\n",
       " 46       10\n",
       " 47       10\n",
       " 40       10\n",
       " 48        8\n",
       "Name: count, dtype: int64"
      ]
     },
     "execution_count": 43,
     "metadata": {},
     "output_type": "execute_result"
    }
   ],
   "source": [
    "df_clients['cluster_dbscan'].value_counts()"
   ]
  },
  {
   "cell_type": "markdown",
   "id": "b4fcab09",
   "metadata": {},
   "source": [
    "#### Ici on voit que le DBSCAN ressence enormement de clusters .. environ une cinquantaine. On capte 1 gros cluster le 0 de lpus de 68k clients puis le 2 avec 10k clients et le 1 avec 5k. On note egalement plus de 3k outliers defini par -1. Les autres clusters sont beaucoup plus petit et sont comme marginaux compares aux 3 1ers"
   ]
  },
  {
   "cell_type": "markdown",
   "id": "b4cc1451",
   "metadata": {},
   "source": [
    "#### Si nous voudrions diminuer la quantite de cluster nous pourrions jouer sur le parametre eps et le diminuer"
   ]
  },
  {
   "cell_type": "markdown",
   "id": "b9abec3b",
   "metadata": {},
   "source": [
    "### Visualisons nos cluster du Kmeans"
   ]
  },
  {
   "cell_type": "code",
   "execution_count": 44,
   "id": "6b296f99",
   "metadata": {},
   "outputs": [
    {
     "data": {
      "text/html": [
       "<div>\n",
       "<style scoped>\n",
       "    .dataframe tbody tr th:only-of-type {\n",
       "        vertical-align: middle;\n",
       "    }\n",
       "\n",
       "    .dataframe tbody tr th {\n",
       "        vertical-align: top;\n",
       "    }\n",
       "\n",
       "    .dataframe thead th {\n",
       "        text-align: right;\n",
       "    }\n",
       "</style>\n",
       "<table border=\"1\" class=\"dataframe\">\n",
       "  <thead>\n",
       "    <tr style=\"text-align: right;\">\n",
       "      <th></th>\n",
       "      <th>recency</th>\n",
       "      <th>nb_orders</th>\n",
       "      <th>total_spent</th>\n",
       "      <th>avg_review_score</th>\n",
       "      <th>avg_days_between_orders</th>\n",
       "      <th>payment_boleto</th>\n",
       "      <th>payment_credit_card</th>\n",
       "      <th>payment_debit_card</th>\n",
       "      <th>payment_voucher</th>\n",
       "      <th>payment_not_defined</th>\n",
       "    </tr>\n",
       "    <tr>\n",
       "      <th>cluster</th>\n",
       "      <th></th>\n",
       "      <th></th>\n",
       "      <th></th>\n",
       "      <th></th>\n",
       "      <th></th>\n",
       "      <th></th>\n",
       "      <th></th>\n",
       "      <th></th>\n",
       "      <th></th>\n",
       "      <th></th>\n",
       "    </tr>\n",
       "  </thead>\n",
       "  <tbody>\n",
       "    <tr>\n",
       "      <th>0</th>\n",
       "      <td>297.47</td>\n",
       "      <td>1.02</td>\n",
       "      <td>146.17</td>\n",
       "      <td>4.06</td>\n",
       "      <td>0.16</td>\n",
       "      <td>1.02</td>\n",
       "      <td>0.00</td>\n",
       "      <td>0.00</td>\n",
       "      <td>0.00</td>\n",
       "      <td>0.0</td>\n",
       "    </tr>\n",
       "    <tr>\n",
       "      <th>1</th>\n",
       "      <td>284.62</td>\n",
       "      <td>1.02</td>\n",
       "      <td>170.07</td>\n",
       "      <td>4.75</td>\n",
       "      <td>0.06</td>\n",
       "      <td>0.00</td>\n",
       "      <td>1.00</td>\n",
       "      <td>0.00</td>\n",
       "      <td>0.07</td>\n",
       "      <td>0.0</td>\n",
       "    </tr>\n",
       "    <tr>\n",
       "      <th>2</th>\n",
       "      <td>220.77</td>\n",
       "      <td>2.24</td>\n",
       "      <td>396.83</td>\n",
       "      <td>4.22</td>\n",
       "      <td>82.40</td>\n",
       "      <td>0.33</td>\n",
       "      <td>1.84</td>\n",
       "      <td>0.01</td>\n",
       "      <td>0.30</td>\n",
       "      <td>0.0</td>\n",
       "    </tr>\n",
       "    <tr>\n",
       "      <th>3</th>\n",
       "      <td>294.15</td>\n",
       "      <td>1.02</td>\n",
       "      <td>197.24</td>\n",
       "      <td>1.80</td>\n",
       "      <td>0.07</td>\n",
       "      <td>0.00</td>\n",
       "      <td>1.00</td>\n",
       "      <td>0.00</td>\n",
       "      <td>0.09</td>\n",
       "      <td>0.0</td>\n",
       "    </tr>\n",
       "    <tr>\n",
       "      <th>4</th>\n",
       "      <td>215.79</td>\n",
       "      <td>1.04</td>\n",
       "      <td>145.63</td>\n",
       "      <td>4.15</td>\n",
       "      <td>0.74</td>\n",
       "      <td>0.01</td>\n",
       "      <td>0.02</td>\n",
       "      <td>1.01</td>\n",
       "      <td>0.00</td>\n",
       "      <td>0.0</td>\n",
       "    </tr>\n",
       "    <tr>\n",
       "      <th>5</th>\n",
       "      <td>47.00</td>\n",
       "      <td>1.33</td>\n",
       "      <td>19.66</td>\n",
       "      <td>1.67</td>\n",
       "      <td>2.17</td>\n",
       "      <td>0.33</td>\n",
       "      <td>0.00</td>\n",
       "      <td>0.00</td>\n",
       "      <td>0.00</td>\n",
       "      <td>1.0</td>\n",
       "    </tr>\n",
       "  </tbody>\n",
       "</table>\n",
       "</div>"
      ],
      "text/plain": [
       "         recency  nb_orders  total_spent  avg_review_score  \\\n",
       "cluster                                                      \n",
       "0         297.47       1.02       146.17              4.06   \n",
       "1         284.62       1.02       170.07              4.75   \n",
       "2         220.77       2.24       396.83              4.22   \n",
       "3         294.15       1.02       197.24              1.80   \n",
       "4         215.79       1.04       145.63              4.15   \n",
       "5          47.00       1.33        19.66              1.67   \n",
       "\n",
       "         avg_days_between_orders  payment_boleto  payment_credit_card  \\\n",
       "cluster                                                                 \n",
       "0                           0.16            1.02                 0.00   \n",
       "1                           0.06            0.00                 1.00   \n",
       "2                          82.40            0.33                 1.84   \n",
       "3                           0.07            0.00                 1.00   \n",
       "4                           0.74            0.01                 0.02   \n",
       "5                           2.17            0.33                 0.00   \n",
       "\n",
       "         payment_debit_card  payment_voucher  payment_not_defined  \n",
       "cluster                                                            \n",
       "0                      0.00             0.00                  0.0  \n",
       "1                      0.00             0.07                  0.0  \n",
       "2                      0.01             0.30                  0.0  \n",
       "3                      0.00             0.09                  0.0  \n",
       "4                      1.01             0.00                  0.0  \n",
       "5                      0.00             0.00                  1.0  "
      ]
     },
     "execution_count": 44,
     "metadata": {},
     "output_type": "execute_result"
    }
   ],
   "source": [
    "df_clients.groupby('cluster')[features].mean().round(2)"
   ]
  },
  {
   "cell_type": "code",
   "execution_count": 45,
   "id": "e447cd28",
   "metadata": {},
   "outputs": [
    {
     "data": {
      "text/plain": [
       "cluster\n",
       "0    0.197502\n",
       "1    0.589458\n",
       "2    0.014402\n",
       "3    0.182986\n",
       "4    0.015620\n",
       "5    0.000031\n",
       "Name: proportion, dtype: float64"
      ]
     },
     "execution_count": 45,
     "metadata": {},
     "output_type": "execute_result"
    }
   ],
   "source": [
    "df_clients['cluster'].value_counts(normalize=True).sort_index()"
   ]
  },
  {
   "cell_type": "markdown",
   "id": "6f5c1c46",
   "metadata": {},
   "source": [
    " Cluster 0 — Clients fidèles mais inactifs\n",
    "Poids : 58 % des clients\n",
    "\n",
    "Récence moyenne : 285 jours\n",
    "\n",
    "Nombre de commandes : 1\n",
    "\n",
    "Dépenses moyennes : 169 R$\n",
    "\n",
    "Score de review : 4.75 ⭐\n",
    "\n",
    "Moyens de paiement : principalement carte de crédit, un peu de voucher"
   ]
  },
  {
   "cell_type": "markdown",
   "id": "2cb65206",
   "metadata": {},
   "source": [
    "Cluster 1 — Clients récents avec paiement par carte de débit\n",
    "Poids : 1,5 %\n",
    "\n",
    "Récence : 216 jours\n",
    "\n",
    "Commandes : 1\n",
    "\n",
    "Dépenses : 146 R$\n",
    "\n",
    "Review : 4.15\n",
    "\n",
    "Paiement : exclusivement débit"
   ]
  },
  {
   "cell_type": "markdown",
   "id": "43c4b337",
   "metadata": {},
   "source": [
    "Cluster 2 — Clients très mécontents\n",
    "Poids : 17,9 %\n",
    "\n",
    "Récence : 295 jours\n",
    "\n",
    "Commandes : 1\n",
    "\n",
    "Dépenses : 188 R$\n",
    "\n",
    "Review : 1.79 ⭐\n",
    "\n",
    "Paiement : surtout carte de crédit + voucher"
   ]
  },
  {
   "cell_type": "markdown",
   "id": "f681b0f1",
   "metadata": {},
   "source": [
    " Cluster 3 — Acheteurs simples avec boleto\n",
    "Poids : 19,7 %\n",
    "\n",
    "Récence : 298 jours\n",
    "\n",
    "Commandes : 1\n",
    "\n",
    "Dépenses : 145 R$\n",
    "\n",
    "Review : 4.05\n",
    "\n",
    "Paiement : exclusivement boleto (paiement différé brésilien)"
   ]
  },
  {
   "cell_type": "markdown",
   "id": "e530af2a",
   "metadata": {},
   "source": [
    "Cluster 4 — Clients fidèles et à forte valeur\n",
    "Poids : 2,76 %\n",
    "\n",
    "Récence : 265 jours\n",
    "\n",
    "Commandes : 2+\n",
    "\n",
    "Dépenses moyennes : 385 R$\n",
    "\n",
    "Review : 4.10\n",
    "\n",
    "Paiements : diversifiés (carte + boleto + voucher)"
   ]
  },
  {
   "cell_type": "markdown",
   "id": "3ef26f20",
   "metadata": {},
   "source": [
    "Cluster 5 — Clients récents mécontents\n",
    "Poids : 0,003 % (extrêmement rare)\n",
    "\n",
    "Récence : 47 jours\n",
    "\n",
    "Commandes : 1\n",
    "\n",
    "Dépenses : 19 R$\n",
    "\n",
    "Review : 1.67\n",
    "\n",
    "Paiement : non défini"
   ]
  },
  {
   "cell_type": "markdown",
   "id": "bae722f0",
   "metadata": {},
   "source": [
    "## Bilan sur nos clients : \n",
    "Cluster 0 + 3 = 77 % ➝ gros volume, potentiel de réactivation\n",
    "\n",
    "Cluster 2 = 18 % ➝ éviter ou traiter\n",
    "\n",
    "Cluster 4 = à prioriser\n",
    "\n",
    "Cluster 1 + 5 = niches → à monitorer mais pas centrales"
   ]
  },
  {
   "cell_type": "code",
   "execution_count": 46,
   "id": "0c519094",
   "metadata": {},
   "outputs": [
    {
     "data": {
      "text/html": [
       "<div>\n",
       "<style scoped>\n",
       "    .dataframe tbody tr th:only-of-type {\n",
       "        vertical-align: middle;\n",
       "    }\n",
       "\n",
       "    .dataframe tbody tr th {\n",
       "        vertical-align: top;\n",
       "    }\n",
       "\n",
       "    .dataframe thead th {\n",
       "        text-align: right;\n",
       "    }\n",
       "</style>\n",
       "<table border=\"1\" class=\"dataframe\">\n",
       "  <thead>\n",
       "    <tr style=\"text-align: right;\">\n",
       "      <th></th>\n",
       "      <th>customer_unique_id</th>\n",
       "      <th>nb_orders</th>\n",
       "      <th>first_order_date</th>\n",
       "      <th>last_order_date</th>\n",
       "      <th>total_spent</th>\n",
       "      <th>avg_review_score</th>\n",
       "      <th>nb_payment_types</th>\n",
       "      <th>recency</th>\n",
       "      <th>avg_days_between_orders</th>\n",
       "      <th>payment_boleto</th>\n",
       "      <th>payment_credit_card</th>\n",
       "      <th>payment_debit_card</th>\n",
       "      <th>payment_not_defined</th>\n",
       "      <th>payment_voucher</th>\n",
       "      <th>cluster</th>\n",
       "      <th>cluster_dbscan</th>\n",
       "    </tr>\n",
       "  </thead>\n",
       "  <tbody>\n",
       "    <tr>\n",
       "      <th>0</th>\n",
       "      <td>0000366f3b9a7992bf8c76cfdf3221e2</td>\n",
       "      <td>1</td>\n",
       "      <td>2018-05-10 10:56:27</td>\n",
       "      <td>2018-05-10 10:56:27</td>\n",
       "      <td>141.90</td>\n",
       "      <td>5.0</td>\n",
       "      <td>1</td>\n",
       "      <td>159</td>\n",
       "      <td>0.0</td>\n",
       "      <td>0.0</td>\n",
       "      <td>1.0</td>\n",
       "      <td>0.0</td>\n",
       "      <td>0.0</td>\n",
       "      <td>0.0</td>\n",
       "      <td>1</td>\n",
       "      <td>0</td>\n",
       "    </tr>\n",
       "    <tr>\n",
       "      <th>1</th>\n",
       "      <td>0000b849f77a49e4a4ce2b2a4ca5be3f</td>\n",
       "      <td>1</td>\n",
       "      <td>2018-05-07 11:11:27</td>\n",
       "      <td>2018-05-07 11:11:27</td>\n",
       "      <td>27.19</td>\n",
       "      <td>4.0</td>\n",
       "      <td>1</td>\n",
       "      <td>162</td>\n",
       "      <td>0.0</td>\n",
       "      <td>0.0</td>\n",
       "      <td>1.0</td>\n",
       "      <td>0.0</td>\n",
       "      <td>0.0</td>\n",
       "      <td>0.0</td>\n",
       "      <td>1</td>\n",
       "      <td>0</td>\n",
       "    </tr>\n",
       "    <tr>\n",
       "      <th>2</th>\n",
       "      <td>0000f46a3911fa3c0805444483337064</td>\n",
       "      <td>1</td>\n",
       "      <td>2017-03-10 21:05:03</td>\n",
       "      <td>2017-03-10 21:05:03</td>\n",
       "      <td>86.22</td>\n",
       "      <td>3.0</td>\n",
       "      <td>1</td>\n",
       "      <td>584</td>\n",
       "      <td>0.0</td>\n",
       "      <td>0.0</td>\n",
       "      <td>1.0</td>\n",
       "      <td>0.0</td>\n",
       "      <td>0.0</td>\n",
       "      <td>0.0</td>\n",
       "      <td>3</td>\n",
       "      <td>0</td>\n",
       "    </tr>\n",
       "    <tr>\n",
       "      <th>3</th>\n",
       "      <td>0000f6ccb0745a6a4b88665a16c9f078</td>\n",
       "      <td>1</td>\n",
       "      <td>2017-10-12 20:29:41</td>\n",
       "      <td>2017-10-12 20:29:41</td>\n",
       "      <td>43.62</td>\n",
       "      <td>4.0</td>\n",
       "      <td>1</td>\n",
       "      <td>368</td>\n",
       "      <td>0.0</td>\n",
       "      <td>0.0</td>\n",
       "      <td>1.0</td>\n",
       "      <td>0.0</td>\n",
       "      <td>0.0</td>\n",
       "      <td>0.0</td>\n",
       "      <td>1</td>\n",
       "      <td>0</td>\n",
       "    </tr>\n",
       "    <tr>\n",
       "      <th>4</th>\n",
       "      <td>0004aac84e0df4da2b147fca70cf8255</td>\n",
       "      <td>1</td>\n",
       "      <td>2017-11-14 19:45:42</td>\n",
       "      <td>2017-11-14 19:45:42</td>\n",
       "      <td>196.89</td>\n",
       "      <td>5.0</td>\n",
       "      <td>1</td>\n",
       "      <td>336</td>\n",
       "      <td>0.0</td>\n",
       "      <td>0.0</td>\n",
       "      <td>1.0</td>\n",
       "      <td>0.0</td>\n",
       "      <td>0.0</td>\n",
       "      <td>0.0</td>\n",
       "      <td>1</td>\n",
       "      <td>0</td>\n",
       "    </tr>\n",
       "    <tr>\n",
       "      <th>...</th>\n",
       "      <td>...</td>\n",
       "      <td>...</td>\n",
       "      <td>...</td>\n",
       "      <td>...</td>\n",
       "      <td>...</td>\n",
       "      <td>...</td>\n",
       "      <td>...</td>\n",
       "      <td>...</td>\n",
       "      <td>...</td>\n",
       "      <td>...</td>\n",
       "      <td>...</td>\n",
       "      <td>...</td>\n",
       "      <td>...</td>\n",
       "      <td>...</td>\n",
       "      <td>...</td>\n",
       "      <td>...</td>\n",
       "    </tr>\n",
       "    <tr>\n",
       "      <th>96090</th>\n",
       "      <td>fffcf5a5ff07b0908bd4e2dbc735a684</td>\n",
       "      <td>1</td>\n",
       "      <td>2017-06-08 21:00:36</td>\n",
       "      <td>2017-06-08 21:00:36</td>\n",
       "      <td>2067.42</td>\n",
       "      <td>5.0</td>\n",
       "      <td>1</td>\n",
       "      <td>494</td>\n",
       "      <td>0.0</td>\n",
       "      <td>0.0</td>\n",
       "      <td>1.0</td>\n",
       "      <td>0.0</td>\n",
       "      <td>0.0</td>\n",
       "      <td>0.0</td>\n",
       "      <td>1</td>\n",
       "      <td>-1</td>\n",
       "    </tr>\n",
       "    <tr>\n",
       "      <th>96091</th>\n",
       "      <td>fffea47cd6d3cc0a88bd621562a9d061</td>\n",
       "      <td>1</td>\n",
       "      <td>2017-12-10 20:07:56</td>\n",
       "      <td>2017-12-10 20:07:56</td>\n",
       "      <td>84.58</td>\n",
       "      <td>4.0</td>\n",
       "      <td>1</td>\n",
       "      <td>310</td>\n",
       "      <td>0.0</td>\n",
       "      <td>0.0</td>\n",
       "      <td>1.0</td>\n",
       "      <td>0.0</td>\n",
       "      <td>0.0</td>\n",
       "      <td>0.0</td>\n",
       "      <td>1</td>\n",
       "      <td>0</td>\n",
       "    </tr>\n",
       "    <tr>\n",
       "      <th>96092</th>\n",
       "      <td>ffff371b4d645b6ecea244b27531430a</td>\n",
       "      <td>1</td>\n",
       "      <td>2017-02-07 15:49:16</td>\n",
       "      <td>2017-02-07 15:49:16</td>\n",
       "      <td>112.46</td>\n",
       "      <td>5.0</td>\n",
       "      <td>1</td>\n",
       "      <td>616</td>\n",
       "      <td>0.0</td>\n",
       "      <td>0.0</td>\n",
       "      <td>1.0</td>\n",
       "      <td>0.0</td>\n",
       "      <td>0.0</td>\n",
       "      <td>0.0</td>\n",
       "      <td>1</td>\n",
       "      <td>0</td>\n",
       "    </tr>\n",
       "    <tr>\n",
       "      <th>96093</th>\n",
       "      <td>ffff5962728ec6157033ef9805bacc48</td>\n",
       "      <td>1</td>\n",
       "      <td>2018-05-02 15:17:41</td>\n",
       "      <td>2018-05-02 15:17:41</td>\n",
       "      <td>133.69</td>\n",
       "      <td>5.0</td>\n",
       "      <td>1</td>\n",
       "      <td>167</td>\n",
       "      <td>0.0</td>\n",
       "      <td>0.0</td>\n",
       "      <td>1.0</td>\n",
       "      <td>0.0</td>\n",
       "      <td>0.0</td>\n",
       "      <td>0.0</td>\n",
       "      <td>1</td>\n",
       "      <td>0</td>\n",
       "    </tr>\n",
       "    <tr>\n",
       "      <th>96094</th>\n",
       "      <td>ffffd2657e2aad2907e67c3e9daecbeb</td>\n",
       "      <td>1</td>\n",
       "      <td>2017-05-02 20:18:45</td>\n",
       "      <td>2017-05-02 20:18:45</td>\n",
       "      <td>71.56</td>\n",
       "      <td>5.0</td>\n",
       "      <td>1</td>\n",
       "      <td>531</td>\n",
       "      <td>0.0</td>\n",
       "      <td>0.0</td>\n",
       "      <td>1.0</td>\n",
       "      <td>0.0</td>\n",
       "      <td>0.0</td>\n",
       "      <td>0.0</td>\n",
       "      <td>1</td>\n",
       "      <td>0</td>\n",
       "    </tr>\n",
       "  </tbody>\n",
       "</table>\n",
       "<p>96095 rows × 16 columns</p>\n",
       "</div>"
      ],
      "text/plain": [
       "                     customer_unique_id  nb_orders    first_order_date  \\\n",
       "0      0000366f3b9a7992bf8c76cfdf3221e2          1 2018-05-10 10:56:27   \n",
       "1      0000b849f77a49e4a4ce2b2a4ca5be3f          1 2018-05-07 11:11:27   \n",
       "2      0000f46a3911fa3c0805444483337064          1 2017-03-10 21:05:03   \n",
       "3      0000f6ccb0745a6a4b88665a16c9f078          1 2017-10-12 20:29:41   \n",
       "4      0004aac84e0df4da2b147fca70cf8255          1 2017-11-14 19:45:42   \n",
       "...                                 ...        ...                 ...   \n",
       "96090  fffcf5a5ff07b0908bd4e2dbc735a684          1 2017-06-08 21:00:36   \n",
       "96091  fffea47cd6d3cc0a88bd621562a9d061          1 2017-12-10 20:07:56   \n",
       "96092  ffff371b4d645b6ecea244b27531430a          1 2017-02-07 15:49:16   \n",
       "96093  ffff5962728ec6157033ef9805bacc48          1 2018-05-02 15:17:41   \n",
       "96094  ffffd2657e2aad2907e67c3e9daecbeb          1 2017-05-02 20:18:45   \n",
       "\n",
       "          last_order_date  total_spent  avg_review_score  nb_payment_types  \\\n",
       "0     2018-05-10 10:56:27       141.90               5.0                 1   \n",
       "1     2018-05-07 11:11:27        27.19               4.0                 1   \n",
       "2     2017-03-10 21:05:03        86.22               3.0                 1   \n",
       "3     2017-10-12 20:29:41        43.62               4.0                 1   \n",
       "4     2017-11-14 19:45:42       196.89               5.0                 1   \n",
       "...                   ...          ...               ...               ...   \n",
       "96090 2017-06-08 21:00:36      2067.42               5.0                 1   \n",
       "96091 2017-12-10 20:07:56        84.58               4.0                 1   \n",
       "96092 2017-02-07 15:49:16       112.46               5.0                 1   \n",
       "96093 2018-05-02 15:17:41       133.69               5.0                 1   \n",
       "96094 2017-05-02 20:18:45        71.56               5.0                 1   \n",
       "\n",
       "       recency  avg_days_between_orders  payment_boleto  payment_credit_card  \\\n",
       "0          159                      0.0             0.0                  1.0   \n",
       "1          162                      0.0             0.0                  1.0   \n",
       "2          584                      0.0             0.0                  1.0   \n",
       "3          368                      0.0             0.0                  1.0   \n",
       "4          336                      0.0             0.0                  1.0   \n",
       "...        ...                      ...             ...                  ...   \n",
       "96090      494                      0.0             0.0                  1.0   \n",
       "96091      310                      0.0             0.0                  1.0   \n",
       "96092      616                      0.0             0.0                  1.0   \n",
       "96093      167                      0.0             0.0                  1.0   \n",
       "96094      531                      0.0             0.0                  1.0   \n",
       "\n",
       "       payment_debit_card  payment_not_defined  payment_voucher  cluster  \\\n",
       "0                     0.0                  0.0              0.0        1   \n",
       "1                     0.0                  0.0              0.0        1   \n",
       "2                     0.0                  0.0              0.0        3   \n",
       "3                     0.0                  0.0              0.0        1   \n",
       "4                     0.0                  0.0              0.0        1   \n",
       "...                   ...                  ...              ...      ...   \n",
       "96090                 0.0                  0.0              0.0        1   \n",
       "96091                 0.0                  0.0              0.0        1   \n",
       "96092                 0.0                  0.0              0.0        1   \n",
       "96093                 0.0                  0.0              0.0        1   \n",
       "96094                 0.0                  0.0              0.0        1   \n",
       "\n",
       "       cluster_dbscan  \n",
       "0                   0  \n",
       "1                   0  \n",
       "2                   0  \n",
       "3                   0  \n",
       "4                   0  \n",
       "...               ...  \n",
       "96090              -1  \n",
       "96091               0  \n",
       "96092               0  \n",
       "96093               0  \n",
       "96094               0  \n",
       "\n",
       "[96095 rows x 16 columns]"
      ]
     },
     "execution_count": 46,
     "metadata": {},
     "output_type": "execute_result"
    }
   ],
   "source": [
    "df_clients"
   ]
  },
  {
   "cell_type": "markdown",
   "id": "95cc2e52",
   "metadata": {},
   "source": [
    "### Afin de calculer l'ARI, je vais devoir definir deux segmentations pour les modeles sur des dates differentes"
   ]
  },
  {
   "cell_type": "code",
   "execution_count": 47,
   "id": "e504fd7f",
   "metadata": {},
   "outputs": [
    {
     "data": {
      "text/plain": [
       "(Timestamp('2016-09-04 21:15:19'), Timestamp('2018-10-16 20:16:02'))"
      ]
     },
     "execution_count": 47,
     "metadata": {},
     "output_type": "execute_result"
    }
   ],
   "source": [
    "# Recuperer la date la plus recente et la plus ancienne\n",
    "df_clients['first_order_date'].min(), df_clients['last_order_date'].max()"
   ]
  },
  {
   "cell_type": "markdown",
   "id": "f4f58ed9",
   "metadata": {},
   "source": [
    "#### On va prendre deux periodes avec un differentiel d'un mois, septembre 2017 a septembre 2018 / octobre 2017 a octobre 2018"
   ]
  },
  {
   "cell_type": "code",
   "execution_count": 48,
   "id": "45f16dc3",
   "metadata": {},
   "outputs": [],
   "source": [
    "# Dates\n",
    "t0_start = pd.to_datetime(\"2017-09-01\")\n",
    "t0_end   = pd.to_datetime(\"2018-09-30\")\n",
    "\n",
    "t1_start = pd.to_datetime(\"2017-10-01\")\n",
    "t1_end   = pd.to_datetime(\"2018-10-31\")\n",
    "\n",
    "# Jeux d'entraînement\n",
    "df_t0 = df_clients[\n",
    "    (df_clients['last_order_date'] >= t0_start) &\n",
    "    (df_clients['last_order_date'] <= t0_end)\n",
    "].copy()\n",
    "\n",
    "df_t1 = df_clients[\n",
    "    (df_clients['last_order_date'] >= t1_start) &\n",
    "    (df_clients['last_order_date'] <= t1_end)\n",
    "].copy()"
   ]
  },
  {
   "cell_type": "code",
   "execution_count": 49,
   "id": "ba841488",
   "metadata": {},
   "outputs": [
    {
     "name": "stdout",
     "output_type": "stream",
     "text": [
      "Clients T1 : (74032, 16)\n",
      "Clients T2 : (69961, 16)\n"
     ]
    }
   ],
   "source": [
    "print(\"Clients T1 :\", df_t0.shape)\n",
    "print(\"Clients T2 :\", df_t1.shape)"
   ]
  },
  {
   "cell_type": "code",
   "execution_count": 50,
   "id": "704cbd3c",
   "metadata": {},
   "outputs": [],
   "source": [
    "scaler = StandardScaler().fit(df_t0[features])"
   ]
  },
  {
   "cell_type": "code",
   "execution_count": 51,
   "id": "0361a4c9",
   "metadata": {},
   "outputs": [],
   "source": [
    "X_t0 = scaler.transform(df_t0[features])\n",
    "X_t1 = scaler.transform(df_t1[features])"
   ]
  },
  {
   "cell_type": "code",
   "execution_count": 52,
   "id": "d570b291",
   "metadata": {},
   "outputs": [
    {
     "name": "stderr",
     "output_type": "stream",
     "text": [
      "c:\\Users\\cosic\\AppData\\Local\\Programs\\Python\\Python311\\Lib\\site-packages\\sklearn\\cluster\\_kmeans.py:1412: FutureWarning: The default value of `n_init` will change from 10 to 'auto' in 1.4. Set the value of `n_init` explicitly to suppress the warning\n",
      "  super()._check_params_vs_input(X, default_n_init=10)\n",
      "c:\\Users\\cosic\\AppData\\Local\\Programs\\Python\\Python311\\Lib\\site-packages\\sklearn\\cluster\\_kmeans.py:1412: FutureWarning: The default value of `n_init` will change from 10 to 'auto' in 1.4. Set the value of `n_init` explicitly to suppress the warning\n",
      "  super()._check_params_vs_input(X, default_n_init=10)\n"
     ]
    }
   ],
   "source": [
    "model_m0 = KMeans(n_clusters=6, random_state=42).fit(X_t0)\n",
    "model_m1 = KMeans(n_clusters=6, random_state=42).fit(X_t1)"
   ]
  },
  {
   "cell_type": "code",
   "execution_count": 53,
   "id": "33f747a4",
   "metadata": {},
   "outputs": [],
   "source": [
    "df_t1['cluster_m0'] = model_m0.predict(X_t1)\n",
    "df_t1['cluster_m1'] = model_m1.predict(X_t1)"
   ]
  },
  {
   "cell_type": "markdown",
   "id": "0d449652",
   "metadata": {},
   "source": [
    "### Calcul de  l'ARI"
   ]
  },
  {
   "cell_type": "code",
   "execution_count": 54,
   "id": "ac9ec7f4",
   "metadata": {},
   "outputs": [
    {
     "name": "stdout",
     "output_type": "stream",
     "text": [
      "🎯 Adjusted Rand Index (M0 vs M1 sur T1) : 0.955\n"
     ]
    }
   ],
   "source": [
    "ari = adjusted_rand_score(df_t1['cluster_m0'], df_t1['cluster_m1'])\n",
    "print(f\"🎯 Adjusted Rand Index (M0 vs M1 sur T1) : {ari:.3f}\")"
   ]
  },
  {
   "cell_type": "markdown",
   "id": "557ad08f",
   "metadata": {},
   "source": [
    "#### Au vu du resultat ARI, on peut en deduire que le modèle M0 (entraîné sur T0) et le modèle M1 (entraîné sur T1) produisent des clusters quasi identiques sur les mêmes clients (période T1).\n",
    "#### Cela signifie que notre segmentation est stable d’un mois à l’autre, malgré le décalage dans les données d'entraînement."
   ]
  },
  {
   "cell_type": "markdown",
   "id": "77b34ad9",
   "metadata": {},
   "source": [
    "## Nous avons teste la stabilite de notre modele avec 1 mois de decalage, je vais reiterer l'operation en soumettant en decalage plus important (2 mois) pour voir comment se comporte l'ARI"
   ]
  },
  {
   "cell_type": "code",
   "execution_count": 55,
   "id": "00077460",
   "metadata": {},
   "outputs": [
    {
     "name": "stdout",
     "output_type": "stream",
     "text": [
      "Clients T1 : (74032, 16)\n",
      "Clients T2 : (65521, 16)\n"
     ]
    },
    {
     "name": "stderr",
     "output_type": "stream",
     "text": [
      "c:\\Users\\cosic\\AppData\\Local\\Programs\\Python\\Python311\\Lib\\site-packages\\sklearn\\cluster\\_kmeans.py:1412: FutureWarning: The default value of `n_init` will change from 10 to 'auto' in 1.4. Set the value of `n_init` explicitly to suppress the warning\n",
      "  super()._check_params_vs_input(X, default_n_init=10)\n",
      "c:\\Users\\cosic\\AppData\\Local\\Programs\\Python\\Python311\\Lib\\site-packages\\sklearn\\cluster\\_kmeans.py:1412: FutureWarning: The default value of `n_init` will change from 10 to 'auto' in 1.4. Set the value of `n_init` explicitly to suppress the warning\n",
      "  super()._check_params_vs_input(X, default_n_init=10)\n"
     ]
    },
    {
     "name": "stdout",
     "output_type": "stream",
     "text": [
      "🎯 Adjusted Rand Index (M0 vs M1 sur T1) : 0.574\n"
     ]
    }
   ],
   "source": [
    "# Decalage de 2 mois\n",
    "\n",
    "t0_start = pd.to_datetime(\"2017-09-01\")\n",
    "t0_end   = pd.to_datetime(\"2018-09-30\")\n",
    "\n",
    "t1_start = pd.to_datetime(\"2017-11-01\")\n",
    "t1_end   = pd.to_datetime(\"2018-11-30\")\n",
    "\n",
    "# Jeux d'entraînement\n",
    "df_t0 = df_clients[\n",
    "    (df_clients['last_order_date'] >= t0_start) &\n",
    "    (df_clients['last_order_date'] <= t0_end)\n",
    "].copy()\n",
    "\n",
    "df_t1 = df_clients[\n",
    "    (df_clients['last_order_date'] >= t1_start) &\n",
    "    (df_clients['last_order_date'] <= t1_end)\n",
    "].copy()\n",
    "\n",
    "print(\"Clients T1 :\", df_t0.shape)\n",
    "print(\"Clients T2 :\", df_t1.shape)\n",
    "\n",
    "scaler = StandardScaler().fit(df_t0[features])\n",
    "\n",
    "X_t0 = scaler.transform(df_t0[features])\n",
    "X_t1 = scaler.transform(df_t1[features])\n",
    "\n",
    "model_m0 = KMeans(n_clusters=6, random_state=42).fit(X_t0)\n",
    "model_m1 = KMeans(n_clusters=6, random_state=42).fit(X_t1)\n",
    "\n",
    "df_t1['cluster_m0'] = model_m0.predict(X_t1)\n",
    "df_t1['cluster_m1'] = model_m1.predict(X_t1)\n",
    "\n",
    "ari = adjusted_rand_score(df_t1['cluster_m0'], df_t1['cluster_m1'])\n",
    "print(f\"🎯 Adjusted Rand Index (M0 vs M1 sur T1) : {ari:.3f}\")"
   ]
  },
  {
   "cell_type": "markdown",
   "id": "d47651cb",
   "metadata": {},
   "source": [
    "### Afin d'etre plus rigoureux je vais creer une boucle qui va tester different modele avec un delta de decalage "
   ]
  },
  {
   "cell_type": "markdown",
   "id": "e6acedc2",
   "metadata": {},
   "source": [
    "## T0 : période d’entraînement du modèle\n",
    "## T1 : période de test\n",
    "## Δ = décalage entre T0 et T1"
   ]
  },
  {
   "cell_type": "code",
   "execution_count": 56,
   "id": "f4e9b92d",
   "metadata": {},
   "outputs": [],
   "source": [
    "date_max = pd.to_datetime(\"2018-10-17\")\n",
    "features = ['recency', 'nb_orders', 'total_spent', 'avg_review_score',\n",
    "            'avg_days_between_orders', 'payment_boleto', 'payment_credit_card',\n",
    "            'payment_debit_card', 'payment_voucher', 'payment_not_defined']"
   ]
  },
  {
   "cell_type": "code",
   "execution_count": 57,
   "id": "c9f81ad9",
   "metadata": {},
   "outputs": [],
   "source": [
    "delays = list(range(14, 90+1, 14))  # Délais de 2 semaines à 3 mois (en jours)\n",
    "ari_scores = []"
   ]
  },
  {
   "cell_type": "code",
   "execution_count": 58,
   "id": "0e3beff8",
   "metadata": {},
   "outputs": [
    {
     "name": "stderr",
     "output_type": "stream",
     "text": [
      "c:\\Users\\cosic\\AppData\\Local\\Programs\\Python\\Python311\\Lib\\site-packages\\sklearn\\cluster\\_kmeans.py:1412: FutureWarning: The default value of `n_init` will change from 10 to 'auto' in 1.4. Set the value of `n_init` explicitly to suppress the warning\n",
      "  super()._check_params_vs_input(X, default_n_init=10)\n",
      "c:\\Users\\cosic\\AppData\\Local\\Programs\\Python\\Python311\\Lib\\site-packages\\sklearn\\cluster\\_kmeans.py:1412: FutureWarning: The default value of `n_init` will change from 10 to 'auto' in 1.4. Set the value of `n_init` explicitly to suppress the warning\n",
      "  super()._check_params_vs_input(X, default_n_init=10)\n",
      "c:\\Users\\cosic\\AppData\\Local\\Programs\\Python\\Python311\\Lib\\site-packages\\sklearn\\cluster\\_kmeans.py:1412: FutureWarning: The default value of `n_init` will change from 10 to 'auto' in 1.4. Set the value of `n_init` explicitly to suppress the warning\n",
      "  super()._check_params_vs_input(X, default_n_init=10)\n",
      "c:\\Users\\cosic\\AppData\\Local\\Programs\\Python\\Python311\\Lib\\site-packages\\sklearn\\cluster\\_kmeans.py:1412: FutureWarning: The default value of `n_init` will change from 10 to 'auto' in 1.4. Set the value of `n_init` explicitly to suppress the warning\n",
      "  super()._check_params_vs_input(X, default_n_init=10)\n",
      "c:\\Users\\cosic\\AppData\\Local\\Programs\\Python\\Python311\\Lib\\site-packages\\sklearn\\cluster\\_kmeans.py:1412: FutureWarning: The default value of `n_init` will change from 10 to 'auto' in 1.4. Set the value of `n_init` explicitly to suppress the warning\n",
      "  super()._check_params_vs_input(X, default_n_init=10)\n",
      "c:\\Users\\cosic\\AppData\\Local\\Programs\\Python\\Python311\\Lib\\site-packages\\sklearn\\cluster\\_kmeans.py:1412: FutureWarning: The default value of `n_init` will change from 10 to 'auto' in 1.4. Set the value of `n_init` explicitly to suppress the warning\n",
      "  super()._check_params_vs_input(X, default_n_init=10)\n",
      "c:\\Users\\cosic\\AppData\\Local\\Programs\\Python\\Python311\\Lib\\site-packages\\sklearn\\cluster\\_kmeans.py:1412: FutureWarning: The default value of `n_init` will change from 10 to 'auto' in 1.4. Set the value of `n_init` explicitly to suppress the warning\n",
      "  super()._check_params_vs_input(X, default_n_init=10)\n",
      "c:\\Users\\cosic\\AppData\\Local\\Programs\\Python\\Python311\\Lib\\site-packages\\sklearn\\cluster\\_kmeans.py:1412: FutureWarning: The default value of `n_init` will change from 10 to 'auto' in 1.4. Set the value of `n_init` explicitly to suppress the warning\n",
      "  super()._check_params_vs_input(X, default_n_init=10)\n",
      "c:\\Users\\cosic\\AppData\\Local\\Programs\\Python\\Python311\\Lib\\site-packages\\sklearn\\cluster\\_kmeans.py:1412: FutureWarning: The default value of `n_init` will change from 10 to 'auto' in 1.4. Set the value of `n_init` explicitly to suppress the warning\n",
      "  super()._check_params_vs_input(X, default_n_init=10)\n",
      "c:\\Users\\cosic\\AppData\\Local\\Programs\\Python\\Python311\\Lib\\site-packages\\sklearn\\cluster\\_kmeans.py:1412: FutureWarning: The default value of `n_init` will change from 10 to 'auto' in 1.4. Set the value of `n_init` explicitly to suppress the warning\n",
      "  super()._check_params_vs_input(X, default_n_init=10)\n",
      "c:\\Users\\cosic\\AppData\\Local\\Programs\\Python\\Python311\\Lib\\site-packages\\sklearn\\cluster\\_kmeans.py:1412: FutureWarning: The default value of `n_init` will change from 10 to 'auto' in 1.4. Set the value of `n_init` explicitly to suppress the warning\n",
      "  super()._check_params_vs_input(X, default_n_init=10)\n",
      "c:\\Users\\cosic\\AppData\\Local\\Programs\\Python\\Python311\\Lib\\site-packages\\sklearn\\cluster\\_kmeans.py:1412: FutureWarning: The default value of `n_init` will change from 10 to 'auto' in 1.4. Set the value of `n_init` explicitly to suppress the warning\n",
      "  super()._check_params_vs_input(X, default_n_init=10)\n"
     ]
    }
   ],
   "source": [
    "for delta in delays:\n",
    "    # T1 : période de test (les 30 derniers jours)\n",
    "    t1_end = date_max\n",
    "    t1_start = t1_end - pd.Timedelta(days=60)\n",
    "    \n",
    "    # T0 : même durée que T1 mais avec un décalage de `delta` jours\n",
    "    t0_end = t1_end - pd.Timedelta(days=delta)\n",
    "    t0_start = t0_end - pd.Timedelta(days=365)\n",
    "\n",
    "    df_t0 = df_clients[(df_clients['last_order_date'] >= t0_start) & (df_clients['last_order_date'] <= t0_end)].copy()\n",
    "    df_t1 = df_clients[(df_clients['last_order_date'] >= t1_start) & (df_clients['last_order_date'] <= t1_end)].copy()\n",
    "    \n",
    "    # Filtrer si trop peu de clients\n",
    "    if len(df_t0) < 500 or len(df_t1) < 300:\n",
    "        continue\n",
    "\n",
    "    # Scaling\n",
    "    scaler = StandardScaler().fit(df_t0[features])\n",
    "    X_t0 = scaler.transform(df_t0[features])\n",
    "    X_t1 = scaler.transform(df_t1[features])\n",
    "\n",
    "    # Entraînement modèles\n",
    "    model_t0 = KMeans(n_clusters=6, random_state=42).fit(X_t0)\n",
    "    model_t1 = KMeans(n_clusters=6, random_state=42).fit(X_t1)\n",
    "\n",
    "    # Prédictions sur T1\n",
    "    pred_m0 = model_t0.predict(X_t1)\n",
    "    pred_m1 = model_t1.predict(X_t1)\n",
    "\n",
    "    # ARI\n",
    "    ari = adjusted_rand_score(pred_m0, pred_m1)\n",
    "    ari_scores.append((delta, ari))"
   ]
  },
  {
   "cell_type": "code",
   "execution_count": 59,
   "id": "77d5083d",
   "metadata": {},
   "outputs": [
    {
     "data": {
      "text/plain": [
       "[(14, 0.9956218557483456),\n",
       " (28, 0.6808757844270161),\n",
       " (42, 0.7760933218085019),\n",
       " (56, 0.6676322925116651),\n",
       " (70, 0.6516693689529326),\n",
       " (84, 0.6692178339061507)]"
      ]
     },
     "execution_count": 59,
     "metadata": {},
     "output_type": "execute_result"
    }
   ],
   "source": [
    "ari_scores"
   ]
  },
  {
   "cell_type": "markdown",
   "id": "d1123957",
   "metadata": {},
   "source": [
    "### Visualisation"
   ]
  },
  {
   "cell_type": "code",
   "execution_count": 60,
   "id": "82b6ea61",
   "metadata": {},
   "outputs": [
    {
     "data": {
      "image/png": "[encoded data removed]",
      "text/plain": [
       "<Figure size 1000x600 with 1 Axes>"
      ]
     },
     "metadata": {},
     "output_type": "display_data"
    }
   ],
   "source": [
    "x_vals = [d // 7 for d, _ in ari_scores]\n",
    "y_vals = [a for _, a in ari_scores]\n",
    "\n",
    "plt.figure(figsize=(10, 6))\n",
    "plt.plot(x_vals, y_vals, marker='o')\n",
    "plt.title(\"Évolution de l'ARI en fonction de l'ancienneté du modèle\")\n",
    "plt.xlabel(\"Décalage entre M0 et M1 (en semaines)\")\n",
    "plt.ylabel(\"Adjusted Rand Index\")\n",
    "plt.grid(True)\n",
    "plt.ylim(0, 1.05)\n",
    "plt.show()"
   ]
  },
  {
   "cell_type": "markdown",
   "id": "178f77b7",
   "metadata": {},
   "source": [
    "## T0 = 12 mois glissants,\n",
    "## T1 = T0 + décalage Δ,\n",
    "### puis comparaison de M0 vs M1 sur T1"
   ]
  },
  {
   "cell_type": "code",
   "execution_count": 61,
   "id": "098f0414",
   "metadata": {},
   "outputs": [
    {
     "data": {
      "text/html": [
       "<div>\n",
       "<style scoped>\n",
       "    .dataframe tbody tr th:only-of-type {\n",
       "        vertical-align: middle;\n",
       "    }\n",
       "\n",
       "    .dataframe tbody tr th {\n",
       "        vertical-align: top;\n",
       "    }\n",
       "\n",
       "    .dataframe thead th {\n",
       "        text-align: right;\n",
       "    }\n",
       "</style>\n",
       "<table border=\"1\" class=\"dataframe\">\n",
       "  <thead>\n",
       "    <tr style=\"text-align: right;\">\n",
       "      <th></th>\n",
       "      <th>customer_unique_id</th>\n",
       "      <th>nb_orders</th>\n",
       "      <th>first_order_date</th>\n",
       "      <th>last_order_date</th>\n",
       "      <th>total_spent</th>\n",
       "      <th>avg_review_score</th>\n",
       "      <th>nb_payment_types</th>\n",
       "      <th>recency</th>\n",
       "      <th>avg_days_between_orders</th>\n",
       "      <th>payment_boleto</th>\n",
       "      <th>payment_credit_card</th>\n",
       "      <th>payment_debit_card</th>\n",
       "      <th>payment_not_defined</th>\n",
       "      <th>payment_voucher</th>\n",
       "      <th>cluster</th>\n",
       "      <th>cluster_dbscan</th>\n",
       "    </tr>\n",
       "  </thead>\n",
       "  <tbody>\n",
       "    <tr>\n",
       "      <th>0</th>\n",
       "      <td>0000366f3b9a7992bf8c76cfdf3221e2</td>\n",
       "      <td>1</td>\n",
       "      <td>2018-05-10 10:56:27</td>\n",
       "      <td>2018-05-10 10:56:27</td>\n",
       "      <td>141.90</td>\n",
       "      <td>5.0</td>\n",
       "      <td>1</td>\n",
       "      <td>159</td>\n",
       "      <td>0.0</td>\n",
       "      <td>0.0</td>\n",
       "      <td>1.0</td>\n",
       "      <td>0.0</td>\n",
       "      <td>0.0</td>\n",
       "      <td>0.0</td>\n",
       "      <td>1</td>\n",
       "      <td>0</td>\n",
       "    </tr>\n",
       "    <tr>\n",
       "      <th>1</th>\n",
       "      <td>0000b849f77a49e4a4ce2b2a4ca5be3f</td>\n",
       "      <td>1</td>\n",
       "      <td>2018-05-07 11:11:27</td>\n",
       "      <td>2018-05-07 11:11:27</td>\n",
       "      <td>27.19</td>\n",
       "      <td>4.0</td>\n",
       "      <td>1</td>\n",
       "      <td>162</td>\n",
       "      <td>0.0</td>\n",
       "      <td>0.0</td>\n",
       "      <td>1.0</td>\n",
       "      <td>0.0</td>\n",
       "      <td>0.0</td>\n",
       "      <td>0.0</td>\n",
       "      <td>1</td>\n",
       "      <td>0</td>\n",
       "    </tr>\n",
       "    <tr>\n",
       "      <th>3</th>\n",
       "      <td>0000f6ccb0745a6a4b88665a16c9f078</td>\n",
       "      <td>1</td>\n",
       "      <td>2017-10-12 20:29:41</td>\n",
       "      <td>2017-10-12 20:29:41</td>\n",
       "      <td>43.62</td>\n",
       "      <td>4.0</td>\n",
       "      <td>1</td>\n",
       "      <td>368</td>\n",
       "      <td>0.0</td>\n",
       "      <td>0.0</td>\n",
       "      <td>1.0</td>\n",
       "      <td>0.0</td>\n",
       "      <td>0.0</td>\n",
       "      <td>0.0</td>\n",
       "      <td>1</td>\n",
       "      <td>0</td>\n",
       "    </tr>\n",
       "    <tr>\n",
       "      <th>4</th>\n",
       "      <td>0004aac84e0df4da2b147fca70cf8255</td>\n",
       "      <td>1</td>\n",
       "      <td>2017-11-14 19:45:42</td>\n",
       "      <td>2017-11-14 19:45:42</td>\n",
       "      <td>196.89</td>\n",
       "      <td>5.0</td>\n",
       "      <td>1</td>\n",
       "      <td>336</td>\n",
       "      <td>0.0</td>\n",
       "      <td>0.0</td>\n",
       "      <td>1.0</td>\n",
       "      <td>0.0</td>\n",
       "      <td>0.0</td>\n",
       "      <td>0.0</td>\n",
       "      <td>1</td>\n",
       "      <td>0</td>\n",
       "    </tr>\n",
       "    <tr>\n",
       "      <th>5</th>\n",
       "      <td>0004bd2a26a76fe21f786e4fbd80607f</td>\n",
       "      <td>1</td>\n",
       "      <td>2018-04-05 19:33:16</td>\n",
       "      <td>2018-04-05 19:33:16</td>\n",
       "      <td>166.98</td>\n",
       "      <td>4.0</td>\n",
       "      <td>1</td>\n",
       "      <td>194</td>\n",
       "      <td>0.0</td>\n",
       "      <td>0.0</td>\n",
       "      <td>1.0</td>\n",
       "      <td>0.0</td>\n",
       "      <td>0.0</td>\n",
       "      <td>0.0</td>\n",
       "      <td>1</td>\n",
       "      <td>0</td>\n",
       "    </tr>\n",
       "    <tr>\n",
       "      <th>...</th>\n",
       "      <td>...</td>\n",
       "      <td>...</td>\n",
       "      <td>...</td>\n",
       "      <td>...</td>\n",
       "      <td>...</td>\n",
       "      <td>...</td>\n",
       "      <td>...</td>\n",
       "      <td>...</td>\n",
       "      <td>...</td>\n",
       "      <td>...</td>\n",
       "      <td>...</td>\n",
       "      <td>...</td>\n",
       "      <td>...</td>\n",
       "      <td>...</td>\n",
       "      <td>...</td>\n",
       "      <td>...</td>\n",
       "    </tr>\n",
       "    <tr>\n",
       "      <th>96087</th>\n",
       "      <td>fffb09418989a0dbff854a28163e47c6</td>\n",
       "      <td>1</td>\n",
       "      <td>2017-12-17 19:14:35</td>\n",
       "      <td>2017-12-17 19:14:35</td>\n",
       "      <td>73.16</td>\n",
       "      <td>5.0</td>\n",
       "      <td>1</td>\n",
       "      <td>303</td>\n",
       "      <td>0.0</td>\n",
       "      <td>1.0</td>\n",
       "      <td>0.0</td>\n",
       "      <td>0.0</td>\n",
       "      <td>0.0</td>\n",
       "      <td>0.0</td>\n",
       "      <td>0</td>\n",
       "      <td>2</td>\n",
       "    </tr>\n",
       "    <tr>\n",
       "      <th>96088</th>\n",
       "      <td>fffbf87b7a1a6fa8b03f081c5f51a201</td>\n",
       "      <td>1</td>\n",
       "      <td>2017-12-27 22:36:41</td>\n",
       "      <td>2017-12-27 22:36:41</td>\n",
       "      <td>167.32</td>\n",
       "      <td>5.0</td>\n",
       "      <td>1</td>\n",
       "      <td>292</td>\n",
       "      <td>0.0</td>\n",
       "      <td>0.0</td>\n",
       "      <td>1.0</td>\n",
       "      <td>0.0</td>\n",
       "      <td>0.0</td>\n",
       "      <td>0.0</td>\n",
       "      <td>1</td>\n",
       "      <td>0</td>\n",
       "    </tr>\n",
       "    <tr>\n",
       "      <th>96089</th>\n",
       "      <td>fffcc512b7dfecaffd80f13614af1d16</td>\n",
       "      <td>1</td>\n",
       "      <td>2018-04-11 00:34:32</td>\n",
       "      <td>2018-04-11 00:34:32</td>\n",
       "      <td>710.70</td>\n",
       "      <td>1.0</td>\n",
       "      <td>1</td>\n",
       "      <td>188</td>\n",
       "      <td>0.0</td>\n",
       "      <td>0.0</td>\n",
       "      <td>1.0</td>\n",
       "      <td>0.0</td>\n",
       "      <td>0.0</td>\n",
       "      <td>0.0</td>\n",
       "      <td>3</td>\n",
       "      <td>0</td>\n",
       "    </tr>\n",
       "    <tr>\n",
       "      <th>96091</th>\n",
       "      <td>fffea47cd6d3cc0a88bd621562a9d061</td>\n",
       "      <td>1</td>\n",
       "      <td>2017-12-10 20:07:56</td>\n",
       "      <td>2017-12-10 20:07:56</td>\n",
       "      <td>84.58</td>\n",
       "      <td>4.0</td>\n",
       "      <td>1</td>\n",
       "      <td>310</td>\n",
       "      <td>0.0</td>\n",
       "      <td>0.0</td>\n",
       "      <td>1.0</td>\n",
       "      <td>0.0</td>\n",
       "      <td>0.0</td>\n",
       "      <td>0.0</td>\n",
       "      <td>1</td>\n",
       "      <td>0</td>\n",
       "    </tr>\n",
       "    <tr>\n",
       "      <th>96093</th>\n",
       "      <td>ffff5962728ec6157033ef9805bacc48</td>\n",
       "      <td>1</td>\n",
       "      <td>2018-05-02 15:17:41</td>\n",
       "      <td>2018-05-02 15:17:41</td>\n",
       "      <td>133.69</td>\n",
       "      <td>5.0</td>\n",
       "      <td>1</td>\n",
       "      <td>167</td>\n",
       "      <td>0.0</td>\n",
       "      <td>0.0</td>\n",
       "      <td>1.0</td>\n",
       "      <td>0.0</td>\n",
       "      <td>0.0</td>\n",
       "      <td>0.0</td>\n",
       "      <td>1</td>\n",
       "      <td>0</td>\n",
       "    </tr>\n",
       "  </tbody>\n",
       "</table>\n",
       "<p>70885 rows × 16 columns</p>\n",
       "</div>"
      ],
      "text/plain": [
       "                     customer_unique_id  nb_orders    first_order_date  \\\n",
       "0      0000366f3b9a7992bf8c76cfdf3221e2          1 2018-05-10 10:56:27   \n",
       "1      0000b849f77a49e4a4ce2b2a4ca5be3f          1 2018-05-07 11:11:27   \n",
       "3      0000f6ccb0745a6a4b88665a16c9f078          1 2017-10-12 20:29:41   \n",
       "4      0004aac84e0df4da2b147fca70cf8255          1 2017-11-14 19:45:42   \n",
       "5      0004bd2a26a76fe21f786e4fbd80607f          1 2018-04-05 19:33:16   \n",
       "...                                 ...        ...                 ...   \n",
       "96087  fffb09418989a0dbff854a28163e47c6          1 2017-12-17 19:14:35   \n",
       "96088  fffbf87b7a1a6fa8b03f081c5f51a201          1 2017-12-27 22:36:41   \n",
       "96089  fffcc512b7dfecaffd80f13614af1d16          1 2018-04-11 00:34:32   \n",
       "96091  fffea47cd6d3cc0a88bd621562a9d061          1 2017-12-10 20:07:56   \n",
       "96093  ffff5962728ec6157033ef9805bacc48          1 2018-05-02 15:17:41   \n",
       "\n",
       "          last_order_date  total_spent  avg_review_score  nb_payment_types  \\\n",
       "0     2018-05-10 10:56:27       141.90               5.0                 1   \n",
       "1     2018-05-07 11:11:27        27.19               4.0                 1   \n",
       "3     2017-10-12 20:29:41        43.62               4.0                 1   \n",
       "4     2017-11-14 19:45:42       196.89               5.0                 1   \n",
       "5     2018-04-05 19:33:16       166.98               4.0                 1   \n",
       "...                   ...          ...               ...               ...   \n",
       "96087 2017-12-17 19:14:35        73.16               5.0                 1   \n",
       "96088 2017-12-27 22:36:41       167.32               5.0                 1   \n",
       "96089 2018-04-11 00:34:32       710.70               1.0                 1   \n",
       "96091 2017-12-10 20:07:56        84.58               4.0                 1   \n",
       "96093 2018-05-02 15:17:41       133.69               5.0                 1   \n",
       "\n",
       "       recency  avg_days_between_orders  payment_boleto  payment_credit_card  \\\n",
       "0          159                      0.0             0.0                  1.0   \n",
       "1          162                      0.0             0.0                  1.0   \n",
       "3          368                      0.0             0.0                  1.0   \n",
       "4          336                      0.0             0.0                  1.0   \n",
       "5          194                      0.0             0.0                  1.0   \n",
       "...        ...                      ...             ...                  ...   \n",
       "96087      303                      0.0             1.0                  0.0   \n",
       "96088      292                      0.0             0.0                  1.0   \n",
       "96089      188                      0.0             0.0                  1.0   \n",
       "96091      310                      0.0             0.0                  1.0   \n",
       "96093      167                      0.0             0.0                  1.0   \n",
       "\n",
       "       payment_debit_card  payment_not_defined  payment_voucher  cluster  \\\n",
       "0                     0.0                  0.0              0.0        1   \n",
       "1                     0.0                  0.0              0.0        1   \n",
       "3                     0.0                  0.0              0.0        1   \n",
       "4                     0.0                  0.0              0.0        1   \n",
       "5                     0.0                  0.0              0.0        1   \n",
       "...                   ...                  ...              ...      ...   \n",
       "96087                 0.0                  0.0              0.0        0   \n",
       "96088                 0.0                  0.0              0.0        1   \n",
       "96089                 0.0                  0.0              0.0        3   \n",
       "96091                 0.0                  0.0              0.0        1   \n",
       "96093                 0.0                  0.0              0.0        1   \n",
       "\n",
       "       cluster_dbscan  \n",
       "0                   0  \n",
       "1                   0  \n",
       "3                   0  \n",
       "4                   0  \n",
       "5                   0  \n",
       "...               ...  \n",
       "96087               2  \n",
       "96088               0  \n",
       "96089               0  \n",
       "96091               0  \n",
       "96093               0  \n",
       "\n",
       "[70885 rows x 16 columns]"
      ]
     },
     "execution_count": 61,
     "metadata": {},
     "output_type": "execute_result"
    }
   ],
   "source": [
    "df_t0"
   ]
  },
  {
   "cell_type": "code",
   "execution_count": 62,
   "id": "b56725ec",
   "metadata": {},
   "outputs": [
    {
     "name": "stdout",
     "output_type": "stream",
     "text": [
      "Δ = 14 jours — T0 : 69696 clients, T1 : 67658 clients\n"
     ]
    },
    {
     "ename": "KeyError",
     "evalue": "\"['recency', 'avg_days_between_orders', 'payment_boleto', 'payment_credit_card', 'payment_debit_card', 'payment_voucher', 'payment_not_defined'] not in index\"",
     "output_type": "error",
     "traceback": [
      "\u001b[1;31m---------------------------------------------------------------------------\u001b[0m",
      "\u001b[1;31mKeyError\u001b[0m                                  Traceback (most recent call last)",
      "Cell \u001b[1;32mIn[62], line 26\u001b[0m\n\u001b[0;32m     23\u001b[0m     \u001b[38;5;28;01mcontinue\u001b[39;00m\n\u001b[0;32m     25\u001b[0m \u001b[38;5;66;03m# Scaling sur T0 uniquement\u001b[39;00m\n\u001b[1;32m---> 26\u001b[0m scaler \u001b[38;5;241m=\u001b[39m StandardScaler()\u001b[38;5;241m.\u001b[39mfit(\u001b[43mdf_t0\u001b[49m\u001b[43m[\u001b[49m\u001b[43mfeatures\u001b[49m\u001b[43m]\u001b[49m)\n\u001b[0;32m     27\u001b[0m X_t0 \u001b[38;5;241m=\u001b[39m scaler\u001b[38;5;241m.\u001b[39mtransform(df_t0[features])\n\u001b[0;32m     28\u001b[0m X_t1 \u001b[38;5;241m=\u001b[39m scaler\u001b[38;5;241m.\u001b[39mtransform(df_t1[features])\n",
      "File \u001b[1;32mc:\\Users\\cosic\\AppData\\Local\\Programs\\Python\\Python311\\Lib\\site-packages\\pandas\\core\\frame.py:3767\u001b[0m, in \u001b[0;36mDataFrame.__getitem__\u001b[1;34m(self, key)\u001b[0m\n\u001b[0;32m   3765\u001b[0m     \u001b[38;5;28;01mif\u001b[39;00m is_iterator(key):\n\u001b[0;32m   3766\u001b[0m         key \u001b[38;5;241m=\u001b[39m \u001b[38;5;28mlist\u001b[39m(key)\n\u001b[1;32m-> 3767\u001b[0m     indexer \u001b[38;5;241m=\u001b[39m \u001b[38;5;28;43mself\u001b[39;49m\u001b[38;5;241;43m.\u001b[39;49m\u001b[43mcolumns\u001b[49m\u001b[38;5;241;43m.\u001b[39;49m\u001b[43m_get_indexer_strict\u001b[49m\u001b[43m(\u001b[49m\u001b[43mkey\u001b[49m\u001b[43m,\u001b[49m\u001b[43m \u001b[49m\u001b[38;5;124;43m\"\u001b[39;49m\u001b[38;5;124;43mcolumns\u001b[39;49m\u001b[38;5;124;43m\"\u001b[39;49m\u001b[43m)\u001b[49m[\u001b[38;5;241m1\u001b[39m]\n\u001b[0;32m   3769\u001b[0m \u001b[38;5;66;03m# take() does not accept boolean indexers\u001b[39;00m\n\u001b[0;32m   3770\u001b[0m \u001b[38;5;28;01mif\u001b[39;00m \u001b[38;5;28mgetattr\u001b[39m(indexer, \u001b[38;5;124m\"\u001b[39m\u001b[38;5;124mdtype\u001b[39m\u001b[38;5;124m\"\u001b[39m, \u001b[38;5;28;01mNone\u001b[39;00m) \u001b[38;5;241m==\u001b[39m \u001b[38;5;28mbool\u001b[39m:\n",
      "File \u001b[1;32mc:\\Users\\cosic\\AppData\\Local\\Programs\\Python\\Python311\\Lib\\site-packages\\pandas\\core\\indexes\\base.py:5877\u001b[0m, in \u001b[0;36mIndex._get_indexer_strict\u001b[1;34m(self, key, axis_name)\u001b[0m\n\u001b[0;32m   5874\u001b[0m \u001b[38;5;28;01melse\u001b[39;00m:\n\u001b[0;32m   5875\u001b[0m     keyarr, indexer, new_indexer \u001b[38;5;241m=\u001b[39m \u001b[38;5;28mself\u001b[39m\u001b[38;5;241m.\u001b[39m_reindex_non_unique(keyarr)\n\u001b[1;32m-> 5877\u001b[0m \u001b[38;5;28;43mself\u001b[39;49m\u001b[38;5;241;43m.\u001b[39;49m\u001b[43m_raise_if_missing\u001b[49m\u001b[43m(\u001b[49m\u001b[43mkeyarr\u001b[49m\u001b[43m,\u001b[49m\u001b[43m \u001b[49m\u001b[43mindexer\u001b[49m\u001b[43m,\u001b[49m\u001b[43m \u001b[49m\u001b[43maxis_name\u001b[49m\u001b[43m)\u001b[49m\n\u001b[0;32m   5879\u001b[0m keyarr \u001b[38;5;241m=\u001b[39m \u001b[38;5;28mself\u001b[39m\u001b[38;5;241m.\u001b[39mtake(indexer)\n\u001b[0;32m   5880\u001b[0m \u001b[38;5;28;01mif\u001b[39;00m \u001b[38;5;28misinstance\u001b[39m(key, Index):\n\u001b[0;32m   5881\u001b[0m     \u001b[38;5;66;03m# GH 42790 - Preserve name from an Index\u001b[39;00m\n",
      "File \u001b[1;32mc:\\Users\\cosic\\AppData\\Local\\Programs\\Python\\Python311\\Lib\\site-packages\\pandas\\core\\indexes\\base.py:5941\u001b[0m, in \u001b[0;36mIndex._raise_if_missing\u001b[1;34m(self, key, indexer, axis_name)\u001b[0m\n\u001b[0;32m   5938\u001b[0m     \u001b[38;5;28;01mraise\u001b[39;00m \u001b[38;5;167;01mKeyError\u001b[39;00m(\u001b[38;5;124mf\u001b[39m\u001b[38;5;124m\"\u001b[39m\u001b[38;5;124mNone of [\u001b[39m\u001b[38;5;132;01m{\u001b[39;00mkey\u001b[38;5;132;01m}\u001b[39;00m\u001b[38;5;124m] are in the [\u001b[39m\u001b[38;5;132;01m{\u001b[39;00maxis_name\u001b[38;5;132;01m}\u001b[39;00m\u001b[38;5;124m]\u001b[39m\u001b[38;5;124m\"\u001b[39m)\n\u001b[0;32m   5940\u001b[0m not_found \u001b[38;5;241m=\u001b[39m \u001b[38;5;28mlist\u001b[39m(ensure_index(key)[missing_mask\u001b[38;5;241m.\u001b[39mnonzero()[\u001b[38;5;241m0\u001b[39m]]\u001b[38;5;241m.\u001b[39munique())\n\u001b[1;32m-> 5941\u001b[0m \u001b[38;5;28;01mraise\u001b[39;00m \u001b[38;5;167;01mKeyError\u001b[39;00m(\u001b[38;5;124mf\u001b[39m\u001b[38;5;124m\"\u001b[39m\u001b[38;5;132;01m{\u001b[39;00mnot_found\u001b[38;5;132;01m}\u001b[39;00m\u001b[38;5;124m not in index\u001b[39m\u001b[38;5;124m\"\u001b[39m)\n",
      "\u001b[1;31mKeyError\u001b[0m: \"['recency', 'avg_days_between_orders', 'payment_boleto', 'payment_credit_card', 'payment_debit_card', 'payment_voucher', 'payment_not_defined'] not in index\""
     ]
    }
   ],
   "source": [
    "features = ['recency', 'nb_orders', 'total_spent', 'avg_review_score',\n",
    "            'avg_days_between_orders', 'payment_boleto', 'payment_credit_card',\n",
    "            'payment_debit_card', 'payment_voucher', 'payment_not_defined']\n",
    "\n",
    "delays = list(range(14, 90+1, 14))  # Délais de 2 semaines à 3 mois\n",
    "ari_scores_year = []\n",
    "\n",
    "for delta in delays:\n",
    "    # Fenêtre T0 (12 mois terminant à date_max - delta)\n",
    "    t0_end = date_max - pd.Timedelta(days=delta)\n",
    "    t0_start = t0_end - pd.Timedelta(days=365)\n",
    "\n",
    "    # Fenêtre T1 (12 mois terminant à date_max)\n",
    "    t1_end = date_max\n",
    "    t1_start = t1_end - pd.Timedelta(days=365)\n",
    "\n",
    "    df_t0 = pd.read_sql_query(query.format(min_dt=t0_start, max_dt=t0_end), conn)\n",
    "    df_t1 = pd.read_sql_query(query.format(min_dt=t1_start, max_dt=t1_end), conn)\n",
    "\n",
    "    print(f\"Δ = {delta} jours — T0 : {len(df_t0)} clients, T1 : {len(df_t1)} clients\")\n",
    "\n",
    "    if len(df_t0) < 500 or len(df_t1) < 500:\n",
    "        continue\n",
    "\n",
    "    # Scaling sur T0 uniquement\n",
    "    scaler = StandardScaler().fit(df_t0[features])\n",
    "    X_t0 = scaler.transform(df_t0[features])\n",
    "    X_t1 = scaler.transform(df_t1[features])\n",
    "\n",
    "    # Entraînement des deux modèles\n",
    "    model_t0 = KMeans(n_clusters=6, random_state=42).fit(X_t0)\n",
    "    model_t1 = KMeans(n_clusters=6, random_state=42).fit(X_t1)\n",
    "\n",
    "    # Prédictions des deux modèles sur T1\n",
    "    pred_m0 = model_t0.predict(X_t1)\n",
    "    pred_m1 = model_t1.predict(X_t1)\n",
    "\n",
    "    # Calcul ARI\n",
    "    ari = adjusted_rand_score(pred_m0, pred_m1)\n",
    "    ari_scores_year.append((delta, ari))"
   ]
  },
  {
   "cell_type": "code",
   "execution_count": null,
   "id": "11f88a59",
   "metadata": {},
   "outputs": [
    {
     "data": {
      "text/plain": [
       "[(14, 0.9569651927096828),\n",
       " (28, 0.9301466576647147),\n",
       " (42, 0.9246245746286258),\n",
       " (56, 0.9980640419071147),\n",
       " (70, 0.9489305770868494),\n",
       " (84, 0.9727123212375971)]"
      ]
     },
     "execution_count": 133,
     "metadata": {},
     "output_type": "execute_result"
    }
   ],
   "source": [
    "ari_scores_year"
   ]
  },
  {
   "cell_type": "markdown",
   "id": "93b9c64c",
   "metadata": {},
   "source": [
    "### Visualisation"
   ]
  },
  {
   "cell_type": "code",
   "execution_count": null,
   "id": "aae1dddf",
   "metadata": {},
   "outputs": [
    {
     "data": {
      "image/png": "[encoded data removed]",
      "text/plain": [
       "<Figure size 1000x600 with 1 Axes>"
      ]
     },
     "metadata": {},
     "output_type": "display_data"
    }
   ],
   "source": [
    "x_vals = [d // 7 for d, _ in ari_scores_year]\n",
    "y_vals = [a for _, a in ari_scores_year]\n",
    "\n",
    "plt.figure(figsize=(10, 6))\n",
    "plt.plot(x_vals, y_vals, marker='o', label=\"ARI (fenêtres d’1 an)\")\n",
    "plt.axhline(0.8, color='green', linestyle='--', label='Seuil haute stabilité (0.8)')\n",
    "plt.axhline(0.6, color='red', linestyle='--', label='Seuil critique (0.6)')\n",
    "plt.title(\"Évolution de l'ARI sur des fenêtres annuelles glissantes\")\n",
    "plt.xlabel(\"Décalage entre M0 et M1 (en semaines)\")\n",
    "plt.ylabel(\"Adjusted Rand Index\")\n",
    "plt.grid(True)\n",
    "plt.legend()\n",
    "plt.ylim(0, 1.05)\n",
    "plt.show()"
   ]
  },
  {
   "cell_type": "markdown",
   "id": "8d66c128",
   "metadata": {},
   "source": [
    "## Nous pouvons apporter certains visuel afin de mieux comprendre les clusters"
   ]
  },
  {
   "cell_type": "code",
   "execution_count": null,
   "id": "bdc8426e",
   "metadata": {},
   "outputs": [
    {
     "name": "stderr",
     "output_type": "stream",
     "text": [
      "C:\\Users\\cosic\\AppData\\Local\\Temp\\ipykernel_22420\\3258238020.py:2: FutureWarning: \n",
      "\n",
      "Passing `palette` without assigning `hue` is deprecated and will be removed in v0.14.0. Assign the `x` variable to `hue` and set `legend=False` for the same effect.\n",
      "\n",
      "  sns.violinplot(data=df_clients, x='cluster', y='total_spent', palette='Set2')\n"
     ]
    },
    {
     "data": {
      "image/png": "[encoded data removed]",
      "text/plain": [
       "<Figure size 1000x600 with 1 Axes>"
      ]
     },
     "metadata": {},
     "output_type": "display_data"
    }
   ],
   "source": [
    "plt.figure(figsize=(10, 6))\n",
    "sns.violinplot(data=df_clients, x='cluster', y='total_spent', palette='Set2')\n",
    "plt.title(\"Distribution du montant total dépensé par cluster\")\n",
    "plt.xlabel(\"Cluster\")\n",
    "plt.ylabel(\"Total dépensé (R$)\")\n",
    "plt.grid(True)\n",
    "plt.show()"
   ]
  },
  {
   "cell_type": "code",
   "execution_count": null,
   "id": "0a76338e",
   "metadata": {},
   "outputs": [
    {
     "name": "stderr",
     "output_type": "stream",
     "text": [
      "C:\\Users\\cosic\\AppData\\Local\\Temp\\ipykernel_22420\\3665218031.py:3: FutureWarning: \n",
      "\n",
      "Passing `palette` without assigning `hue` is deprecated and will be removed in v0.14.0. Assign the `x` variable to `hue` and set `legend=False` for the same effect.\n",
      "\n",
      "  sns.violinplot(data=df_clients, x='cluster', y=col, palette='Set2')\n"
     ]
    },
    {
     "data": {
      "image/png": "[encoded data removed]",
      "text/plain": [
       "<Figure size 1000x600 with 1 Axes>"
      ]
     },
     "metadata": {},
     "output_type": "display_data"
    },
    {
     "name": "stderr",
     "output_type": "stream",
     "text": [
      "C:\\Users\\cosic\\AppData\\Local\\Temp\\ipykernel_22420\\3665218031.py:3: FutureWarning: \n",
      "\n",
      "Passing `palette` without assigning `hue` is deprecated and will be removed in v0.14.0. Assign the `x` variable to `hue` and set `legend=False` for the same effect.\n",
      "\n",
      "  sns.violinplot(data=df_clients, x='cluster', y=col, palette='Set2')\n"
     ]
    },
    {
     "data": {
      "image/png": "[encoded data removed]",
      "text/plain": [
       "<Figure size 1000x600 with 1 Axes>"
      ]
     },
     "metadata": {},
     "output_type": "display_data"
    },
    {
     "name": "stderr",
     "output_type": "stream",
     "text": [
      "C:\\Users\\cosic\\AppData\\Local\\Temp\\ipykernel_22420\\3665218031.py:3: FutureWarning: \n",
      "\n",
      "Passing `palette` without assigning `hue` is deprecated and will be removed in v0.14.0. Assign the `x` variable to `hue` and set `legend=False` for the same effect.\n",
      "\n",
      "  sns.violinplot(data=df_clients, x='cluster', y=col, palette='Set2')\n"
     ]
    },
    {
     "data": {
      "image/png": "[encoded data removed]",
      "text/plain": [
       "<Figure size 1000x600 with 1 Axes>"
      ]
     },
     "metadata": {},
     "output_type": "display_data"
    },
    {
     "name": "stderr",
     "output_type": "stream",
     "text": [
      "C:\\Users\\cosic\\AppData\\Local\\Temp\\ipykernel_22420\\3665218031.py:3: FutureWarning: \n",
      "\n",
      "Passing `palette` without assigning `hue` is deprecated and will be removed in v0.14.0. Assign the `x` variable to `hue` and set `legend=False` for the same effect.\n",
      "\n",
      "  sns.violinplot(data=df_clients, x='cluster', y=col, palette='Set2')\n"
     ]
    },
    {
     "data": {
      "image/png": "[encoded data removed]",
      "text/plain": [
       "<Figure size 1000x600 with 1 Axes>"
      ]
     },
     "metadata": {},
     "output_type": "display_data"
    }
   ],
   "source": [
    "for col in ['recency', 'nb_orders', 'avg_review_score', 'avg_days_between_orders']:\n",
    "    plt.figure(figsize=(10, 6))\n",
    "    sns.violinplot(data=df_clients, x='cluster', y=col, palette='Set2')\n",
    "    plt.title(f\"Distribution de {col} par cluster\")\n",
    "    plt.xlabel(\"Cluster\")\n",
    "    plt.ylabel(col)\n",
    "    plt.grid(True)\n",
    "    plt.show()"
   ]
  },
  {
   "cell_type": "markdown",
   "id": "42b1dfb1",
   "metadata": {},
   "source": [
    "### Dispersion des clusters"
   ]
  },
  {
   "cell_type": "code",
   "execution_count": null,
   "id": "af5d9103",
   "metadata": {},
   "outputs": [
    {
     "name": "stderr",
     "output_type": "stream",
     "text": [
      "C:\\Users\\cosic\\AppData\\Local\\Temp\\ipykernel_22420\\2063916395.py:1: FutureWarning: \n",
      "\n",
      "Passing `palette` without assigning `hue` is deprecated and will be removed in v0.14.0. Assign the `x` variable to `hue` and set `legend=False` for the same effect.\n",
      "\n",
      "  sns.countplot(data=df_clients, x='cluster', palette='Set2')\n"
     ]
    },
    {
     "data": {
      "image/png": "[encoded data removed]",
      "text/plain": [
       "<Figure size 800x550 with 1 Axes>"
      ]
     },
     "metadata": {},
     "output_type": "display_data"
    }
   ],
   "source": [
    "sns.countplot(data=df_clients, x='cluster', palette='Set2')\n",
    "plt.title(\"Répartition des clients par cluster\")\n",
    "plt.xlabel(\"Cluster\")\n",
    "plt.ylabel(\"Nombre de clients\")\n",
    "plt.grid(True)\n",
    "plt.show()"
   ]
  },
  {
   "cell_type": "code",
   "execution_count": null,
   "id": "7ba84662",
   "metadata": {},
   "outputs": [],
   "source": []
  }
 ],
 "metadata": {
  "kernelspec": {
   "display_name": "Python 3",
   "language": "python",
   "name": "python3"
  },
  "language_info": {
   "codemirror_mode": {
    "name": "ipython",
    "version": 3
   },
   "file_extension": ".py",
   "mimetype": "text/x-python",
   "name": "python",
   "nbconvert_exporter": "python",
   "pygments_lexer": "ipython3",
   "version": "3.11.4"
  }
 },
 "nbformat": 4,
 "nbformat_minor": 5
}
