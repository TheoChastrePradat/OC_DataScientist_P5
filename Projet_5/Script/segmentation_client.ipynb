{
 "cells": [
  {
   "cell_type": "code",
   "execution_count": 2,
   "id": "802cac6c",
   "metadata": {},
   "outputs": [],
   "source": [
    "import sqlite3\n",
    "import numpy as np\n",
    "import pandas as pd\n",
    "import seaborn as sns\n",
    "import matplotlib as mpl\n",
    "from datetime import datetime\n",
    "import matplotlib.pyplot as plt\n",
    "from sklearn.decomposition import PCA\n",
    "from sklearn.preprocessing import StandardScaler\n",
    "\n",
    "from sklearn.cluster import KMeans\n",
    "from sklearn.datasets import make_blobs\n",
    "from yellowbrick.cluster import KElbowVisualizer, SilhouetteVisualizer"
   ]
  },
  {
   "cell_type": "markdown",
   "id": "e8d8bbb4",
   "metadata": {},
   "source": [
    "## Connexion à la base SQLite"
   ]
  },
  {
   "cell_type": "code",
   "execution_count": 3,
   "id": "ddf4c15d",
   "metadata": {},
   "outputs": [],
   "source": [
    "conn = sqlite3.connect(\"../Source/olist.db\")"
   ]
  },
  {
   "cell_type": "markdown",
   "id": "e04dd7e4",
   "metadata": {},
   "source": [
    "## Nous allons charger les tables pertinentes (customers, orders, order_items, order_reviews, order_pymts..)\n",
    "## Fusionner les données pour avoir un client = une ligne"
   ]
  },
  {
   "cell_type": "markdown",
   "id": "002f9919",
   "metadata": {},
   "source": [
    "### Execution d'une requete dans une string et l'utiliser au travers d'une fonction pandas query sql"
   ]
  },
  {
   "cell_type": "code",
   "execution_count": 4,
   "id": "446e5e24",
   "metadata": {},
   "outputs": [],
   "source": [
    "query = \"\"\"\n",
    "SELECT\n",
    "    c.customer_unique_id,\n",
    "    COUNT(DISTINCT o.order_id) AS nb_orders,\n",
    "    MIN(o.order_purchase_timestamp) AS first_order_date,\n",
    "    MAX(o.order_purchase_timestamp) AS last_order_date,\n",
    "    ROUND(SUM(oi.price + oi.freight_value), 2) AS total_spent,\n",
    "    AVG(r.review_score) AS avg_review_score,\n",
    "    COUNT(DISTINCT op.payment_type) AS nb_payment_types\n",
    "FROM customers c\n",
    "JOIN orders o ON c.customer_id = o.customer_id\n",
    "LEFT JOIN order_items oi ON o.order_id = oi.order_id\n",
    "LEFT JOIN order_reviews r ON o.order_id = r.order_id\n",
    "LEFT JOIN order_pymts op ON o.order_id = op.order_id\n",
    "GROUP BY c.customer_unique_id;\n",
    "\"\"\""
   ]
  },
  {
   "cell_type": "code",
   "execution_count": 5,
   "id": "dbbe262a",
   "metadata": {},
   "outputs": [],
   "source": [
    "df_clients = pd.read_sql_query(query, conn)"
   ]
  },
  {
   "cell_type": "code",
   "execution_count": 6,
   "id": "b6ba3590",
   "metadata": {},
   "outputs": [
    {
     "data": {
      "text/html": [
       "<div>\n",
       "<style scoped>\n",
       "    .dataframe tbody tr th:only-of-type {\n",
       "        vertical-align: middle;\n",
       "    }\n",
       "\n",
       "    .dataframe tbody tr th {\n",
       "        vertical-align: top;\n",
       "    }\n",
       "\n",
       "    .dataframe thead th {\n",
       "        text-align: right;\n",
       "    }\n",
       "</style>\n",
       "<table border=\"1\" class=\"dataframe\">\n",
       "  <thead>\n",
       "    <tr style=\"text-align: right;\">\n",
       "      <th></th>\n",
       "      <th>customer_unique_id</th>\n",
       "      <th>nb_orders</th>\n",
       "      <th>first_order_date</th>\n",
       "      <th>last_order_date</th>\n",
       "      <th>total_spent</th>\n",
       "      <th>avg_review_score</th>\n",
       "      <th>nb_payment_types</th>\n",
       "    </tr>\n",
       "  </thead>\n",
       "  <tbody>\n",
       "    <tr>\n",
       "      <th>0</th>\n",
       "      <td>0000366f3b9a7992bf8c76cfdf3221e2</td>\n",
       "      <td>1</td>\n",
       "      <td>2018-05-10 10:56:27</td>\n",
       "      <td>2018-05-10 10:56:27</td>\n",
       "      <td>141.90</td>\n",
       "      <td>5.0</td>\n",
       "      <td>1</td>\n",
       "    </tr>\n",
       "    <tr>\n",
       "      <th>1</th>\n",
       "      <td>0000b849f77a49e4a4ce2b2a4ca5be3f</td>\n",
       "      <td>1</td>\n",
       "      <td>2018-05-07 11:11:27</td>\n",
       "      <td>2018-05-07 11:11:27</td>\n",
       "      <td>27.19</td>\n",
       "      <td>4.0</td>\n",
       "      <td>1</td>\n",
       "    </tr>\n",
       "    <tr>\n",
       "      <th>2</th>\n",
       "      <td>0000f46a3911fa3c0805444483337064</td>\n",
       "      <td>1</td>\n",
       "      <td>2017-03-10 21:05:03</td>\n",
       "      <td>2017-03-10 21:05:03</td>\n",
       "      <td>86.22</td>\n",
       "      <td>3.0</td>\n",
       "      <td>1</td>\n",
       "    </tr>\n",
       "    <tr>\n",
       "      <th>3</th>\n",
       "      <td>0000f6ccb0745a6a4b88665a16c9f078</td>\n",
       "      <td>1</td>\n",
       "      <td>2017-10-12 20:29:41</td>\n",
       "      <td>2017-10-12 20:29:41</td>\n",
       "      <td>43.62</td>\n",
       "      <td>4.0</td>\n",
       "      <td>1</td>\n",
       "    </tr>\n",
       "    <tr>\n",
       "      <th>4</th>\n",
       "      <td>0004aac84e0df4da2b147fca70cf8255</td>\n",
       "      <td>1</td>\n",
       "      <td>2017-11-14 19:45:42</td>\n",
       "      <td>2017-11-14 19:45:42</td>\n",
       "      <td>196.89</td>\n",
       "      <td>5.0</td>\n",
       "      <td>1</td>\n",
       "    </tr>\n",
       "    <tr>\n",
       "      <th>...</th>\n",
       "      <td>...</td>\n",
       "      <td>...</td>\n",
       "      <td>...</td>\n",
       "      <td>...</td>\n",
       "      <td>...</td>\n",
       "      <td>...</td>\n",
       "      <td>...</td>\n",
       "    </tr>\n",
       "    <tr>\n",
       "      <th>96091</th>\n",
       "      <td>fffcf5a5ff07b0908bd4e2dbc735a684</td>\n",
       "      <td>1</td>\n",
       "      <td>2017-06-08 21:00:36</td>\n",
       "      <td>2017-06-08 21:00:36</td>\n",
       "      <td>2067.42</td>\n",
       "      <td>5.0</td>\n",
       "      <td>1</td>\n",
       "    </tr>\n",
       "    <tr>\n",
       "      <th>96092</th>\n",
       "      <td>fffea47cd6d3cc0a88bd621562a9d061</td>\n",
       "      <td>1</td>\n",
       "      <td>2017-12-10 20:07:56</td>\n",
       "      <td>2017-12-10 20:07:56</td>\n",
       "      <td>84.58</td>\n",
       "      <td>4.0</td>\n",
       "      <td>1</td>\n",
       "    </tr>\n",
       "    <tr>\n",
       "      <th>96093</th>\n",
       "      <td>ffff371b4d645b6ecea244b27531430a</td>\n",
       "      <td>1</td>\n",
       "      <td>2017-02-07 15:49:16</td>\n",
       "      <td>2017-02-07 15:49:16</td>\n",
       "      <td>112.46</td>\n",
       "      <td>5.0</td>\n",
       "      <td>1</td>\n",
       "    </tr>\n",
       "    <tr>\n",
       "      <th>96094</th>\n",
       "      <td>ffff5962728ec6157033ef9805bacc48</td>\n",
       "      <td>1</td>\n",
       "      <td>2018-05-02 15:17:41</td>\n",
       "      <td>2018-05-02 15:17:41</td>\n",
       "      <td>133.69</td>\n",
       "      <td>5.0</td>\n",
       "      <td>1</td>\n",
       "    </tr>\n",
       "    <tr>\n",
       "      <th>96095</th>\n",
       "      <td>ffffd2657e2aad2907e67c3e9daecbeb</td>\n",
       "      <td>1</td>\n",
       "      <td>2017-05-02 20:18:45</td>\n",
       "      <td>2017-05-02 20:18:45</td>\n",
       "      <td>71.56</td>\n",
       "      <td>5.0</td>\n",
       "      <td>1</td>\n",
       "    </tr>\n",
       "  </tbody>\n",
       "</table>\n",
       "<p>96096 rows × 7 columns</p>\n",
       "</div>"
      ],
      "text/plain": [
       "                     customer_unique_id  nb_orders     first_order_date  \\\n",
       "0      0000366f3b9a7992bf8c76cfdf3221e2          1  2018-05-10 10:56:27   \n",
       "1      0000b849f77a49e4a4ce2b2a4ca5be3f          1  2018-05-07 11:11:27   \n",
       "2      0000f46a3911fa3c0805444483337064          1  2017-03-10 21:05:03   \n",
       "3      0000f6ccb0745a6a4b88665a16c9f078          1  2017-10-12 20:29:41   \n",
       "4      0004aac84e0df4da2b147fca70cf8255          1  2017-11-14 19:45:42   \n",
       "...                                 ...        ...                  ...   \n",
       "96091  fffcf5a5ff07b0908bd4e2dbc735a684          1  2017-06-08 21:00:36   \n",
       "96092  fffea47cd6d3cc0a88bd621562a9d061          1  2017-12-10 20:07:56   \n",
       "96093  ffff371b4d645b6ecea244b27531430a          1  2017-02-07 15:49:16   \n",
       "96094  ffff5962728ec6157033ef9805bacc48          1  2018-05-02 15:17:41   \n",
       "96095  ffffd2657e2aad2907e67c3e9daecbeb          1  2017-05-02 20:18:45   \n",
       "\n",
       "           last_order_date  total_spent  avg_review_score  nb_payment_types  \n",
       "0      2018-05-10 10:56:27       141.90               5.0                 1  \n",
       "1      2018-05-07 11:11:27        27.19               4.0                 1  \n",
       "2      2017-03-10 21:05:03        86.22               3.0                 1  \n",
       "3      2017-10-12 20:29:41        43.62               4.0                 1  \n",
       "4      2017-11-14 19:45:42       196.89               5.0                 1  \n",
       "...                    ...          ...               ...               ...  \n",
       "96091  2017-06-08 21:00:36      2067.42               5.0                 1  \n",
       "96092  2017-12-10 20:07:56        84.58               4.0                 1  \n",
       "96093  2017-02-07 15:49:16       112.46               5.0                 1  \n",
       "96094  2018-05-02 15:17:41       133.69               5.0                 1  \n",
       "96095  2017-05-02 20:18:45        71.56               5.0                 1  \n",
       "\n",
       "[96096 rows x 7 columns]"
      ]
     },
     "execution_count": 6,
     "metadata": {},
     "output_type": "execute_result"
    }
   ],
   "source": [
    "df_clients"
   ]
  },
  {
   "cell_type": "markdown",
   "id": "1ba59d8e",
   "metadata": {},
   "source": [
    "### Nous avons donc bien un client par ligne avec plusieurs indicateurs (variables/features) importants"
   ]
  },
  {
   "cell_type": "markdown",
   "id": "c91fbe4f",
   "metadata": {},
   "source": [
    "## Nous allons maintenant enrichinir notre jeu de donnees avec d'avantage de feature"
   ]
  },
  {
   "cell_type": "markdown",
   "id": "48b86649",
   "metadata": {},
   "source": [
    "#### Ici on va stocker une date de reference, a savoir la date la plus recente"
   ]
  },
  {
   "cell_type": "code",
   "execution_count": 7,
   "id": "9f44700a",
   "metadata": {},
   "outputs": [],
   "source": [
    "reference_date = df_clients['last_order_date'].max()"
   ]
  },
  {
   "cell_type": "code",
   "execution_count": 8,
   "id": "9d76dec8",
   "metadata": {},
   "outputs": [
    {
     "data": {
      "text/plain": [
       "str"
      ]
     },
     "execution_count": 8,
     "metadata": {},
     "output_type": "execute_result"
    }
   ],
   "source": [
    "type(reference_date)"
   ]
  },
  {
   "cell_type": "markdown",
   "id": "17540e79",
   "metadata": {},
   "source": [
    "#### Nous convertissons notre date de reference au format datetime pour mieux la manipuler avec les autres colonnes"
   ]
  },
  {
   "cell_type": "code",
   "execution_count": 9,
   "id": "3a39db58",
   "metadata": {},
   "outputs": [],
   "source": [
    "reference_date = datetime.strptime(reference_date, \"%Y-%m-%d %H:%M:%S\")\n",
    "reference_date = pd.to_datetime(reference_date)"
   ]
  },
  {
   "cell_type": "code",
   "execution_count": 10,
   "id": "d74fea51",
   "metadata": {},
   "outputs": [
    {
     "data": {
      "text/plain": [
       "Timestamp('2018-10-17 17:30:18')"
      ]
     },
     "execution_count": 10,
     "metadata": {},
     "output_type": "execute_result"
    }
   ],
   "source": [
    "type(reference_date)\n",
    "reference_date"
   ]
  },
  {
   "cell_type": "code",
   "execution_count": 11,
   "id": "0a8cff9d",
   "metadata": {},
   "outputs": [],
   "source": [
    "df_clients['last_order_date'] = pd.to_datetime(df_clients['last_order_date'])\n",
    "df_clients['first_order_date'] = pd.to_datetime(df_clients['first_order_date'])"
   ]
  },
  {
   "cell_type": "code",
   "execution_count": 12,
   "id": "69407886",
   "metadata": {},
   "outputs": [
    {
     "name": "stdout",
     "output_type": "stream",
     "text": [
      "<class 'pandas.core.frame.DataFrame'>\n",
      "RangeIndex: 96096 entries, 0 to 96095\n",
      "Data columns (total 7 columns):\n",
      " #   Column              Non-Null Count  Dtype         \n",
      "---  ------              --------------  -----         \n",
      " 0   customer_unique_id  96096 non-null  object        \n",
      " 1   nb_orders           96096 non-null  int64         \n",
      " 2   first_order_date    96096 non-null  datetime64[ns]\n",
      " 3   last_order_date     96096 non-null  datetime64[ns]\n",
      " 4   total_spent         95420 non-null  float64       \n",
      " 5   avg_review_score    95380 non-null  float64       \n",
      " 6   nb_payment_types    96096 non-null  int64         \n",
      "dtypes: datetime64[ns](2), float64(2), int64(2), object(1)\n",
      "memory usage: 5.1+ MB\n"
     ]
    }
   ],
   "source": [
    "df_clients.info()"
   ]
  },
  {
   "cell_type": "code",
   "execution_count": 13,
   "id": "098b75e9",
   "metadata": {},
   "outputs": [],
   "source": [
    "df_clients['recency'] = (reference_date - df_clients['last_order_date']).dt.days"
   ]
  },
  {
   "cell_type": "markdown",
   "id": "432f7dfe",
   "metadata": {},
   "source": [
    "### Nous venons donc de creer une nouvelle variable \"recency\" qui nous donne la recence des commandes pour nos clients. Un des parametre du RFM"
   ]
  },
  {
   "cell_type": "code",
   "execution_count": 14,
   "id": "119f50b7",
   "metadata": {},
   "outputs": [
    {
     "data": {
      "text/html": [
       "<div>\n",
       "<style scoped>\n",
       "    .dataframe tbody tr th:only-of-type {\n",
       "        vertical-align: middle;\n",
       "    }\n",
       "\n",
       "    .dataframe tbody tr th {\n",
       "        vertical-align: top;\n",
       "    }\n",
       "\n",
       "    .dataframe thead th {\n",
       "        text-align: right;\n",
       "    }\n",
       "</style>\n",
       "<table border=\"1\" class=\"dataframe\">\n",
       "  <thead>\n",
       "    <tr style=\"text-align: right;\">\n",
       "      <th></th>\n",
       "      <th>customer_unique_id</th>\n",
       "      <th>nb_orders</th>\n",
       "      <th>first_order_date</th>\n",
       "      <th>last_order_date</th>\n",
       "      <th>total_spent</th>\n",
       "      <th>avg_review_score</th>\n",
       "      <th>nb_payment_types</th>\n",
       "      <th>recency</th>\n",
       "    </tr>\n",
       "  </thead>\n",
       "  <tbody>\n",
       "    <tr>\n",
       "      <th>0</th>\n",
       "      <td>0000366f3b9a7992bf8c76cfdf3221e2</td>\n",
       "      <td>1</td>\n",
       "      <td>2018-05-10 10:56:27</td>\n",
       "      <td>2018-05-10 10:56:27</td>\n",
       "      <td>141.90</td>\n",
       "      <td>5.0</td>\n",
       "      <td>1</td>\n",
       "      <td>160</td>\n",
       "    </tr>\n",
       "    <tr>\n",
       "      <th>1</th>\n",
       "      <td>0000b849f77a49e4a4ce2b2a4ca5be3f</td>\n",
       "      <td>1</td>\n",
       "      <td>2018-05-07 11:11:27</td>\n",
       "      <td>2018-05-07 11:11:27</td>\n",
       "      <td>27.19</td>\n",
       "      <td>4.0</td>\n",
       "      <td>1</td>\n",
       "      <td>163</td>\n",
       "    </tr>\n",
       "    <tr>\n",
       "      <th>2</th>\n",
       "      <td>0000f46a3911fa3c0805444483337064</td>\n",
       "      <td>1</td>\n",
       "      <td>2017-03-10 21:05:03</td>\n",
       "      <td>2017-03-10 21:05:03</td>\n",
       "      <td>86.22</td>\n",
       "      <td>3.0</td>\n",
       "      <td>1</td>\n",
       "      <td>585</td>\n",
       "    </tr>\n",
       "    <tr>\n",
       "      <th>3</th>\n",
       "      <td>0000f6ccb0745a6a4b88665a16c9f078</td>\n",
       "      <td>1</td>\n",
       "      <td>2017-10-12 20:29:41</td>\n",
       "      <td>2017-10-12 20:29:41</td>\n",
       "      <td>43.62</td>\n",
       "      <td>4.0</td>\n",
       "      <td>1</td>\n",
       "      <td>369</td>\n",
       "    </tr>\n",
       "    <tr>\n",
       "      <th>4</th>\n",
       "      <td>0004aac84e0df4da2b147fca70cf8255</td>\n",
       "      <td>1</td>\n",
       "      <td>2017-11-14 19:45:42</td>\n",
       "      <td>2017-11-14 19:45:42</td>\n",
       "      <td>196.89</td>\n",
       "      <td>5.0</td>\n",
       "      <td>1</td>\n",
       "      <td>336</td>\n",
       "    </tr>\n",
       "    <tr>\n",
       "      <th>...</th>\n",
       "      <td>...</td>\n",
       "      <td>...</td>\n",
       "      <td>...</td>\n",
       "      <td>...</td>\n",
       "      <td>...</td>\n",
       "      <td>...</td>\n",
       "      <td>...</td>\n",
       "      <td>...</td>\n",
       "    </tr>\n",
       "    <tr>\n",
       "      <th>96091</th>\n",
       "      <td>fffcf5a5ff07b0908bd4e2dbc735a684</td>\n",
       "      <td>1</td>\n",
       "      <td>2017-06-08 21:00:36</td>\n",
       "      <td>2017-06-08 21:00:36</td>\n",
       "      <td>2067.42</td>\n",
       "      <td>5.0</td>\n",
       "      <td>1</td>\n",
       "      <td>495</td>\n",
       "    </tr>\n",
       "    <tr>\n",
       "      <th>96092</th>\n",
       "      <td>fffea47cd6d3cc0a88bd621562a9d061</td>\n",
       "      <td>1</td>\n",
       "      <td>2017-12-10 20:07:56</td>\n",
       "      <td>2017-12-10 20:07:56</td>\n",
       "      <td>84.58</td>\n",
       "      <td>4.0</td>\n",
       "      <td>1</td>\n",
       "      <td>310</td>\n",
       "    </tr>\n",
       "    <tr>\n",
       "      <th>96093</th>\n",
       "      <td>ffff371b4d645b6ecea244b27531430a</td>\n",
       "      <td>1</td>\n",
       "      <td>2017-02-07 15:49:16</td>\n",
       "      <td>2017-02-07 15:49:16</td>\n",
       "      <td>112.46</td>\n",
       "      <td>5.0</td>\n",
       "      <td>1</td>\n",
       "      <td>617</td>\n",
       "    </tr>\n",
       "    <tr>\n",
       "      <th>96094</th>\n",
       "      <td>ffff5962728ec6157033ef9805bacc48</td>\n",
       "      <td>1</td>\n",
       "      <td>2018-05-02 15:17:41</td>\n",
       "      <td>2018-05-02 15:17:41</td>\n",
       "      <td>133.69</td>\n",
       "      <td>5.0</td>\n",
       "      <td>1</td>\n",
       "      <td>168</td>\n",
       "    </tr>\n",
       "    <tr>\n",
       "      <th>96095</th>\n",
       "      <td>ffffd2657e2aad2907e67c3e9daecbeb</td>\n",
       "      <td>1</td>\n",
       "      <td>2017-05-02 20:18:45</td>\n",
       "      <td>2017-05-02 20:18:45</td>\n",
       "      <td>71.56</td>\n",
       "      <td>5.0</td>\n",
       "      <td>1</td>\n",
       "      <td>532</td>\n",
       "    </tr>\n",
       "  </tbody>\n",
       "</table>\n",
       "<p>96096 rows × 8 columns</p>\n",
       "</div>"
      ],
      "text/plain": [
       "                     customer_unique_id  nb_orders    first_order_date  \\\n",
       "0      0000366f3b9a7992bf8c76cfdf3221e2          1 2018-05-10 10:56:27   \n",
       "1      0000b849f77a49e4a4ce2b2a4ca5be3f          1 2018-05-07 11:11:27   \n",
       "2      0000f46a3911fa3c0805444483337064          1 2017-03-10 21:05:03   \n",
       "3      0000f6ccb0745a6a4b88665a16c9f078          1 2017-10-12 20:29:41   \n",
       "4      0004aac84e0df4da2b147fca70cf8255          1 2017-11-14 19:45:42   \n",
       "...                                 ...        ...                 ...   \n",
       "96091  fffcf5a5ff07b0908bd4e2dbc735a684          1 2017-06-08 21:00:36   \n",
       "96092  fffea47cd6d3cc0a88bd621562a9d061          1 2017-12-10 20:07:56   \n",
       "96093  ffff371b4d645b6ecea244b27531430a          1 2017-02-07 15:49:16   \n",
       "96094  ffff5962728ec6157033ef9805bacc48          1 2018-05-02 15:17:41   \n",
       "96095  ffffd2657e2aad2907e67c3e9daecbeb          1 2017-05-02 20:18:45   \n",
       "\n",
       "          last_order_date  total_spent  avg_review_score  nb_payment_types  \\\n",
       "0     2018-05-10 10:56:27       141.90               5.0                 1   \n",
       "1     2018-05-07 11:11:27        27.19               4.0                 1   \n",
       "2     2017-03-10 21:05:03        86.22               3.0                 1   \n",
       "3     2017-10-12 20:29:41        43.62               4.0                 1   \n",
       "4     2017-11-14 19:45:42       196.89               5.0                 1   \n",
       "...                   ...          ...               ...               ...   \n",
       "96091 2017-06-08 21:00:36      2067.42               5.0                 1   \n",
       "96092 2017-12-10 20:07:56        84.58               4.0                 1   \n",
       "96093 2017-02-07 15:49:16       112.46               5.0                 1   \n",
       "96094 2018-05-02 15:17:41       133.69               5.0                 1   \n",
       "96095 2017-05-02 20:18:45        71.56               5.0                 1   \n",
       "\n",
       "       recency  \n",
       "0          160  \n",
       "1          163  \n",
       "2          585  \n",
       "3          369  \n",
       "4          336  \n",
       "...        ...  \n",
       "96091      495  \n",
       "96092      310  \n",
       "96093      617  \n",
       "96094      168  \n",
       "96095      532  \n",
       "\n",
       "[96096 rows x 8 columns]"
      ]
     },
     "execution_count": 14,
     "metadata": {},
     "output_type": "execute_result"
    }
   ],
   "source": [
    "df_clients"
   ]
  },
  {
   "cell_type": "markdown",
   "id": "40c877b5",
   "metadata": {},
   "source": [
    "### Nos deux autres parametre F (Frequence) et M (montant), nous les avons deja au travers des variables suivantes :  nb_orders et total_spent"
   ]
  },
  {
   "cell_type": "markdown",
   "id": "516997ae",
   "metadata": {},
   "source": [
    "### Par contre il serait interessant de savoir quel est le delais moyen entre chaque commande pour nos clients"
   ]
  },
  {
   "cell_type": "code",
   "execution_count": 15,
   "id": "159c1845",
   "metadata": {},
   "outputs": [],
   "source": [
    "df_clients['avg_days_between_orders'] = ((df_clients['last_order_date'] - df_clients['first_order_date']).dt.days / df_clients['nb_orders'].replace(1, np.nan))"
   ]
  },
  {
   "cell_type": "code",
   "execution_count": 16,
   "id": "19058e1c",
   "metadata": {},
   "outputs": [],
   "source": [
    "df_clients['avg_days_between_orders'] = df_clients['avg_days_between_orders'].round(2)"
   ]
  },
  {
   "cell_type": "code",
   "execution_count": 17,
   "id": "449408da",
   "metadata": {},
   "outputs": [
    {
     "data": {
      "text/html": [
       "<div>\n",
       "<style scoped>\n",
       "    .dataframe tbody tr th:only-of-type {\n",
       "        vertical-align: middle;\n",
       "    }\n",
       "\n",
       "    .dataframe tbody tr th {\n",
       "        vertical-align: top;\n",
       "    }\n",
       "\n",
       "    .dataframe thead th {\n",
       "        text-align: right;\n",
       "    }\n",
       "</style>\n",
       "<table border=\"1\" class=\"dataframe\">\n",
       "  <thead>\n",
       "    <tr style=\"text-align: right;\">\n",
       "      <th></th>\n",
       "      <th>customer_unique_id</th>\n",
       "      <th>nb_orders</th>\n",
       "      <th>first_order_date</th>\n",
       "      <th>last_order_date</th>\n",
       "      <th>total_spent</th>\n",
       "      <th>avg_review_score</th>\n",
       "      <th>nb_payment_types</th>\n",
       "      <th>recency</th>\n",
       "      <th>avg_days_between_orders</th>\n",
       "    </tr>\n",
       "  </thead>\n",
       "  <tbody>\n",
       "    <tr>\n",
       "      <th>0</th>\n",
       "      <td>0000366f3b9a7992bf8c76cfdf3221e2</td>\n",
       "      <td>1</td>\n",
       "      <td>2018-05-10 10:56:27</td>\n",
       "      <td>2018-05-10 10:56:27</td>\n",
       "      <td>141.90</td>\n",
       "      <td>5.0</td>\n",
       "      <td>1</td>\n",
       "      <td>160</td>\n",
       "      <td>NaN</td>\n",
       "    </tr>\n",
       "    <tr>\n",
       "      <th>1</th>\n",
       "      <td>0000b849f77a49e4a4ce2b2a4ca5be3f</td>\n",
       "      <td>1</td>\n",
       "      <td>2018-05-07 11:11:27</td>\n",
       "      <td>2018-05-07 11:11:27</td>\n",
       "      <td>27.19</td>\n",
       "      <td>4.0</td>\n",
       "      <td>1</td>\n",
       "      <td>163</td>\n",
       "      <td>NaN</td>\n",
       "    </tr>\n",
       "    <tr>\n",
       "      <th>2</th>\n",
       "      <td>0000f46a3911fa3c0805444483337064</td>\n",
       "      <td>1</td>\n",
       "      <td>2017-03-10 21:05:03</td>\n",
       "      <td>2017-03-10 21:05:03</td>\n",
       "      <td>86.22</td>\n",
       "      <td>3.0</td>\n",
       "      <td>1</td>\n",
       "      <td>585</td>\n",
       "      <td>NaN</td>\n",
       "    </tr>\n",
       "    <tr>\n",
       "      <th>3</th>\n",
       "      <td>0000f6ccb0745a6a4b88665a16c9f078</td>\n",
       "      <td>1</td>\n",
       "      <td>2017-10-12 20:29:41</td>\n",
       "      <td>2017-10-12 20:29:41</td>\n",
       "      <td>43.62</td>\n",
       "      <td>4.0</td>\n",
       "      <td>1</td>\n",
       "      <td>369</td>\n",
       "      <td>NaN</td>\n",
       "    </tr>\n",
       "    <tr>\n",
       "      <th>4</th>\n",
       "      <td>0004aac84e0df4da2b147fca70cf8255</td>\n",
       "      <td>1</td>\n",
       "      <td>2017-11-14 19:45:42</td>\n",
       "      <td>2017-11-14 19:45:42</td>\n",
       "      <td>196.89</td>\n",
       "      <td>5.0</td>\n",
       "      <td>1</td>\n",
       "      <td>336</td>\n",
       "      <td>NaN</td>\n",
       "    </tr>\n",
       "    <tr>\n",
       "      <th>...</th>\n",
       "      <td>...</td>\n",
       "      <td>...</td>\n",
       "      <td>...</td>\n",
       "      <td>...</td>\n",
       "      <td>...</td>\n",
       "      <td>...</td>\n",
       "      <td>...</td>\n",
       "      <td>...</td>\n",
       "      <td>...</td>\n",
       "    </tr>\n",
       "    <tr>\n",
       "      <th>96091</th>\n",
       "      <td>fffcf5a5ff07b0908bd4e2dbc735a684</td>\n",
       "      <td>1</td>\n",
       "      <td>2017-06-08 21:00:36</td>\n",
       "      <td>2017-06-08 21:00:36</td>\n",
       "      <td>2067.42</td>\n",
       "      <td>5.0</td>\n",
       "      <td>1</td>\n",
       "      <td>495</td>\n",
       "      <td>NaN</td>\n",
       "    </tr>\n",
       "    <tr>\n",
       "      <th>96092</th>\n",
       "      <td>fffea47cd6d3cc0a88bd621562a9d061</td>\n",
       "      <td>1</td>\n",
       "      <td>2017-12-10 20:07:56</td>\n",
       "      <td>2017-12-10 20:07:56</td>\n",
       "      <td>84.58</td>\n",
       "      <td>4.0</td>\n",
       "      <td>1</td>\n",
       "      <td>310</td>\n",
       "      <td>NaN</td>\n",
       "    </tr>\n",
       "    <tr>\n",
       "      <th>96093</th>\n",
       "      <td>ffff371b4d645b6ecea244b27531430a</td>\n",
       "      <td>1</td>\n",
       "      <td>2017-02-07 15:49:16</td>\n",
       "      <td>2017-02-07 15:49:16</td>\n",
       "      <td>112.46</td>\n",
       "      <td>5.0</td>\n",
       "      <td>1</td>\n",
       "      <td>617</td>\n",
       "      <td>NaN</td>\n",
       "    </tr>\n",
       "    <tr>\n",
       "      <th>96094</th>\n",
       "      <td>ffff5962728ec6157033ef9805bacc48</td>\n",
       "      <td>1</td>\n",
       "      <td>2018-05-02 15:17:41</td>\n",
       "      <td>2018-05-02 15:17:41</td>\n",
       "      <td>133.69</td>\n",
       "      <td>5.0</td>\n",
       "      <td>1</td>\n",
       "      <td>168</td>\n",
       "      <td>NaN</td>\n",
       "    </tr>\n",
       "    <tr>\n",
       "      <th>96095</th>\n",
       "      <td>ffffd2657e2aad2907e67c3e9daecbeb</td>\n",
       "      <td>1</td>\n",
       "      <td>2017-05-02 20:18:45</td>\n",
       "      <td>2017-05-02 20:18:45</td>\n",
       "      <td>71.56</td>\n",
       "      <td>5.0</td>\n",
       "      <td>1</td>\n",
       "      <td>532</td>\n",
       "      <td>NaN</td>\n",
       "    </tr>\n",
       "  </tbody>\n",
       "</table>\n",
       "<p>96096 rows × 9 columns</p>\n",
       "</div>"
      ],
      "text/plain": [
       "                     customer_unique_id  nb_orders    first_order_date  \\\n",
       "0      0000366f3b9a7992bf8c76cfdf3221e2          1 2018-05-10 10:56:27   \n",
       "1      0000b849f77a49e4a4ce2b2a4ca5be3f          1 2018-05-07 11:11:27   \n",
       "2      0000f46a3911fa3c0805444483337064          1 2017-03-10 21:05:03   \n",
       "3      0000f6ccb0745a6a4b88665a16c9f078          1 2017-10-12 20:29:41   \n",
       "4      0004aac84e0df4da2b147fca70cf8255          1 2017-11-14 19:45:42   \n",
       "...                                 ...        ...                 ...   \n",
       "96091  fffcf5a5ff07b0908bd4e2dbc735a684          1 2017-06-08 21:00:36   \n",
       "96092  fffea47cd6d3cc0a88bd621562a9d061          1 2017-12-10 20:07:56   \n",
       "96093  ffff371b4d645b6ecea244b27531430a          1 2017-02-07 15:49:16   \n",
       "96094  ffff5962728ec6157033ef9805bacc48          1 2018-05-02 15:17:41   \n",
       "96095  ffffd2657e2aad2907e67c3e9daecbeb          1 2017-05-02 20:18:45   \n",
       "\n",
       "          last_order_date  total_spent  avg_review_score  nb_payment_types  \\\n",
       "0     2018-05-10 10:56:27       141.90               5.0                 1   \n",
       "1     2018-05-07 11:11:27        27.19               4.0                 1   \n",
       "2     2017-03-10 21:05:03        86.22               3.0                 1   \n",
       "3     2017-10-12 20:29:41        43.62               4.0                 1   \n",
       "4     2017-11-14 19:45:42       196.89               5.0                 1   \n",
       "...                   ...          ...               ...               ...   \n",
       "96091 2017-06-08 21:00:36      2067.42               5.0                 1   \n",
       "96092 2017-12-10 20:07:56        84.58               4.0                 1   \n",
       "96093 2017-02-07 15:49:16       112.46               5.0                 1   \n",
       "96094 2018-05-02 15:17:41       133.69               5.0                 1   \n",
       "96095 2017-05-02 20:18:45        71.56               5.0                 1   \n",
       "\n",
       "       recency  avg_days_between_orders  \n",
       "0          160                      NaN  \n",
       "1          163                      NaN  \n",
       "2          585                      NaN  \n",
       "3          369                      NaN  \n",
       "4          336                      NaN  \n",
       "...        ...                      ...  \n",
       "96091      495                      NaN  \n",
       "96092      310                      NaN  \n",
       "96093      617                      NaN  \n",
       "96094      168                      NaN  \n",
       "96095      532                      NaN  \n",
       "\n",
       "[96096 rows x 9 columns]"
      ]
     },
     "execution_count": 17,
     "metadata": {},
     "output_type": "execute_result"
    }
   ],
   "source": [
    "df_clients"
   ]
  },
  {
   "cell_type": "code",
   "execution_count": 18,
   "id": "c6a90b86",
   "metadata": {},
   "outputs": [
    {
     "data": {
      "text/plain": [
       "0 days 00:00:00      93356\n",
       "0 days 00:00:01        302\n",
       "0 days 00:00:02         81\n",
       "0 days 00:00:03         25\n",
       "0 days 00:00:04         11\n",
       "                     ...  \n",
       "67 days 08:40:29         1\n",
       "218 days 23:15:26        1\n",
       "73 days 23:43:00         1\n",
       "148 days 13:25:38        1\n",
       "204 days 01:57:22        1\n",
       "Name: count, Length: 2300, dtype: int64"
      ]
     },
     "execution_count": 18,
     "metadata": {},
     "output_type": "execute_result"
    }
   ],
   "source": [
    "(df_clients['last_order_date'] - df_clients['first_order_date']).value_counts()"
   ]
  },
  {
   "cell_type": "markdown",
   "id": "e1f6c1ad",
   "metadata": {},
   "source": [
    "### POur le moment nous avons des informations plutot interessantes. Nous pourrons en rajouter par la suite.\n",
    "### Nous pouvons nous commencer a regarder de plus pres les differentes manieres de clustering"
   ]
  },
  {
   "cell_type": "markdown",
   "id": "cb2347ea",
   "metadata": {},
   "source": [
    "#### Commencons par quelques verifications"
   ]
  },
  {
   "cell_type": "code",
   "execution_count": 19,
   "id": "b056c9c3",
   "metadata": {},
   "outputs": [
    {
     "data": {
      "text/plain": [
       "customer_unique_id             0\n",
       "nb_orders                      0\n",
       "first_order_date               0\n",
       "last_order_date                0\n",
       "total_spent                  676\n",
       "avg_review_score             716\n",
       "nb_payment_types               0\n",
       "recency                        0\n",
       "avg_days_between_orders    93099\n",
       "dtype: int64"
      ]
     },
     "execution_count": 19,
     "metadata": {},
     "output_type": "execute_result"
    }
   ],
   "source": [
    "df_clients.isnull().sum()"
   ]
  },
  {
   "cell_type": "markdown",
   "id": "876fd617",
   "metadata": {},
   "source": [
    "#### Ok nous remarquons que sur plusieurs features nous avons des valeurs null, total_spent / avg_review_score / avg_days_between_orders . Pour avg_days nous allopns comblers les valeurs null, qui correspondent au mono-acheteur par une valeur generique -1 par exemple."
   ]
  },
  {
   "cell_type": "code",
   "execution_count": 20,
   "id": "4fd5de99",
   "metadata": {},
   "outputs": [],
   "source": [
    "df_clients['avg_days_between_orders'].fillna(-1, inplace=True)"
   ]
  },
  {
   "cell_type": "code",
   "execution_count": 21,
   "id": "f3b605a0",
   "metadata": {},
   "outputs": [
    {
     "name": "stdout",
     "output_type": "stream",
     "text": [
      "(96096, 9)\n",
      "int64             3\n",
      "float64           3\n",
      "datetime64[ns]    2\n",
      "object            1\n",
      "Name: count, dtype: int64\n",
      "avg_review_score           716\n",
      "total_spent                676\n",
      "customer_unique_id           0\n",
      "nb_orders                    0\n",
      "first_order_date             0\n",
      "last_order_date              0\n",
      "nb_payment_types             0\n",
      "recency                      0\n",
      "avg_days_between_orders      0\n",
      "dtype: int64\n"
     ]
    }
   ],
   "source": [
    "print(df_clients.shape)\n",
    "print(df_clients.dtypes.value_counts())\n",
    "print(df_clients.isnull().sum().sort_values(ascending=False))"
   ]
  },
  {
   "cell_type": "code",
   "execution_count": 22,
   "id": "3c4387d1",
   "metadata": {},
   "outputs": [],
   "source": [
    "def filling_rate(dataframe):\n",
    "    \n",
    "    nb_rows, nb_columns = dataframe.shape\n",
    "\n",
    "    nb_data = dataframe.count().sum()\n",
    "\n",
    "    filling_rate = nb_data / (nb_rows * nb_columns)\n",
    "    print(\"The global filling rate of the DataFrame is : {:.2%}\".format(filling_rate))\n",
    "      \n",
    "    frequencies = [filling_rate, 1 - filling_rate]\n",
    "    labels = [\"Filled data\", \"Missing data\"]\n",
    "    \n",
    "    fig, ax = plt.subplots(figsize=(5, 5))\n",
    "    plt.title(\"Filling of the DataFrame\", fontsize=25)\n",
    "    ax.axis(\"equal\")\n",
    "    explode = (0.1, 0)\n",
    "\n",
    "    ax.pie(frequencies,\n",
    "           explode=explode,\n",
    "           # labels=labels,\n",
    "           autopct='%1.2f%%',\n",
    "           shadow=True,\n",
    "          )\n",
    "    plt.legend(labels)"
   ]
  },
  {
   "cell_type": "code",
   "execution_count": 23,
   "id": "70ff48fc",
   "metadata": {},
   "outputs": [
    {
     "name": "stdout",
     "output_type": "stream",
     "text": [
      "The global filling rate of the DataFrame is : 99.84%\n"
     ]
    },
    {
     "data": {
      "image/png": "[encoded data removed]",
      "text/plain": [
       "<Figure size 500x500 with 1 Axes>"
      ]
     },
     "metadata": {},
     "output_type": "display_data"
    }
   ],
   "source": [
    "filling_rate(df_clients)"
   ]
  },
  {
   "cell_type": "markdown",
   "id": "34b5afc6",
   "metadata": {},
   "source": [
    "#### Au vu de ce que represente le % des valeurs manquantes nous pouvons les supprimer"
   ]
  },
  {
   "cell_type": "code",
   "execution_count": 24,
   "id": "ea15095e",
   "metadata": {},
   "outputs": [
    {
     "data": {
      "text/html": [
       "<div>\n",
       "<style scoped>\n",
       "    .dataframe tbody tr th:only-of-type {\n",
       "        vertical-align: middle;\n",
       "    }\n",
       "\n",
       "    .dataframe tbody tr th {\n",
       "        vertical-align: top;\n",
       "    }\n",
       "\n",
       "    .dataframe thead th {\n",
       "        text-align: right;\n",
       "    }\n",
       "</style>\n",
       "<table border=\"1\" class=\"dataframe\">\n",
       "  <thead>\n",
       "    <tr style=\"text-align: right;\">\n",
       "      <th></th>\n",
       "      <th>customer_unique_id</th>\n",
       "      <th>nb_orders</th>\n",
       "      <th>first_order_date</th>\n",
       "      <th>last_order_date</th>\n",
       "      <th>total_spent</th>\n",
       "      <th>avg_review_score</th>\n",
       "      <th>nb_payment_types</th>\n",
       "      <th>recency</th>\n",
       "      <th>avg_days_between_orders</th>\n",
       "    </tr>\n",
       "  </thead>\n",
       "  <tbody>\n",
       "    <tr>\n",
       "      <th>count</th>\n",
       "      <td>96096</td>\n",
       "      <td>96096.000000</td>\n",
       "      <td>96096</td>\n",
       "      <td>96096</td>\n",
       "      <td>95420.000000</td>\n",
       "      <td>95380.000000</td>\n",
       "      <td>96096.000000</td>\n",
       "      <td>96096.000000</td>\n",
       "      <td>96096.000000</td>\n",
       "    </tr>\n",
       "    <tr>\n",
       "      <th>unique</th>\n",
       "      <td>96096</td>\n",
       "      <td>NaN</td>\n",
       "      <td>NaN</td>\n",
       "      <td>NaN</td>\n",
       "      <td>NaN</td>\n",
       "      <td>NaN</td>\n",
       "      <td>NaN</td>\n",
       "      <td>NaN</td>\n",
       "      <td>NaN</td>\n",
       "    </tr>\n",
       "    <tr>\n",
       "      <th>top</th>\n",
       "      <td>0000366f3b9a7992bf8c76cfdf3221e2</td>\n",
       "      <td>NaN</td>\n",
       "      <td>NaN</td>\n",
       "      <td>NaN</td>\n",
       "      <td>NaN</td>\n",
       "      <td>NaN</td>\n",
       "      <td>NaN</td>\n",
       "      <td>NaN</td>\n",
       "      <td>NaN</td>\n",
       "    </tr>\n",
       "    <tr>\n",
       "      <th>freq</th>\n",
       "      <td>1</td>\n",
       "      <td>NaN</td>\n",
       "      <td>NaN</td>\n",
       "      <td>NaN</td>\n",
       "      <td>NaN</td>\n",
       "      <td>NaN</td>\n",
       "      <td>NaN</td>\n",
       "      <td>NaN</td>\n",
       "      <td>NaN</td>\n",
       "    </tr>\n",
       "    <tr>\n",
       "      <th>mean</th>\n",
       "      <td>NaN</td>\n",
       "      <td>1.034809</td>\n",
       "      <td>2017-12-30 19:19:10.429206016</td>\n",
       "      <td>2018-01-02 12:40:19.655864832</td>\n",
       "      <td>174.426025</td>\n",
       "      <td>4.084696</td>\n",
       "      <td>1.026661</td>\n",
       "      <td>287.735691</td>\n",
       "      <td>0.307124</td>\n",
       "    </tr>\n",
       "    <tr>\n",
       "      <th>min</th>\n",
       "      <td>NaN</td>\n",
       "      <td>1.000000</td>\n",
       "      <td>2016-09-04 21:15:19</td>\n",
       "      <td>2016-09-04 21:15:19</td>\n",
       "      <td>10.070000</td>\n",
       "      <td>1.000000</td>\n",
       "      <td>0.000000</td>\n",
       "      <td>0.000000</td>\n",
       "      <td>-1.000000</td>\n",
       "    </tr>\n",
       "    <tr>\n",
       "      <th>25%</th>\n",
       "      <td>NaN</td>\n",
       "      <td>1.000000</td>\n",
       "      <td>2017-09-11 19:52:06</td>\n",
       "      <td>2017-09-15 09:04:17.249999872</td>\n",
       "      <td>64.010000</td>\n",
       "      <td>4.000000</td>\n",
       "      <td>1.000000</td>\n",
       "      <td>163.000000</td>\n",
       "      <td>-1.000000</td>\n",
       "    </tr>\n",
       "    <tr>\n",
       "      <th>50%</th>\n",
       "      <td>NaN</td>\n",
       "      <td>1.000000</td>\n",
       "      <td>2018-01-18 13:33:08</td>\n",
       "      <td>2018-01-21 19:39:16</td>\n",
       "      <td>110.915000</td>\n",
       "      <td>5.000000</td>\n",
       "      <td>1.000000</td>\n",
       "      <td>268.000000</td>\n",
       "      <td>-1.000000</td>\n",
       "    </tr>\n",
       "    <tr>\n",
       "      <th>75%</th>\n",
       "      <td>NaN</td>\n",
       "      <td>1.000000</td>\n",
       "      <td>2018-05-04 10:38:45</td>\n",
       "      <td>2018-05-06 20:14:49.750000128</td>\n",
       "      <td>188.940000</td>\n",
       "      <td>5.000000</td>\n",
       "      <td>1.000000</td>\n",
       "      <td>397.000000</td>\n",
       "      <td>-1.000000</td>\n",
       "    </tr>\n",
       "    <tr>\n",
       "      <th>max</th>\n",
       "      <td>NaN</td>\n",
       "      <td>17.000000</td>\n",
       "      <td>2018-10-17 17:30:18</td>\n",
       "      <td>2018-10-17 17:30:18</td>\n",
       "      <td>13664.080000</td>\n",
       "      <td>5.000000</td>\n",
       "      <td>3.000000</td>\n",
       "      <td>772.000000</td>\n",
       "      <td>304.000000</td>\n",
       "    </tr>\n",
       "    <tr>\n",
       "      <th>std</th>\n",
       "      <td>NaN</td>\n",
       "      <td>0.214384</td>\n",
       "      <td>NaN</td>\n",
       "      <td>NaN</td>\n",
       "      <td>264.680442</td>\n",
       "      <td>1.342024</td>\n",
       "      <td>0.162314</td>\n",
       "      <td>153.414676</td>\n",
       "      <td>12.090325</td>\n",
       "    </tr>\n",
       "  </tbody>\n",
       "</table>\n",
       "</div>"
      ],
      "text/plain": [
       "                      customer_unique_id     nb_orders  \\\n",
       "count                              96096  96096.000000   \n",
       "unique                             96096           NaN   \n",
       "top     0000366f3b9a7992bf8c76cfdf3221e2           NaN   \n",
       "freq                                   1           NaN   \n",
       "mean                                 NaN      1.034809   \n",
       "min                                  NaN      1.000000   \n",
       "25%                                  NaN      1.000000   \n",
       "50%                                  NaN      1.000000   \n",
       "75%                                  NaN      1.000000   \n",
       "max                                  NaN     17.000000   \n",
       "std                                  NaN      0.214384   \n",
       "\n",
       "                     first_order_date                last_order_date  \\\n",
       "count                           96096                          96096   \n",
       "unique                            NaN                            NaN   \n",
       "top                               NaN                            NaN   \n",
       "freq                              NaN                            NaN   \n",
       "mean    2017-12-30 19:19:10.429206016  2018-01-02 12:40:19.655864832   \n",
       "min               2016-09-04 21:15:19            2016-09-04 21:15:19   \n",
       "25%               2017-09-11 19:52:06  2017-09-15 09:04:17.249999872   \n",
       "50%               2018-01-18 13:33:08            2018-01-21 19:39:16   \n",
       "75%               2018-05-04 10:38:45  2018-05-06 20:14:49.750000128   \n",
       "max               2018-10-17 17:30:18            2018-10-17 17:30:18   \n",
       "std                               NaN                            NaN   \n",
       "\n",
       "         total_spent  avg_review_score  nb_payment_types       recency  \\\n",
       "count   95420.000000      95380.000000      96096.000000  96096.000000   \n",
       "unique           NaN               NaN               NaN           NaN   \n",
       "top              NaN               NaN               NaN           NaN   \n",
       "freq             NaN               NaN               NaN           NaN   \n",
       "mean      174.426025          4.084696          1.026661    287.735691   \n",
       "min        10.070000          1.000000          0.000000      0.000000   \n",
       "25%        64.010000          4.000000          1.000000    163.000000   \n",
       "50%       110.915000          5.000000          1.000000    268.000000   \n",
       "75%       188.940000          5.000000          1.000000    397.000000   \n",
       "max     13664.080000          5.000000          3.000000    772.000000   \n",
       "std       264.680442          1.342024          0.162314    153.414676   \n",
       "\n",
       "        avg_days_between_orders  \n",
       "count              96096.000000  \n",
       "unique                      NaN  \n",
       "top                         NaN  \n",
       "freq                        NaN  \n",
       "mean                   0.307124  \n",
       "min                   -1.000000  \n",
       "25%                   -1.000000  \n",
       "50%                   -1.000000  \n",
       "75%                   -1.000000  \n",
       "max                  304.000000  \n",
       "std                   12.090325  "
      ]
     },
     "execution_count": 24,
     "metadata": {},
     "output_type": "execute_result"
    }
   ],
   "source": [
    "df_clients.describe(include='all')"
   ]
  },
  {
   "cell_type": "code",
   "execution_count": 25,
   "id": "bce7f72c",
   "metadata": {},
   "outputs": [],
   "source": [
    "df_clients.dropna(subset=['total_spent', 'avg_review_score'], inplace=True)"
   ]
  },
  {
   "cell_type": "markdown",
   "id": "a56bec85",
   "metadata": {},
   "source": [
    "#### Nous allons selectionner nous features numeriques les plus pertinentes"
   ]
  },
  {
   "cell_type": "code",
   "execution_count": 26,
   "id": "564a7d97",
   "metadata": {},
   "outputs": [],
   "source": [
    "features = [\n",
    "    'recency',\n",
    "    'nb_orders',\n",
    "    'total_spent',\n",
    "    'avg_review_score',\n",
    "    'nb_payment_types',\n",
    "    'avg_days_between_orders'\n",
    "]\n",
    "\n",
    "X = df_clients[features]"
   ]
  },
  {
   "cell_type": "markdown",
   "id": "ab9b68bb",
   "metadata": {},
   "source": [
    "#### Nous travaillons avec des valeurs de differentes echelles, nous allons donc devoir passer par une etape de normalisation"
   ]
  },
  {
   "cell_type": "code",
   "execution_count": 27,
   "id": "93b335f4",
   "metadata": {},
   "outputs": [],
   "source": [
    "scaler = StandardScaler()\n",
    "X_scaled = scaler.fit_transform(X)"
   ]
  },
  {
   "cell_type": "code",
   "execution_count": 28,
   "id": "f6a148f7",
   "metadata": {},
   "outputs": [
    {
     "data": {
      "text/plain": [
       "nb_orders\n",
       "1     91741\n",
       "2      2729\n",
       "3       202\n",
       "4        30\n",
       "5         8\n",
       "6         6\n",
       "7         3\n",
       "9         1\n",
       "17        1\n",
       "Name: count, dtype: int64"
      ]
     },
     "execution_count": 28,
     "metadata": {},
     "output_type": "execute_result"
    }
   ],
   "source": [
    "X[\"nb_orders\"].value_counts()"
   ]
  },
  {
   "cell_type": "code",
   "execution_count": 29,
   "id": "b5434506",
   "metadata": {},
   "outputs": [
    {
     "data": {
      "text/plain": [
       "nb_orders\n",
       "-0.163040     91741\n",
       " 4.478769      2729\n",
       " 9.120579       202\n",
       " 13.762388       30\n",
       " 18.404197        8\n",
       " 23.046007        6\n",
       " 27.687816        3\n",
       " 36.971434        1\n",
       " 74.105909        1\n",
       "Name: count, dtype: int64"
      ]
     },
     "execution_count": 29,
     "metadata": {},
     "output_type": "execute_result"
    }
   ],
   "source": [
    "pd.DataFrame(X_scaled, columns=features)[\"nb_orders\"].value_counts()"
   ]
  },
  {
   "cell_type": "markdown",
   "id": "02df4608",
   "metadata": {},
   "source": [
    "#### Notre scaler a bien conserve l'importance des valeurs importantes. Ce qui est primordiale pour ne pas perdre l'importance/impact de nos plus gros clients"
   ]
  },
  {
   "cell_type": "markdown",
   "id": "8bb01754",
   "metadata": {},
   "source": [
    "## Maintenant nous allons devoir trouver le bon nombre de K cluster. Pour ca nous allons passer par la methode du coude"
   ]
  },
  {
   "cell_type": "code",
   "execution_count": 32,
   "id": "3265e275",
   "metadata": {},
   "outputs": [
    {
     "name": "stderr",
     "output_type": "stream",
     "text": [
      "c:\\Users\\cosic\\AppData\\Local\\Programs\\Python\\Python311\\Lib\\site-packages\\sklearn\\cluster\\_kmeans.py:1412: FutureWarning: The default value of `n_init` will change from 10 to 'auto' in 1.4. Set the value of `n_init` explicitly to suppress the warning\n",
      "  super()._check_params_vs_input(X, default_n_init=10)\n",
      "c:\\Users\\cosic\\AppData\\Local\\Programs\\Python\\Python311\\Lib\\site-packages\\sklearn\\cluster\\_kmeans.py:1412: FutureWarning: The default value of `n_init` will change from 10 to 'auto' in 1.4. Set the value of `n_init` explicitly to suppress the warning\n",
      "  super()._check_params_vs_input(X, default_n_init=10)\n",
      "c:\\Users\\cosic\\AppData\\Local\\Programs\\Python\\Python311\\Lib\\site-packages\\sklearn\\cluster\\_kmeans.py:1412: FutureWarning: The default value of `n_init` will change from 10 to 'auto' in 1.4. Set the value of `n_init` explicitly to suppress the warning\n",
      "  super()._check_params_vs_input(X, default_n_init=10)\n",
      "c:\\Users\\cosic\\AppData\\Local\\Programs\\Python\\Python311\\Lib\\site-packages\\sklearn\\cluster\\_kmeans.py:1412: FutureWarning: The default value of `n_init` will change from 10 to 'auto' in 1.4. Set the value of `n_init` explicitly to suppress the warning\n",
      "  super()._check_params_vs_input(X, default_n_init=10)\n",
      "c:\\Users\\cosic\\AppData\\Local\\Programs\\Python\\Python311\\Lib\\site-packages\\sklearn\\cluster\\_kmeans.py:1412: FutureWarning: The default value of `n_init` will change from 10 to 'auto' in 1.4. Set the value of `n_init` explicitly to suppress the warning\n",
      "  super()._check_params_vs_input(X, default_n_init=10)\n",
      "c:\\Users\\cosic\\AppData\\Local\\Programs\\Python\\Python311\\Lib\\site-packages\\sklearn\\cluster\\_kmeans.py:1412: FutureWarning: The default value of `n_init` will change from 10 to 'auto' in 1.4. Set the value of `n_init` explicitly to suppress the warning\n",
      "  super()._check_params_vs_input(X, default_n_init=10)\n",
      "c:\\Users\\cosic\\AppData\\Local\\Programs\\Python\\Python311\\Lib\\site-packages\\sklearn\\cluster\\_kmeans.py:1412: FutureWarning: The default value of `n_init` will change from 10 to 'auto' in 1.4. Set the value of `n_init` explicitly to suppress the warning\n",
      "  super()._check_params_vs_input(X, default_n_init=10)\n",
      "c:\\Users\\cosic\\AppData\\Local\\Programs\\Python\\Python311\\Lib\\site-packages\\sklearn\\cluster\\_kmeans.py:1412: FutureWarning: The default value of `n_init` will change from 10 to 'auto' in 1.4. Set the value of `n_init` explicitly to suppress the warning\n",
      "  super()._check_params_vs_input(X, default_n_init=10)\n"
     ]
    },
    {
     "data": {
      "image/png": "[encoded data removed]",
      "text/plain": [
       "<Figure size 800x550 with 2 Axes>"
      ]
     },
     "metadata": {},
     "output_type": "display_data"
    },
    {
     "data": {
      "text/plain": [
       "<Axes: title={'center': 'Distortion Score Elbow for KMeans Clustering'}, xlabel='k', ylabel='distortion score'>"
      ]
     },
     "execution_count": 32,
     "metadata": {},
     "output_type": "execute_result"
    }
   ],
   "source": [
    "model = KMeans()\n",
    "visualizer = KElbowVisualizer(model, k=(4,12))\n",
    "\n",
    "visualizer.fit(X_scaled)\n",
    "visualizer.poof()"
   ]
  },
  {
   "cell_type": "code",
   "execution_count": 42,
   "id": "bed6dcc6",
   "metadata": {},
   "outputs": [
    {
     "name": "stderr",
     "output_type": "stream",
     "text": [
      "c:\\Users\\cosic\\AppData\\Local\\Programs\\Python\\Python311\\Lib\\site-packages\\sklearn\\cluster\\_kmeans.py:1412: FutureWarning: The default value of `n_init` will change from 10 to 'auto' in 1.4. Set the value of `n_init` explicitly to suppress the warning\n",
      "  super()._check_params_vs_input(X, default_n_init=10)\n"
     ]
    },
    {
     "data": {
      "image/png": "[encoded data removed]",
      "text/plain": [
       "<Figure size 800x550 with 1 Axes>"
      ]
     },
     "metadata": {},
     "output_type": "display_data"
    },
    {
     "data": {
      "text/plain": [
       "<Axes: title={'center': 'Silhouette Plot of KMeans Clustering for 94721 Samples in 7 Centers'}, xlabel='silhouette coefficient values', ylabel='cluster label'>"
      ]
     },
     "execution_count": 42,
     "metadata": {},
     "output_type": "execute_result"
    }
   ],
   "source": [
    "model_2 = KMeans(7)\n",
    "visualizer = SilhouetteVisualizer(model_2)\n",
    "\n",
    "visualizer.fit(X_scaled)\n",
    "visualizer.poof()"
   ]
  },
  {
   "cell_type": "markdown",
   "id": "5b030560",
   "metadata": {},
   "source": [
    "#### Ce score de silouhette est calcule en faisant la moyenne du coefficient de silhouette pour chaque échantillon, qui correspond à la différence entre la distance moyenne intra-grappe et la distance moyenne entre les grappes les plus proches pour chaque échantillon, normalisée par la valeur maximale.\n",
    "#### On retrouve donc un score entre -1 et 1 où les scores proches de 1 indiquent une forte séparation et les scores proches de -1 indiquent que les échantillons peuvent avoir été assignés au mauvais groupe."
   ]
  },
  {
   "cell_type": "markdown",
   "id": "b649ef63",
   "metadata": {},
   "source": [
    "#### Nous obtenons donc un K = 7"
   ]
  },
  {
   "cell_type": "code",
   "execution_count": 34,
   "id": "a1255b97",
   "metadata": {},
   "outputs": [
    {
     "name": "stdout",
     "output_type": "stream",
     "text": [
      "Le nombre optimal de clusters est :  7\n"
     ]
    }
   ],
   "source": [
    "# Nous pouvons recuperer le nombre de clusters optimal de cette facon \n",
    "opt_k = visualizer.elbow_value_\n",
    "print(\"Le nombre optimal de clusters est : \", opt_k)"
   ]
  },
  {
   "cell_type": "code",
   "execution_count": 35,
   "id": "af44227d",
   "metadata": {},
   "outputs": [
    {
     "name": "stderr",
     "output_type": "stream",
     "text": [
      "c:\\Users\\cosic\\AppData\\Local\\Programs\\Python\\Python311\\Lib\\site-packages\\sklearn\\cluster\\_kmeans.py:1412: FutureWarning: The default value of `n_init` will change from 10 to 'auto' in 1.4. Set the value of `n_init` explicitly to suppress the warning\n",
      "  super()._check_params_vs_input(X, default_n_init=10)\n"
     ]
    }
   ],
   "source": [
    "optimal_k = opt_k\n",
    "final_model = KMeans(n_clusters=optimal_k, random_state=42)\n",
    "df_clients['cluster'] = final_model.fit_predict(X_scaled)"
   ]
  },
  {
   "cell_type": "code",
   "execution_count": 38,
   "id": "347129f1",
   "metadata": {},
   "outputs": [
    {
     "data": {
      "text/plain": [
       "cluster\n",
       "0    41254\n",
       "5    31125\n",
       "3    16180\n",
       "2     2283\n",
       "1     2004\n",
       "6     1209\n",
       "4      666\n",
       "Name: count, dtype: int64"
      ]
     },
     "execution_count": 38,
     "metadata": {},
     "output_type": "execute_result"
    }
   ],
   "source": [
    "df_clients['cluster'].value_counts()"
   ]
  },
  {
   "cell_type": "markdown",
   "id": "3afa68c1",
   "metadata": {},
   "source": [
    "#### Nous allons mener quelques analyses sur ces clusters"
   ]
  },
  {
   "cell_type": "code",
   "execution_count": 40,
   "id": "3168843a",
   "metadata": {},
   "outputs": [
    {
     "data": {
      "text/html": [
       "<div>\n",
       "<style scoped>\n",
       "    .dataframe tbody tr th:only-of-type {\n",
       "        vertical-align: middle;\n",
       "    }\n",
       "\n",
       "    .dataframe tbody tr th {\n",
       "        vertical-align: top;\n",
       "    }\n",
       "\n",
       "    .dataframe thead th {\n",
       "        text-align: right;\n",
       "    }\n",
       "</style>\n",
       "<table border=\"1\" class=\"dataframe\">\n",
       "  <thead>\n",
       "    <tr style=\"text-align: right;\">\n",
       "      <th></th>\n",
       "      <th>recency</th>\n",
       "      <th>nb_orders</th>\n",
       "      <th>total_spent</th>\n",
       "      <th>avg_review_score</th>\n",
       "      <th>nb_payment_types</th>\n",
       "      <th>avg_days_between_orders</th>\n",
       "    </tr>\n",
       "    <tr>\n",
       "      <th>cluster</th>\n",
       "      <th></th>\n",
       "      <th></th>\n",
       "      <th></th>\n",
       "      <th></th>\n",
       "      <th></th>\n",
       "      <th></th>\n",
       "    </tr>\n",
       "  </thead>\n",
       "  <tbody>\n",
       "    <tr>\n",
       "      <th>0</th>\n",
       "      <td>170.350536</td>\n",
       "      <td>1.000000</td>\n",
       "      <td>140.890480</td>\n",
       "      <td>4.677449</td>\n",
       "      <td>1.000000</td>\n",
       "      <td>-1.000000</td>\n",
       "    </tr>\n",
       "    <tr>\n",
       "      <th>1</th>\n",
       "      <td>295.977046</td>\n",
       "      <td>2.132735</td>\n",
       "      <td>318.940758</td>\n",
       "      <td>4.090499</td>\n",
       "      <td>1.020459</td>\n",
       "      <td>15.048014</td>\n",
       "    </tr>\n",
       "    <tr>\n",
       "      <th>2</th>\n",
       "      <td>301.773544</td>\n",
       "      <td>1.125274</td>\n",
       "      <td>313.809019</td>\n",
       "      <td>4.074018</td>\n",
       "      <td>2.006570</td>\n",
       "      <td>1.897249</td>\n",
       "    </tr>\n",
       "    <tr>\n",
       "      <th>3</th>\n",
       "      <td>287.487206</td>\n",
       "      <td>1.000000</td>\n",
       "      <td>161.416693</td>\n",
       "      <td>1.621508</td>\n",
       "      <td>0.999938</td>\n",
       "      <td>-1.000000</td>\n",
       "    </tr>\n",
       "    <tr>\n",
       "      <th>4</th>\n",
       "      <td>186.881381</td>\n",
       "      <td>2.106607</td>\n",
       "      <td>316.342117</td>\n",
       "      <td>4.270158</td>\n",
       "      <td>1.228228</td>\n",
       "      <td>128.566772</td>\n",
       "    </tr>\n",
       "    <tr>\n",
       "      <th>5</th>\n",
       "      <td>441.318972</td>\n",
       "      <td>1.000000</td>\n",
       "      <td>141.747753</td>\n",
       "      <td>4.633863</td>\n",
       "      <td>1.000000</td>\n",
       "      <td>-1.000000</td>\n",
       "    </tr>\n",
       "    <tr>\n",
       "      <th>6</th>\n",
       "      <td>294.399504</td>\n",
       "      <td>1.028122</td>\n",
       "      <td>1734.095988</td>\n",
       "      <td>3.940072</td>\n",
       "      <td>1.031431</td>\n",
       "      <td>-0.721323</td>\n",
       "    </tr>\n",
       "  </tbody>\n",
       "</table>\n",
       "</div>"
      ],
      "text/plain": [
       "            recency  nb_orders  total_spent  avg_review_score  \\\n",
       "cluster                                                         \n",
       "0        170.350536   1.000000   140.890480          4.677449   \n",
       "1        295.977046   2.132735   318.940758          4.090499   \n",
       "2        301.773544   1.125274   313.809019          4.074018   \n",
       "3        287.487206   1.000000   161.416693          1.621508   \n",
       "4        186.881381   2.106607   316.342117          4.270158   \n",
       "5        441.318972   1.000000   141.747753          4.633863   \n",
       "6        294.399504   1.028122  1734.095988          3.940072   \n",
       "\n",
       "         nb_payment_types  avg_days_between_orders  \n",
       "cluster                                             \n",
       "0                1.000000                -1.000000  \n",
       "1                1.020459                15.048014  \n",
       "2                2.006570                 1.897249  \n",
       "3                0.999938                -1.000000  \n",
       "4                1.228228               128.566772  \n",
       "5                1.000000                -1.000000  \n",
       "6                1.031431                -0.721323  "
      ]
     },
     "execution_count": 40,
     "metadata": {},
     "output_type": "execute_result"
    }
   ],
   "source": [
    "df_clusters = df_clients.groupby('cluster')[features].mean()\n",
    "df_clusters"
   ]
  },
  {
   "cell_type": "code",
   "execution_count": 41,
   "id": "3141240a",
   "metadata": {},
   "outputs": [
    {
     "data": {
      "image/png": "[encoded data removed]",
      "text/plain": [
       "<Figure size 800x500 with 1 Axes>"
      ]
     },
     "metadata": {},
     "output_type": "display_data"
    }
   ],
   "source": [
    "plt.figure(figsize=(8, 5))\n",
    "sns.countplot(data=df_clients, x='cluster')\n",
    "plt.xlabel(\"Cluster\")\n",
    "plt.ylabel(\"Nombre de clients\")\n",
    "plt.title(\"Répartition des clients par cluster (k = 7)\")\n",
    "plt.show()"
   ]
  },
  {
   "cell_type": "code",
   "execution_count": null,
   "id": "2fd8ba03",
   "metadata": {},
   "outputs": [],
   "source": []
  }
 ],
 "metadata": {
  "kernelspec": {
   "display_name": "Python 3",
   "language": "python",
   "name": "python3"
  },
  "language_info": {
   "codemirror_mode": {
    "name": "ipython",
    "version": 3
   },
   "file_extension": ".py",
   "mimetype": "text/x-python",
   "name": "python",
   "nbconvert_exporter": "python",
   "pygments_lexer": "ipython3",
   "version": "3.11.4"
  }
 },
 "nbformat": 4,
 "nbformat_minor": 5
}
